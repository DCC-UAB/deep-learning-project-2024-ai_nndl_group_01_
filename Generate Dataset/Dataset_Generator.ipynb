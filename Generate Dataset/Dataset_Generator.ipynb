{
 "cells": [
  {
   "cell_type": "markdown",
   "metadata": {},
   "source": [
    "## **Dataset Generator**"
   ]
  },
  {
   "cell_type": "markdown",
   "metadata": {},
   "source": [
    "- To generate a simpler dataset for the PHOC model using fonts downloaded from the internet"
   ]
  },
  {
   "cell_type": "markdown",
   "metadata": {},
   "source": [
    "### Directory handling"
   ]
  },
  {
   "cell_type": "code",
   "execution_count": null,
   "metadata": {},
   "outputs": [],
   "source": [
    "annotations_file = \"Path to annotations file (lexicon.txt)\"\n",
    "img_dir_train = \"Path to training images\"\n",
    "img_dir_test = \"Path to testing images\"\n",
    "font_folder_path = 'Path to font folder'"
   ]
  },
  {
   "cell_type": "code",
   "execution_count": null,
   "metadata": {},
   "outputs": [],
   "source": [
    "# Libraries\n",
    "!pip install random_word\n",
    "import cv2 \n",
    "import matplotlib.pyplot as plt\n",
    "from PIL import Image, ImageDraw, ImageFont\n",
    "import random\n",
    "import os\n",
    "from random_word import RandomWords"
   ]
  },
  {
   "cell_type": "markdown",
   "metadata": {},
   "source": [
    "### Generating data set"
   ]
  },
  {
   "cell_type": "code",
   "execution_count": null,
   "metadata": {},
   "outputs": [],
   "source": [
    "fonts = [\"Arial.ttf\", \"calibri.ttf\", \"COMICSANS.TTF\", \"helvetica.ttf\"]\n",
    "\n",
    "# Open the annotations file and read the list of words\n",
    "with open(annotations_file, \"r\") as file:\n",
    "    list_of_words = file.readlines()\n",
    "\n",
    "# Strip any extra whitespace characters from the words\n",
    "list_of_words = [l.strip() for l in list_of_words]\n",
    "# Shuffle the list of words to ensure randomness\n",
    "random.shuffle(list_of_words)\n",
    "\n",
    "# Split the list into training and test sets (90% for training, 10% for testing)\n",
    "split_index = int(0.9 * len(list_of_words))\n",
    "train_words = list_of_words[:split_index]\n",
    "test_words = list_of_words[split_index:]\n",
    "\n",
    "# Function to generate images from a list of words\n",
    "def generate_images(words, n, images_dir):\n",
    "    for i in range(n):\n",
    "        xy = [0, 0]  # Initial coordinates for text placement\n",
    "        new_str = random.choice(words)  # Choose a random word from the list\n",
    "        font = random.choice(fonts)  # Choose a random font from the list\n",
    "        font = ImageFont.truetype(font_folder_path + '/' + font, random.randint(25, 40), encoding=\"unic\")\n",
    "\n",
    "        # Get the bounding box of the text to determine the size of the image\n",
    "        _, _, w, h = font.getbbox(new_str)\n",
    "        offset = (random.randint(10, 20), random.randint(40, 60))  # Random offset for text placement\n",
    "        size = (w + offset[0], h + offset[1]) \n",
    "        img = Image.new(\"L\", size=size, color=\"white\")  # Create a new image with a white background\n",
    "\n",
    "        draw = ImageDraw.Draw(img)  # Create a drawing context\n",
    "        xy = (offset[0] / 2, offset[1] / 2) \n",
    "        draw.text(xy, new_str, font=font, fill=\"black\")  # Draw the text on the image\n",
    "\n",
    "        img.save(os.path.join(images_dir, f\"{i}_{new_str}.jpg\"))\n",
    "\n",
    "\n",
    "# Generate images for training and testing sets\n",
    "generate_images(train_words, 50000, img_dir_train)\n",
    "generate_images(test_words, 5000, img_dir_test)"
   ]
  },
  {
   "cell_type": "markdown",
   "metadata": {},
   "source": [
    "### Visualizing some images"
   ]
  },
  {
   "cell_type": "code",
   "execution_count": null,
   "metadata": {},
   "outputs": [],
   "source": [
    "img = cv2.imread('Image path')\n",
    "plt.imshow(img)\n",
    "plt.show()\n",
    "print(\"Dimensions of the first image:\", img.shape)\n",
    "\n",
    "img = cv2.imread('Image path')\n",
    "plt.imshow(img)\n",
    "plt.show()\n",
    "print(\"Dimensions of the second image:\", img.shape)"
   ]
  }
 ],
 "metadata": {
  "kernelspec": {
   "display_name": "azureml_py38_PT_and_TF",
   "language": "python",
   "name": "python3"
  },
  "language_info": {
   "codemirror_mode": {
    "name": "ipython",
    "version": 3
   },
   "file_extension": ".py",
   "mimetype": "text/x-python",
   "name": "python",
   "nbconvert_exporter": "python",
   "pygments_lexer": "ipython3",
   "version": "3.8.5"
  }
 },
 "nbformat": 4,
 "nbformat_minor": 2
}
