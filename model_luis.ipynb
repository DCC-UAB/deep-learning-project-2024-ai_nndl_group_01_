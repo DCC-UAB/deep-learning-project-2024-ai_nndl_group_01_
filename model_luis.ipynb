{
 "cells": [
  {
   "cell_type": "code",
   "execution_count": 1,
   "metadata": {},
   "outputs": [],
   "source": [
    "path_synthetic = 'Synthetic'"
   ]
  },
  {
   "cell_type": "code",
   "execution_count": 2,
   "metadata": {},
   "outputs": [
    {
     "name": "stderr",
     "output_type": "stream",
     "text": [
      "c:\\Users\\Usuario\\anaconda3\\envs\\DeepLearning\\Lib\\site-packages\\torchvision\\io\\image.py:13: UserWarning: Failed to load image Python extension: '[WinError 127] No se encontró el proceso especificado'If you don't plan on using image functionality from `torchvision.io`, you can ignore this warning. Otherwise, there might be something wrong with your environment. Did you have `libjpeg` or `libpng` installed before building `torchvision` from source?\n",
      "  warn(\n"
     ]
    }
   ],
   "source": [
    "import pandas as pd\n",
    "import os\n",
    "from PIL import Image\n",
    "from torch.utils.data import Dataset, DataLoader\n",
    "from torchvision import transforms\n",
    "\n",
    "import torch\n",
    "import torch.nn as nn\n",
    "import torch.optim as optim\n",
    "import wandb"
   ]
  },
  {
   "cell_type": "code",
   "execution_count": null,
   "metadata": {},
   "outputs": [],
   "source": [
    "import os\n",
    "import pandas as pd\n",
    "\n",
    "# Function to extract image paths and labels with corrected paths, starting from the first files\n",
    "def extract_image_paths_and_labels_corrected(annotation_file, base_folder, num_images):\n",
    "    image_paths = []\n",
    "    labels = []\n",
    "    with open(annotation_file, 'r') as f:\n",
    "        lines = f.readlines()\n",
    "    \n",
    "    lines.sort()  # Sort the lines to ensure we start from the first files\n",
    "    \n",
    "    for line in lines:\n",
    "        parts = line.strip().split()\n",
    "        if len(parts) < 2:\n",
    "            continue\n",
    "        image_path, _ = parts\n",
    "        label = image_path.split('_')[1]\n",
    "        # Correct the path separators\n",
    "        corrected_image_path = os.path.join(base_folder, image_path[2:]).replace('\\\\', '/')\n",
    "        image_paths.append(corrected_image_path)\n",
    "        labels.append(label)\n",
    "        if len(image_paths) >= num_images:\n",
    "            break\n",
    "    return image_paths, labels\n",
    "\n",
    "\n",
    "# Paths to annotation files and base folders\n",
    "training_folder = 'Synthetic/training_folder'\n",
    "validation_folder = 'Synthetic/validation_folder'\n",
    "test_folder = 'Synthetic/test_folder'\n",
    "\n",
    "annotation_train_file = 'Synthetic/annotation_train.txt'\n",
    "annotation_val_file = 'Synthetic/annotation_val.txt'\n",
    "annotation_test_file = 'Synthetic/annotation_test.txt'\n",
    "\n",
    "# Extract data with corrected image paths\n",
    "train_images, train_labels = extract_image_paths_and_labels_corrected(annotation_train_file, training_folder, 200000)\n",
    "val_images, val_labels = extract_image_paths_and_labels_corrected(annotation_val_file, validation_folder, 10000)\n",
    "test_images, test_labels = extract_image_paths_and_labels_corrected(annotation_test_file, test_folder, 10000)\n",
    "\n",
    "# Create dataframes\n",
    "train_df = pd.DataFrame({'image_path': train_images, 'label': train_labels})\n",
    "val_df = pd.DataFrame({'image_path': val_images, 'label': val_labels})\n",
    "test_df = pd.DataFrame({'image_path': test_images, 'label': test_labels})\n",
    "\n",
    "# Save to CSV files\n",
    "train_df.to_csv('train_data.csv', index=False)\n",
    "val_df.to_csv('val_data.csv', index=False)\n",
    "test_df.to_csv('test_data.csv', index=False)\n",
    "\n",
    "# Create dictionaries from the dataframes\n",
    "train_dict = train_df.to_dict(orient='records')\n",
    "val_dict = val_df.to_dict(orient='records')\n",
    "test_dict = test_df.to_dict(orient='records')"
   ]
  },
  {
   "cell_type": "code",
   "execution_count": 3,
   "metadata": {},
   "outputs": [],
   "source": [
    "train_data = pd.read_csv(\"train_data.csv\")\n",
    "test_data = pd.read_csv(\"test_data.csv\")\n",
    "val_data = pd.read_csv(\"val_data.csv\")"
   ]
  },
  {
   "cell_type": "code",
   "execution_count": 44,
   "metadata": {},
   "outputs": [],
   "source": [
    "l =  train_data['label'].tolist()"
   ]
  },
  {
   "cell_type": "code",
   "execution_count": 51,
   "metadata": {},
   "outputs": [
    {
     "name": "stdout",
     "output_type": "stream",
     "text": [
      "hay\n"
     ]
    }
   ],
   "source": [
    "if 'GUNS' in l:\n",
    "    print(\"hay\")"
   ]
  },
  {
   "cell_type": "code",
   "execution_count": 8,
   "metadata": {},
   "outputs": [
    {
     "name": "stdout",
     "output_type": "stream",
     "text": [
      "(31, 81, 3)\n"
     ]
    },
    {
     "data": {
      "image/png": "[encoded data removed]",
      "text/plain": [
       "<Figure size 640x480 with 1 Axes>"
      ]
     },
     "metadata": {},
     "output_type": "display_data"
    },
    {
     "ename": "",
     "evalue": "",
     "output_type": "error",
     "traceback": [
      "\u001b[1;31mThe Kernel crashed while executing code in the current cell or a previous cell. \n",
      "\u001b[1;31mPlease review the code in the cell(s) to identify a possible cause of the failure. \n",
      "\u001b[1;31mClick <a href='https://aka.ms/vscodeJupyterKernelCrash'>here</a> for more info. \n",
      "\u001b[1;31mView Jupyter <a href='command:jupyter.viewOutput'>log</a> for further details."
     ]
    }
   ],
   "source": [
    "import cv2\n",
    "import matplotlib.pyplot as plt\n",
    "img = cv2.imread('Synthetic/training_folder/1/1/100_Classmates_13991.jpg')\n",
    "\n",
    "cv2.imshow('image', img)\n",
    "plt.imshow(img)\n",
    "print(img.shape)"
   ]
  },
  {
   "cell_type": "code",
   "execution_count": 4,
   "metadata": {},
   "outputs": [],
   "source": [
    "import numpy as np\n",
    "\n",
    "def build_phoc(words, phoc_unigrams, unigram_levels, phoc_bigrams=None, bigram_levels=None, split_character=None):\n",
    "    '''\n",
    "    Calculate Pyramidal Histogram of Characters (PHOC) descriptor (see Almazan 2014).\n",
    "    Args:\n",
    "        words (list of str): list of words to calculate descriptor for\n",
    "        phoc_unigrams (str): string of all unigrams to use in the PHOC\n",
    "        unigram_levels (list of int): the levels for the unigrams in PHOC\n",
    "        phoc_bigrams (list of str): list of bigrams to be used in the PHOC\n",
    "        bigram_levels (list of int): the levels of the bigrams in the PHOC\n",
    "        split_character (str): special character to split the word strings into characters (default is None)\n",
    "    Returns:\n",
    "        the PHOC for the given words as a numpy array\n",
    "    '''\n",
    "    if split_character is None:\n",
    "        split_character = ''\n",
    "    \n",
    "    # normalized occupancy interval\n",
    "    def occupancy(k, n):\n",
    "        return (k / n, (k + 1) / n)\n",
    "\n",
    "    # overlap between two intervals\n",
    "    def overlap(a, b):\n",
    "        return max(0, min(a[1], b[1]) - max(a[0], b[0]))\n",
    "\n",
    "    # Initialize PHOC descriptors  levels x len(phoc) (2+3+4+5) X 36 + 2 X 50 = 504 + 100 = 604\n",
    "    phoc_size = sum(unigram_levels) * len(phoc_unigrams)\n",
    "    if phoc_bigrams:\n",
    "        phoc_size += sum(bigram_levels) * len(phoc_bigrams)\n",
    "    phocs = np.zeros((len(words), phoc_size))\n",
    "\n",
    "    for i, word in enumerate(words):\n",
    "        word_len = len(word)\n",
    "        \n",
    "        # Calculate unigram features\n",
    "        index = 0\n",
    "        for level in unigram_levels:\n",
    "            region_len = word_len / level\n",
    "            for region in range(level):\n",
    "                region_start = region / level\n",
    "                region_end = (region + 1) / level\n",
    "                region_occ = (region_start, region_end)\n",
    "                for char in phoc_unigrams:\n",
    "                    char_occ = [occupancy(k, word_len) for k, c in enumerate(word) if c == char]\n",
    "                    if any(overlap(region_occ, occ) >= 0.5 * (occ[1] - occ[0]) for occ in char_occ):\n",
    "                        phocs[i, index] = 1\n",
    "                    index += 1\n",
    "        \n",
    "        # Calculate bigram features\n",
    "        if phoc_bigrams:\n",
    "            for level in bigram_levels:\n",
    "                region_len = word_len / level\n",
    "                for region in range(level):\n",
    "                    region_start = region / level\n",
    "                    region_end = (region + 1) / level\n",
    "                    region_occ = (region_start, region_end)\n",
    "                    for bigram in phoc_bigrams:\n",
    "                        bigram_occ = [occupancy(k, word_len) for k in range(word_len - 1) if word[k:k+2] == bigram]\n",
    "                        if any(overlap(region_occ, occ) >= 0.5 * (occ[1] - occ[0]) for occ in bigram_occ):\n",
    "                            phocs[i, index] = 1\n",
    "                        index += 1\n",
    "\n",
    "    return phocs\n",
    "\n",
    "def phoc(raw_word):\n",
    "    '''\n",
    "    Convert a word into its PHOC representation.\n",
    "    \n",
    "    :param raw_word: string of word to be converted\n",
    "    :return: phoc representation as a np.array (1, 604)\n",
    "    '''\n",
    "    phoc_unigrams = 'abcdefghijklmnopqrstuvwxyz0123456789'\n",
    "    unigram_levels = [2, 3, 4, 5]\n",
    "    phoc_bigrams = ['th', 'he', 'in', 'er', 'an',\n",
    "                     're', 'on', 'at', 'en', 'nd',\n",
    "                      'ti', 'es', 'or', 'te', 'of',\n",
    "                       'ed', 'is', 'it', 'al', 'ar',\n",
    "                        'st', 'to', 'nt', 'ng', 'se',\n",
    "                         'ha', 'as', 'ou', 'io', 'le',\n",
    "                          've', 'co', 'me', 'de', 'hi',\n",
    "                           'ri', 'ro', 'ic', 'ne', 'ea',\n",
    "                            'ra', 'ce', 'li', 'ch', 'll',\n",
    "                             'be', 'ma', 'si', 'om', 'ur']\n",
    "    bigram_levels = [2]\n",
    "\n",
    "    return build_phoc([raw_word], phoc_unigrams, unigram_levels, phoc_bigrams, bigram_levels)[0]\n"
   ]
  },
  {
   "cell_type": "code",
   "execution_count": 19,
   "metadata": {},
   "outputs": [
    {
     "name": "stdout",
     "output_type": "stream",
     "text": [
      "['th', 'he', 'in', 'er', 'an', 're', 'on', 'at', 'en', 'nd', 'ti', 'es', 'or', 'te', 'of', 'ed', 'is', 'it', 'al', 'ar', 'st', 'to', 'nt', 'ng', 'se', 'ha', 'as', 'ou', 'io', 'le', 've', 'co', 'me', 'de', 'hi', 'ri', 'ro', 'ic', 'ne', 'ea', 'ra', 'ce', 'li', 'ch', 'll', 'be', 'ma', 'si', 'om', 'ur']\n"
     ]
    }
   ],
   "source": [
    "\"\"\"def read_bigrams(file_txt):\n",
    "    res = []\n",
    "    with open(file_txt, 'r') as file:\n",
    "        for line in file:\n",
    "            bigram = line.split('\\n')\n",
    "            res.append(bigram[0])\n",
    "    return res\n",
    "print(read_bigrams('bigrams.txt'))\n",
    "l_bigrams = read_bigrams('bigrams.txt')\n",
    "\n",
    "phoc_bigrams = read_bigrams('bigrams.txt')\"\"\""
   ]
  },
  {
   "cell_type": "code",
   "execution_count": 5,
   "metadata": {},
   "outputs": [],
   "source": [
    "class CustomDataset(Dataset):\n",
    "    def __init__(self, csv_file_path, transform=None):\n",
    "        self.data_frame = pd.read_csv(csv_file_path)\n",
    "        self.transform = transform\n",
    "        self.label_to_index = {label: idx for idx, label in enumerate(self.data_frame['label'].unique())}\n",
    "\n",
    "    def __len__(self):\n",
    "        return len(self.data_frame)\n",
    "\n",
    "    def __getitem__(self, idx):\n",
    "        img_name = self.data_frame.iloc[idx, 0]\n",
    "        image = Image.open(img_name).convert('RGB')\n",
    "        str_label = self.data_frame.iloc[idx, 1].lower()\n",
    "        # label = self.label_to_index[label]¿?\n",
    "        phoc_label = phoc(str_label)\n",
    "        \n",
    "        if self.transform:\n",
    "            image = self.transform(image)\n",
    "\n",
    "        return image, str_label, phoc_label\n",
    "\n",
    "# Definir transformaciones\n",
    "transform = transforms.Compose([\n",
    "    transforms.Resize((224, 224)),\n",
    "    transforms.ToTensor(),\n",
    "    transforms.Normalize(mean=[0.485, 0.456, 0.406], std=[0.229, 0.224, 0.225]),\n",
    "])\n",
    "\n",
    "# Crear dataset y dataloader\n",
    "csv_file_path = 'train_data.csv'  # Reemplaza con la ruta a tu archivo CSV\n",
    "train_dataset = CustomDataset(csv_file_path, transform=transform)\n",
    "train_loader = DataLoader(train_dataset, batch_size=32, shuffle=True, num_workers=4)\n",
    "\n",
    "test_dataset = CustomDataset('val_data.csv',transform=transform)\n",
    "test_loader = DataLoader(test_dataset, batch_size=32, shuffle=True, num_workers=4)\n"
   ]
  },
  {
   "cell_type": "code",
   "execution_count": 5,
   "metadata": {},
   "outputs": [
    {
     "name": "stdout",
     "output_type": "stream",
     "text": [
      "(tensor([[[-0.3541, -0.3541, -0.3541,  ..., -0.3883, -0.3883, -0.3883],\n",
      "         [-0.3541, -0.3541, -0.3541,  ..., -0.3883, -0.3883, -0.3883],\n",
      "         [-0.3541, -0.3541, -0.3541,  ..., -0.3883, -0.3883, -0.3883],\n",
      "         ...,\n",
      "         [-0.3883, -0.3883, -0.3712,  ..., -0.3369, -0.3369, -0.3369],\n",
      "         [-0.3883, -0.3883, -0.3712,  ..., -0.3369, -0.3369, -0.3369],\n",
      "         [-0.3883, -0.3883, -0.3712,  ..., -0.3369, -0.3369, -0.3369]],\n",
      "\n",
      "        [[-0.2325, -0.2325, -0.2325,  ..., -0.2675, -0.2675, -0.2675],\n",
      "         [-0.2325, -0.2325, -0.2325,  ..., -0.2675, -0.2675, -0.2675],\n",
      "         [-0.2325, -0.2325, -0.2325,  ..., -0.2675, -0.2675, -0.2675],\n",
      "         ...,\n",
      "         [-0.2675, -0.2675, -0.2500,  ..., -0.2150, -0.2150, -0.2150],\n",
      "         [-0.2675, -0.2675, -0.2500,  ..., -0.2150, -0.2150, -0.2150],\n",
      "         [-0.2675, -0.2675, -0.2500,  ..., -0.2150, -0.2150, -0.2150]],\n",
      "\n",
      "        [[-0.0092, -0.0092, -0.0092,  ..., -0.0441, -0.0441, -0.0441],\n",
      "         [-0.0092, -0.0092, -0.0092,  ..., -0.0441, -0.0441, -0.0441],\n",
      "         [-0.0092, -0.0092, -0.0092,  ..., -0.0441, -0.0441, -0.0441],\n",
      "         ...,\n",
      "         [-0.0441, -0.0441, -0.0267,  ...,  0.0082,  0.0082,  0.0082],\n",
      "         [-0.0441, -0.0441, -0.0267,  ...,  0.0082,  0.0082,  0.0082],\n",
      "         [-0.0441, -0.0441, -0.0267,  ...,  0.0082,  0.0082,  0.0082]]]), 'castling', array([1., 0., 1., 0., 0., 0., 0., 0., 0., 0., 0., 0., 0., 0., 0., 0., 0.,\n",
      "       0., 1., 1., 0., 0., 0., 0., 0., 0., 0., 0., 0., 0., 0., 0., 0., 0.,\n",
      "       0., 0., 0., 0., 0., 0., 0., 0., 1., 0., 1., 0., 0., 1., 0., 1., 0.,\n",
      "       0., 0., 0., 0., 0., 0., 0., 0., 0., 0., 0., 0., 0., 0., 0., 0., 0.,\n",
      "       0., 0., 0., 0., 1., 0., 1., 0., 0., 0., 0., 0., 0., 0., 0., 0., 0.,\n",
      "       0., 0., 0., 0., 0., 1., 0., 0., 0., 0., 0., 0., 0., 0., 0., 0., 0.,\n",
      "       0., 0., 0., 0., 0., 0., 0., 0., 0., 0., 0., 0., 0., 0., 0., 0., 0.,\n",
      "       1., 0., 0., 0., 0., 0., 0., 0., 1., 0., 0., 0., 0., 0., 0., 0., 0.,\n",
      "       0., 0., 0., 0., 0., 0., 0., 0., 0., 0., 0., 0., 0., 0., 1., 0., 1.,\n",
      "       0., 0., 0., 0., 1., 0., 0., 0., 0., 0., 0., 0., 0., 0., 0., 0., 0.,\n",
      "       0., 0., 0., 0., 0., 0., 0., 0., 0., 0., 1., 0., 1., 0., 0., 0., 0.,\n",
      "       0., 0., 0., 0., 0., 0., 0., 0., 0., 0., 0., 0., 0., 0., 0., 0., 0.,\n",
      "       0., 0., 0., 0., 0., 0., 0., 0., 0., 0., 0., 0., 0., 0., 0., 0., 0.,\n",
      "       0., 0., 0., 0., 0., 0., 0., 0., 0., 0., 0., 0., 0., 1., 1., 0., 0.,\n",
      "       0., 0., 0., 0., 0., 0., 0., 0., 0., 0., 0., 0., 0., 0., 0., 0., 0.,\n",
      "       0., 0., 0., 0., 0., 1., 0., 0., 1., 0., 0., 0., 0., 0., 0., 0., 0.,\n",
      "       0., 0., 0., 0., 0., 0., 0., 0., 0., 0., 0., 0., 0., 0., 0., 0., 0.,\n",
      "       0., 0., 0., 0., 0., 1., 0., 0., 0., 0., 0., 0., 1., 0., 0., 0., 0.,\n",
      "       0., 0., 0., 0., 0., 0., 0., 0., 0., 0., 0., 0., 0., 0., 0., 0., 0.,\n",
      "       0., 1., 0., 1., 0., 0., 0., 0., 0., 0., 0., 0., 0., 0., 0., 0., 0.,\n",
      "       0., 0., 0., 0., 0., 0., 0., 0., 0., 0., 0., 0., 0., 0., 0., 0., 0.,\n",
      "       0., 0., 0., 0., 0., 0., 0., 0., 0., 0., 0., 0., 0., 0., 0., 0., 0.,\n",
      "       0., 0., 0., 0., 1., 0., 0., 0., 0., 0., 0., 0., 0., 0., 0., 0., 0.,\n",
      "       0., 0., 0., 0., 0., 0., 0., 0., 0., 0., 0., 0., 0., 0., 0., 0., 1.,\n",
      "       0., 0., 0., 0., 0., 0., 0., 1., 0., 0., 0., 0., 0., 0., 0., 0., 0.,\n",
      "       0., 0., 0., 0., 0., 0., 0., 0., 0., 0., 0., 0., 0., 0., 0., 1., 0.,\n",
      "       0., 0., 0., 0., 0., 0., 0., 0., 0., 0., 0., 0., 0., 0., 0., 0., 0.,\n",
      "       0., 0., 0., 0., 0., 0., 0., 0., 0., 0., 0., 0., 0., 0., 0., 1., 0.,\n",
      "       0., 0., 0., 0., 0., 1., 0., 0., 0., 0., 0., 0., 0., 0., 0., 0., 0.,\n",
      "       0., 0., 0., 0., 0., 0., 0., 0., 0., 0., 0., 0., 0., 0., 0., 0., 0.,\n",
      "       0., 0., 0., 0., 0., 0., 0., 0., 0., 0., 0., 0., 0., 0., 1., 0., 0.,\n",
      "       0., 0., 0., 1., 0., 0., 0., 0., 0., 0., 0., 0., 0., 0., 0., 0., 0.,\n",
      "       0., 0., 0., 0., 0., 0., 0., 0., 0., 0., 0., 0., 1., 0., 0., 0., 0.,\n",
      "       0., 0., 0., 0., 0., 0., 0., 0., 0., 0., 0., 0., 0., 0., 0., 0., 1.,\n",
      "       0., 0., 0., 0., 0., 0., 0., 0., 0., 0., 0., 0., 0., 0., 0., 0., 0.,\n",
      "       0., 1., 0., 0., 0., 0., 0., 0., 0.]))\n"
     ]
    }
   ],
   "source": [
    "print(test_dataset[0])"
   ]
  },
  {
   "cell_type": "code",
   "execution_count": 6,
   "metadata": {},
   "outputs": [],
   "source": [
    "import torch\n",
    "import torch.nn as nn\n",
    "import torch.nn.functional as F\n",
    "\n",
    "class SPP(nn.Module):\n",
    "\n",
    "    def __init__(self, levels = 3, pool_type = 'max_pool'):\n",
    "        super(SPP, self).__init__()\n",
    "\n",
    "        if pool_type not in ['max_pool', 'avg_pool', 'max_avg_pool']:\n",
    "            raise ValueError('Unknown pool_type. Must be either \\'max_pool\\', \\'avg_pool\\' or both')\n",
    "        \n",
    "        self.pooling_output_size = sum([4 ** level for level in range(levels)]) * 512\n",
    "        self.levels = levels\n",
    "        self.pool_type = pool_type\n",
    "\n",
    "    def forward(self, input_x):\n",
    "        out = self._spatial_pyramid_pooling(input_x, self.levels)\n",
    "        return out\n",
    "    \n",
    "    def _pyramid_pooling(self, input_x, output_sizes):\n",
    "        pyramid_level_tensors = []\n",
    "        for tsize in output_sizes:\n",
    "            if self.pool_type == 'max_pool':\n",
    "                pyramid_level_tensor = F.adaptive_max_pool2d(input_x, tsize)\n",
    "                pyramid_level_tensor = pyramid_level_tensor.view(input_x.size(0), -1)\n",
    "            if self.pool_type == 'avg_pool':\n",
    "                pyramid_level_tensor = F.adaptive_avg_pool2d(input_x, tsize)\n",
    "                pyramid_level_tensor = pyramid_level_tensor.view(input_x.size(0), -1)\n",
    "            if self.pool_type == 'max_avg_pool':\n",
    "                pyramid_level_tensor_max = F.adaptive_max_pool2d(input_x, tsize)\n",
    "                pyramid_level_tensor_max = pyramid_level_tensor_max.view(input_x.size(0), -1)\n",
    "                pyramid_level_tensor_avg = F.adaptive_avg_pool2d(input_x, tsize)\n",
    "                pyramid_level_tensor_avg = pyramid_level_tensor_avg.view(input_x.size(0), -1)\n",
    "                pyramid_level_tensor = torch.cat([pyramid_level_tensor_max, pyramid_level_tensor_avg], dim=1)\n",
    "\n",
    "            pyramid_level_tensors.append(pyramid_level_tensor)\n",
    "\n",
    "        return torch.cat(pyramid_level_tensors, dim=1)\n",
    "\n",
    "    def _spatial_pyramid_pooling(self, input_x, levels):\n",
    "        output_sizes = [(int( 2 **level), int( 2 **level)) for level in range(levels)]\n",
    "        return self._pyramid_pooling(input_x, output_sizes)\n",
    "\n",
    "# Phocnet implementation from PHOCNet GH Repo\n",
    "class PHOCNet(nn.Module):\n",
    "\n",
    "    def __init__(self, n_out, input_channels = 3, pooling_levels = 3, pool_type = 'max_pool'):\n",
    "        super(PHOCNet, self).__init__()\n",
    "\n",
    "        self.conv_block1 = nn.Sequential(\n",
    "            nn.Conv2d(in_channels=input_channels, out_channels=64, kernel_size=3, stride=1, padding=1),\n",
    "            nn.ReLU(),\n",
    "            nn.Conv2d(in_channels=64, out_channels=64, kernel_size=3, stride=1, padding=1),\n",
    "            nn.ReLU()\n",
    "        )\n",
    "\n",
    "        self.conv_block2 = nn.Sequential(\n",
    "            nn.Conv2d(in_channels=64, out_channels=128, kernel_size=3, stride=1, padding=1),\n",
    "            nn.ReLU(),\n",
    "            nn.Conv2d(in_channels=128, out_channels=128, kernel_size=3, stride=1, padding=1),\n",
    "            nn.ReLU()\n",
    "        )\n",
    "\n",
    "        self.conv_block3 = nn.Sequential(\n",
    "            nn.Conv2d(in_channels=128, out_channels=256, kernel_size=3, stride=1, padding=1),\n",
    "            nn.ReLU(),\n",
    "            nn.Conv2d(in_channels=256, out_channels=256, kernel_size=3, stride=1, padding=1),\n",
    "            nn.ReLU(),\n",
    "            nn.Conv2d(in_channels=256, out_channels=256, kernel_size=3, stride=1, padding=1),\n",
    "            nn.ReLU(),\n",
    "            nn.Conv2d(in_channels=256, out_channels=256, kernel_size=3, stride=1, padding=1),\n",
    "            nn.ReLU(),\n",
    "            nn.Conv2d(in_channels=256, out_channels=256, kernel_size=3, stride=1, padding=1),\n",
    "            nn.ReLU(),\n",
    "            nn.Conv2d(in_channels=256, out_channels=256, kernel_size=3, stride=1, padding=1),\n",
    "            nn.ReLU()\n",
    "        )\n",
    "\n",
    "        self.conv_block4 = nn.Sequential(\n",
    "            nn.Conv2d(in_channels=256, out_channels=512, kernel_size=3, stride=1, padding=1),\n",
    "            nn.ReLU(),\n",
    "            nn.Conv2d(in_channels=512, out_channels=512, kernel_size=3, stride=1, padding=1),\n",
    "            nn.ReLU(),\n",
    "            nn.Conv2d(in_channels=512, out_channels=512, kernel_size=3, stride=1, padding=1),\n",
    "            nn.ReLU()\n",
    "        )\n",
    "        \n",
    "        self.pooling_layer_fn = SPP(levels = pooling_levels, pool_type=pool_type)\n",
    "        pooling_output_size = self.pooling_layer_fn.pooling_output_size\n",
    "        \n",
    "        self.fc1 = nn.Linear(pooling_output_size, 4096)\n",
    "        self.fc2 = nn.Linear(4096, 4096)\n",
    "        self.fc3 = nn.Linear(4096, n_out)\n",
    "\n",
    "    def forward(self, x):\n",
    "        out = self.conv_block1(x)\n",
    "        out = F.max_pool2d(out, kernel_size=2, stride=2, padding=0)\n",
    "        out = self.conv_block2(out)\n",
    "        out = F.max_pool2d(out, kernel_size=2, stride=2, padding=0)\n",
    "        out = self.conv_block3(out)\n",
    "        out = self.conv_block4(out)\n",
    "\n",
    "        out = self.pooling_layer_fn(out)\n",
    "        out = self.fc1(out)\n",
    "        out = F.relu(out)\n",
    "        out = F.dropout(out, p = 0.5, training = self.training)\n",
    "        out = self.fc2(out)\n",
    "        out = F.relu(out)\n",
    "        out = F.dropout(out, p = 0.5, training = self.training)\n",
    "        out = self.fc3(out)\n",
    "\n",
    "        return out\n",
    "\n",
    "    # distribución normal con media cero\n",
    "    def init_weights(m):\n",
    "        if isinstance(m, nn.Conv2d) or isinstance(m, nn.Linear):\n",
    "            nn.init.kaiming_normal_(m.weight.data)\n",
    "            if m.bias is not None:\n",
    "                nn.init.constant_(m.bias.data, 0)\n",
    "    "
   ]
  },
  {
   "cell_type": "code",
   "execution_count": 7,
   "metadata": {},
   "outputs": [],
   "source": [
    "def train(model, train_loader, test_loader, criterion, optimizer, scheduler, config, device = \"cuda\"):\n",
    "    # Tell wandb to watch what the model gets up to: gradients, weights, and more!\n",
    "    wandb.watch(model, criterion, log=\"all\", log_freq=10)\n",
    "\n",
    "    example_ct = 0  # number of examples seen\n",
    "    batch_ct = 0\n",
    "    model_phoc = load_model()\n",
    "    for epoch in tqdm(range(config.epochs)):\n",
    "        model.train()\n",
    "        train_loss = 0\n",
    "        for _, (images, phoc_labels, _) in enumerate(train_loader):\n",
    "\n",
    "            loss = train_batch(images, phoc_labels, model, optimizer, criterion, device)\n",
    "            train_loss += loss.item()\n",
    "            example_ct +=  len(images)\n",
    "            batch_ct += 1\n",
    "\n",
    "            #Report metrics every 25th batch\n",
    "            if ((batch_ct + 1) % 25) == 0:\n",
    "                train_log(loss.item(), example_ct)\n",
    "        \n",
    "        # loss_test = test(model, test_loader, train_loader, epoch, criterion, model_phoc, device)\n",
    "        \n",
    "        # scheduler.step(loss_test)\n",
    "        # print(scheduler._last_lr)\n",
    "        torch.save(model.state_dict(), os.path.join(config.save_model, f\"PHOCNET{epoch}.pt\"))\n",
    "    return model\n",
    "\n",
    "def train_batch(images, labels, model, optimizer, criterion, device=\"cuda\"):\n",
    "    images, labels = images.to(device), labels.to(device)\n",
    "    \n",
    "    # Forward pass ➡\n",
    "    outputs = model(images)\n",
    "    loss = criterion(outputs.float(), labels.float())\n",
    "    \n",
    "    # Backward pass ⬅\n",
    "    optimizer.zero_grad()\n",
    "    loss.backward()\n",
    "\n",
    "    # Step with optimizer\n",
    "    optimizer.step()\n",
    "\n",
    "    return loss"
   ]
  },
  {
   "cell_type": "code",
   "execution_count": 8,
   "metadata": {},
   "outputs": [],
   "source": [
    "\n",
    "def test(model, test_loader, train_loader, epoch, criterion, model_phoc, device=\"cuda\", save:bool= True):\n",
    "    # Run the model on some test examples\n",
    "    model.eval()\n",
    "    with torch.no_grad():\n",
    "        loss_test = 0\n",
    "        loss_train = 0\n",
    "        correct_test = 0\n",
    "        correct_train = 0\n",
    "        edit_test = 0\n",
    "        edit_train = 0\n",
    "        test_count = 0\n",
    "        train_count = 0\n",
    "        \n",
    "        for i, (images, phoc_labels, text_labels) in enumerate(test_loader):\n",
    "            images, phoc_labels = images.to(device), phoc_labels.to(device)\n",
    "            test_count += len(images)\n",
    "            outputs = model(images)\n",
    "            loss_test += criterion(outputs, phoc_labels.float()) \n",
    "            predicted_labels = predict_with_PHOC(torch.sigmoid(outputs).cpu().numpy(), model_phoc)\n",
    "            correct_test += (predicted_labels == text_labels).sum().item()\n",
    "            edit_test += sum([editdistance.eval(p,t) for p,t in zip(predicted_labels, text_labels)])\n",
    "            if i == 0:\n",
    "                log_images(images, predicted_labels, text_labels[:5], epoch, \"Test\")\n",
    "                \n",
    "        for i, (images, phoc_labels, text_labels) in enumerate(train_loader):\n",
    "            images, phoc_labels = images.to(device), phoc_labels.to(device)\n",
    "            train_count += len(images)\n",
    "            outputs = model(images)\n",
    "            loss_train += criterion(outputs, phoc_labels.float()) \n",
    "            predicted_labels = predict_with_PHOC(torch.sigmoid(outputs).cpu().numpy(), model_phoc)\n",
    "            correct_train += (predicted_labels == text_labels).sum().item()\n",
    "            edit_train += sum([editdistance.eval(p,t) for p,t in zip(predicted_labels, text_labels)])\n",
    "            if i == 0:\n",
    "                log_images(images, predicted_labels, text_labels[:5], epoch, \"Train\")\n",
    "            if i == 150:\n",
    "               break\n",
    "\n",
    "        loss_test = loss_test/len(test_loader)\n",
    "        loss_train = loss_train/(i+1)    \n",
    "        accuracy_test = correct_test/test_count\n",
    "        accuracy_train = correct_train/train_count\n",
    "        edit_test = edit_test/test_count\n",
    "        edit_train = edit_train/train_count \n",
    "\n",
    "        train_test_log(loss_test, loss_train, accuracy_test, accuracy_train, edit_test, edit_train, epoch)\n",
    "    return loss_test"
   ]
  },
  {
   "cell_type": "code",
   "execution_count": null,
   "metadata": {},
   "outputs": [],
   "source": [
    "n_out = 604\n",
    "criterion = nn.CrossEntropylosws\n",
    "optimizer = \n",
    "scheduler = \n",
    "config = \n",
    "\n",
    "model = PHOCNet(n_out)\n"
   ]
  },
  {
   "cell_type": "code",
   "execution_count": 61,
   "metadata": {},
   "outputs": [
    {
     "data": {
      "text/html": [
       "Finishing last run (ID:dhwre718) before initializing another..."
      ],
      "text/plain": [
       "<IPython.core.display.HTML object>"
      ]
     },
     "metadata": {},
     "output_type": "display_data"
    },
    {
     "data": {
      "text/html": [
       " View run <strong style=\"color:#cdcd00\">resilient-music-16</strong> at: <a href='https://wandb.ai/uab-ai/Testing/runs/dhwre718' target=\"_blank\">https://wandb.ai/uab-ai/Testing/runs/dhwre718</a><br/> View project at: <a href='https://wandb.ai/uab-ai/Testing' target=\"_blank\">https://wandb.ai/uab-ai/Testing</a><br/>Synced 5 W&B file(s), 0 media file(s), 0 artifact file(s) and 0 other file(s)"
      ],
      "text/plain": [
       "<IPython.core.display.HTML object>"
      ]
     },
     "metadata": {},
     "output_type": "display_data"
    },
    {
     "data": {
      "text/html": [
       "Find logs at: <code>.\\wandb\\run-20240522_143017-dhwre718\\logs</code>"
      ],
      "text/plain": [
       "<IPython.core.display.HTML object>"
      ]
     },
     "metadata": {},
     "output_type": "display_data"
    },
    {
     "data": {
      "text/html": [
       "Successfully finished last run (ID:dhwre718). Initializing new run:<br/>"
      ],
      "text/plain": [
       "<IPython.core.display.HTML object>"
      ]
     },
     "metadata": {},
     "output_type": "display_data"
    },
    {
     "data": {
      "text/html": [
       "Tracking run with wandb version 0.17.0"
      ],
      "text/plain": [
       "<IPython.core.display.HTML object>"
      ]
     },
     "metadata": {},
     "output_type": "display_data"
    },
    {
     "data": {
      "text/html": [
       "Run data is saved locally in <code>c:\\Users\\Usuario\\Documents\\Universidad\\2º Año\\2º Semestre\\Neural Networks and Deep Learning\\Project\\wandb\\run-20240522_143116-5c63ee1n</code>"
      ],
      "text/plain": [
       "<IPython.core.display.HTML object>"
      ]
     },
     "metadata": {},
     "output_type": "display_data"
    },
    {
     "data": {
      "text/html": [
       "Syncing run <strong><a href='https://wandb.ai/uab-ai/Testing/runs/5c63ee1n' target=\"_blank\">sparkling-dawn-17</a></strong> to <a href='https://wandb.ai/uab-ai/Testing' target=\"_blank\">Weights & Biases</a> (<a href='https://wandb.me/run' target=\"_blank\">docs</a>)<br/>"
      ],
      "text/plain": [
       "<IPython.core.display.HTML object>"
      ]
     },
     "metadata": {},
     "output_type": "display_data"
    },
    {
     "data": {
      "text/html": [
       " View project at <a href='https://wandb.ai/uab-ai/Testing' target=\"_blank\">https://wandb.ai/uab-ai/Testing</a>"
      ],
      "text/plain": [
       "<IPython.core.display.HTML object>"
      ]
     },
     "metadata": {},
     "output_type": "display_data"
    },
    {
     "data": {
      "text/html": [
       " View run at <a href='https://wandb.ai/uab-ai/Testing/runs/5c63ee1n' target=\"_blank\">https://wandb.ai/uab-ai/Testing/runs/5c63ee1n</a>"
      ],
      "text/plain": [
       "<IPython.core.display.HTML object>"
      ]
     },
     "metadata": {},
     "output_type": "display_data"
    }
   ],
   "source": [
    "train(model, train_loader, test_loader, criterion, optimizer, scheduler, config, device = \"cuda\")"
   ]
  },
  {
   "cell_type": "code",
   "execution_count": null,
   "metadata": {},
   "outputs": [],
   "source": [
    "wandb.init(project=\"phocnet_project\", config={\"epochs\": 20, \"batch_size\": 32, \"learning_rate\": 0.001})\n",
    "config = wandb.config\n",
    "\n",
    "model = PHOCNet(num_outputs=604).to('cuda')  # Ajusta el número de salidas según sea necesario\n",
    "criterion = nn.BCEWithLogitsLoss()\n",
    "optimizer = torch.optim.Adam(model.parameters(), lr=config.learning_rate)\n",
    "scheduler = torch.optim.lr_scheduler.StepLR(optimizer, step_size=7, gamma=0.1)\n",
    "\n",
    "model = train(model, train_loader, test_loader, criterion, optimizer, scheduler, config)\n"
   ]
  },
  {
   "cell_type": "code",
   "execution_count": 49,
   "metadata": {},
   "outputs": [
    {
     "name": "stdout",
     "output_type": "stream",
     "text": [
      "604\n"
     ]
    }
   ],
   "source": []
  }
 ],
 "metadata": {
  "kernelspec": {
   "display_name": "base",
   "language": "python",
   "name": "python3"
  },
  "language_info": {
   "codemirror_mode": {
    "name": "ipython",
    "version": 3
   },
   "file_extension": ".py",
   "mimetype": "text/x-python",
   "name": "python",
   "nbconvert_exporter": "python",
   "pygments_lexer": "ipython3",
   "version": "3.11.9"
  }
 },
 "nbformat": 4,
 "nbformat_minor": 2
}
