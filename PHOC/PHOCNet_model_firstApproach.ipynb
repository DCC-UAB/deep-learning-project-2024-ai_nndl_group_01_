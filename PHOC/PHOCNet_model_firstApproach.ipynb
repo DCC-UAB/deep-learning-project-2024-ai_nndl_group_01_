{
  "cells": [
    {
      "cell_type": "markdown",
      "metadata": {
        "id": "hPmH_9UbUrE_"
      },
      "source": [
        "## Directory Managing"
      ]
    },
    {
      "cell_type": "code",
      "source": [
        "train_csv_path = '/content/updated_train_data500images_corrected.csv'\n",
        "val_csv_path = ''\n",
        "test_csv_path = ''\n",
        "\n",
        "\n",
        "lexicon_file_path = '/content/lexicon.txt'\n",
        "\n",
        "store_knn_classifier = '/content/knn_phoc_classifier1.pkl'"
      ],
      "metadata": {
        "id": "s1fUputfdhoz"
      },
      "execution_count": 6,
      "outputs": []
    },
    {
      "cell_type": "code",
      "execution_count": 15,
      "metadata": {
        "colab": {
          "base_uri": "https://localhost:8080/"
        },
        "id": "Gg9i8hefOZYB",
        "outputId": "03671293-130b-45aa-ba7e-b5cec06ab3c4"
      },
      "outputs": [
        {
          "output_type": "stream",
          "name": "stdout",
          "text": [
            "Requirement already satisfied: wandb in /usr/local/lib/python3.10/dist-packages (0.17.0)\n",
            "Requirement already satisfied: click!=8.0.0,>=7.1 in /usr/local/lib/python3.10/dist-packages (from wandb) (8.1.7)\n",
            "Requirement already satisfied: docker-pycreds>=0.4.0 in /usr/local/lib/python3.10/dist-packages (from wandb) (0.4.0)\n",
            "Requirement already satisfied: gitpython!=3.1.29,>=1.0.0 in /usr/local/lib/python3.10/dist-packages (from wandb) (3.1.43)\n",
            "Requirement already satisfied: platformdirs in /usr/local/lib/python3.10/dist-packages (from wandb) (4.2.2)\n",
            "Requirement already satisfied: protobuf!=4.21.0,<5,>=3.19.0 in /usr/local/lib/python3.10/dist-packages (from wandb) (3.20.3)\n",
            "Requirement already satisfied: psutil>=5.0.0 in /usr/local/lib/python3.10/dist-packages (from wandb) (5.9.5)\n",
            "Requirement already satisfied: pyyaml in /usr/local/lib/python3.10/dist-packages (from wandb) (6.0.1)\n",
            "Requirement already satisfied: requests<3,>=2.0.0 in /usr/local/lib/python3.10/dist-packages (from wandb) (2.31.0)\n",
            "Requirement already satisfied: sentry-sdk>=1.0.0 in /usr/local/lib/python3.10/dist-packages (from wandb) (2.3.1)\n",
            "Requirement already satisfied: setproctitle in /usr/local/lib/python3.10/dist-packages (from wandb) (1.3.3)\n",
            "Requirement already satisfied: setuptools in /usr/local/lib/python3.10/dist-packages (from wandb) (67.7.2)\n",
            "Requirement already satisfied: six>=1.4.0 in /usr/local/lib/python3.10/dist-packages (from docker-pycreds>=0.4.0->wandb) (1.16.0)\n",
            "Requirement already satisfied: gitdb<5,>=4.0.1 in /usr/local/lib/python3.10/dist-packages (from gitpython!=3.1.29,>=1.0.0->wandb) (4.0.11)\n",
            "Requirement already satisfied: charset-normalizer<4,>=2 in /usr/local/lib/python3.10/dist-packages (from requests<3,>=2.0.0->wandb) (3.3.2)\n",
            "Requirement already satisfied: idna<4,>=2.5 in /usr/local/lib/python3.10/dist-packages (from requests<3,>=2.0.0->wandb) (3.7)\n",
            "Requirement already satisfied: urllib3<3,>=1.21.1 in /usr/local/lib/python3.10/dist-packages (from requests<3,>=2.0.0->wandb) (2.0.7)\n",
            "Requirement already satisfied: certifi>=2017.4.17 in /usr/local/lib/python3.10/dist-packages (from requests<3,>=2.0.0->wandb) (2024.2.2)\n",
            "Requirement already satisfied: smmap<6,>=3.0.1 in /usr/local/lib/python3.10/dist-packages (from gitdb<5,>=4.0.1->gitpython!=3.1.29,>=1.0.0->wandb) (5.0.1)\n"
          ]
        }
      ],
      "source": [
        "# Library loading\n",
        "import os\n",
        "import pickle\n",
        "import pandas as pd\n",
        "import numpy as np\n",
        "from PIL import Image, ImageDraw, ImageFont\n",
        "\n",
        "import torch\n",
        "import torch.nn as nn\n",
        "import torch.optim as optim\n",
        "import torch.nn.functional as F\n",
        "from torch.utils.data import Dataset, DataLoader, random_split\n",
        "from torch.optim.lr_scheduler import StepLR\n",
        "from torchvision import transforms\n",
        "\n",
        "from sklearn.neighbors import KNeighborsClassifier\n",
        "from tqdm import tqdm\n",
        "\n",
        "!pip install wandb\n",
        "import wandb\n",
        "import editdistance"
      ]
    },
    {
      "cell_type": "code",
      "source": [
        "# Set device to GPU\n",
        "device = torch.device(\"cuda\" if torch.cuda.is_available() else \"cpu\")\n",
        "print(device)"
      ],
      "metadata": {
        "id": "jxeO_ns2E1v5",
        "colab": {
          "base_uri": "https://localhost:8080/"
        },
        "outputId": "2196142b-38d2-42c2-9f29-b33709213cb4"
      },
      "execution_count": 16,
      "outputs": [
        {
          "output_type": "stream",
          "name": "stdout",
          "text": [
            "cuda\n"
          ]
        }
      ]
    },
    {
      "cell_type": "markdown",
      "source": [
        "## Wandb Functions"
      ],
      "metadata": {
        "id": "3FbgbuHPF6t0"
      }
    },
    {
      "cell_type": "code",
      "source": [
        "# Set of functions to log different aspects of our model's execution on wandb\n",
        "\n",
        "def train_log(loss, total_example_ct):\n",
        "    wandb.log({\"loss\": loss}, step=total_example_ct)\n",
        "    print(f\"Loss after {str(total_example_ct).zfill(5)} examples: {loss:.3f}\")\n",
        "\n",
        "def train_test_log(loss_test, loss_train, accuracy_test, accuracy_train, edit_test, edit_train, epoch):\n",
        "    wandb.log({\"Epoch\": epoch,\n",
        "               \"Train loss\": loss_train, \"Test loss\": loss_test,\n",
        "               \"Train accuracy\": accuracy_train, \"Test accuracy\": accuracy_test,\n",
        "               \"Train edit\": edit_train, \"Test edit\": edit_test,\n",
        "               })\n",
        "    print(f\"Train Loss: {loss_train:.3f}\\nTest Loss: {loss_test:.3f}\")\n",
        "\n",
        "\n",
        "# Set of functions to log the images into wandb\n",
        "def log_images(images, predicted_labels, text_labels, epoch, mode):\n",
        "    t = transforms.Compose([transforms.Normalize(0, 1/0.1),transforms.Normalize(-0.5, 1)])\n",
        "    t_images = t(images)\n",
        "    images_with_labels = draw_images(t_images, text_labels, predicted_labels)\n",
        "    wandb.log({f\"Epoch{epoch}-{mode}\": [wandb.Image(im) for im in images_with_labels]})\n",
        "\n",
        "def draw_images(images, text_labels, predicted_labels):\n",
        "    transform = T.ToPILImage()\n",
        "    images = [draw_one_image(transform(im), t_lab, p_lab) for im, t_lab, p_lab in zip(images, text_labels, predicted_labels)]\n",
        "    return images\n",
        "\n",
        "def draw_one_image(image, text_label, predicted_label):\n",
        "    image = image.convert(\"RGB\")\n",
        "    draw = ImageDraw.Draw(image)\n",
        "    if text_label == predicted_label:\n",
        "        color = \"green\"\n",
        "    else:\n",
        "        color = \"red\"\n",
        "    text = text_label + \"\\n\" + predicted_label\n",
        "\n",
        "    # Use the default font\n",
        "    font = ImageFont.load_default()\n",
        "\n",
        "    draw.text((0, 0), text, font=font, fill=color)\n",
        "    return image\n",
        "\n",
        "# Log the learning rate\n",
        "def lr_log(lr, epoch):\n",
        "    wandb.log({\"learning-rate\": lr}, step=epoch)"
      ],
      "metadata": {
        "id": "V416_D7ZF9XE"
      },
      "execution_count": 17,
      "outputs": []
    },
    {
      "cell_type": "markdown",
      "metadata": {
        "id": "3s8RtQjjU3nC"
      },
      "source": [
        "## Data Visualization"
      ]
    },
    {
      "cell_type": "code",
      "execution_count": 18,
      "metadata": {
        "id": "i51aCp0MOZYD"
      },
      "outputs": [],
      "source": [
        "# Load the csv files: they contain image_path, label\n",
        "train_data = pd.read_csv(train_csv_path)\n",
        "test_data = pd.read_csv(test_csv_path)\n",
        "val_data = pd.read_csv(val_csv_path)"
      ]
    },
    {
      "cell_type": "code",
      "execution_count": 19,
      "metadata": {
        "id": "rqlXaKsGOZYD"
      },
      "outputs": [],
      "source": [
        "list_of_words =  train_data['label'].tolist()"
      ]
    },
    {
      "cell_type": "code",
      "execution_count": 20,
      "metadata": {
        "colab": {
          "base_uri": "https://localhost:8080/"
        },
        "id": "ND7R8hJPOZYD",
        "outputId": "7f93fefd-8733-482b-f43b-1e716781514e"
      },
      "outputs": [
        {
          "output_type": "stream",
          "name": "stdout",
          "text": [
            "Works\n"
          ]
        }
      ],
      "source": [
        "# Checking if labels have been loaded correctly\n",
        "if 'TREASONOUS' in list_of_words:\n",
        "    print(\"Works\")"
      ]
    },
    {
      "cell_type": "code",
      "execution_count": 21,
      "metadata": {
        "colab": {
          "base_uri": "https://localhost:8080/",
          "height": 327
        },
        "id": "1SIY1OSeOZYD",
        "outputId": "348901a5-e4aa-4cef-997e-453bf813595f"
      },
      "outputs": [
        {
          "output_type": "display_data",
          "data": {
            "text/plain": [
              "<PIL.Image.Image image mode=RGB size=149x31>"
            ],
            "image/png": "[encoded data removed]"
          },
          "metadata": {}
        },
        {
          "output_type": "stream",
          "name": "stdout",
          "text": [
            "(31, 149, 3)\n",
            "pegged\n"
          ]
        },
        {
          "output_type": "display_data",
          "data": {
            "text/plain": [
              "<PIL.Image.Image image mode=RGB size=104x31>"
            ],
            "image/png": "[encoded data removed]"
          },
          "metadata": {}
        },
        {
          "output_type": "stream",
          "name": "stdout",
          "text": [
            "(31, 104, 3)\n"
          ]
        },
        {
          "output_type": "display_data",
          "data": {
            "text/plain": [
              "<Figure size 640x480 with 1 Axes>"
            ],
            "image/png": "[encoded data removed]"
          },
          "metadata": {}
        }
      ],
      "source": [
        "from google.colab.patches import cv2_imshow\n",
        "# Checking the images and their dimentions\n",
        "import cv2\n",
        "import matplotlib.pyplot as plt\n",
        "img = cv2.imread('/content/144_EMIGRANTS_25365.jpg')\n",
        "\n",
        "cv2_imshow(img)\n",
        "plt.imshow(img)\n",
        "print(img.shape)\n",
        "\n",
        "\n",
        "img = cv2.imread(train_data['image_path'][2])\n",
        "print(train_data['label'][2])\n",
        "\n",
        "cv2_imshow(img)\n",
        "plt.imshow(img)\n",
        "print(img.shape)\n"
      ]
    },
    {
      "cell_type": "markdown",
      "source": [
        "## PHOC and KNN"
      ],
      "metadata": {
        "id": "9y2xZHY6dSev"
      }
    },
    {
      "cell_type": "code",
      "source": [
        "def build_phoc(words, phoc_unigrams, unigram_levels,\n",
        "               bigram_levels=None, phoc_bigrams=None,\n",
        "               split_character=None):\n",
        "    '''\n",
        "    Calculate Pyramidal Histogram of Characters (PHOC) descriptor (see Almazan 2014).\n",
        "    Args:\n",
        "        word (str): word to calculate descriptor for\n",
        "        phoc_unigrams (str): string of all unigrams to use in the PHOC\n",
        "        unigram_levels (list of int): the levels for the unigrams in PHOC\n",
        "        phoc_bigrams (list of str): list of bigrams to be used in the PHOC\n",
        "        phoc_bigram_levls (list of int): the levels of the bigrams in the PHOC\n",
        "        split_character (str): special character to split the word strings into characters\n",
        "        on_unknown_unigram (str): What to do if a unigram appearing in a word\n",
        "            is not among the supplied phoc_unigrams. Possible: 'warn', 'error'\n",
        "    Returns:\n",
        "        the PHOC for the given word\n",
        "    '''\n",
        "    # prepare output matrix\n",
        "    phoc_size = len(phoc_unigrams) * np.sum(unigram_levels)\n",
        "    if phoc_bigrams is not None:\n",
        "        phoc_size += len(phoc_bigrams) * np.sum(bigram_levels)\n",
        "    phocs = np.zeros((len(words), phoc_size))\n",
        "\n",
        "    # prepare some lambda functions\n",
        "    occupancy = lambda k, n: [float(k) / n, float(k + 1) / n]\n",
        "    overlap = lambda a, b: [max(a[0], b[0]), min(a[1], b[1])]\n",
        "    size = lambda region: region[1] - region[0]\n",
        "\n",
        "    # map from character to alphabet position\n",
        "    char_indices = {d: i for i, d in enumerate(phoc_unigrams)}\n",
        "\n",
        "    # iterate through all the words\n",
        "    for word_index, word in enumerate(words):\n",
        "        \"\"\"if '0' in word or '1' in word or '2' in word or '3' in word or '4' in word or '5' in word or '6' in word or '7' in word or '7' in word or '8' in word or '9' in word:\n",
        "            continue\"\"\"\n",
        "        if split_character is not None:\n",
        "            word = word.split(split_character)\n",
        "        n = len(word)\n",
        "        for index, char in enumerate(word):\n",
        "            char_occ = occupancy(index, n)\n",
        "            char_index = char_indices[char]\n",
        "\n",
        "            for level in unigram_levels:\n",
        "                for region in range(level):\n",
        "                    region_occ = occupancy(region, level)\n",
        "                    if size(overlap(char_occ, region_occ)) / size(char_occ) >= 0.5:\n",
        "                        feat_vec_index = sum([l for l in unigram_levels if l < level]) * len(\n",
        "                            phoc_unigrams) + region * len(phoc_unigrams) + char_index\n",
        "                        phocs[word_index, feat_vec_index] = 1\n",
        "\n",
        "        # add bigrams\n",
        "        if phoc_bigrams is not None:\n",
        "            ngram_features = np.zeros(len(phoc_bigrams) * np.sum(bigram_levels))\n",
        "            ngram_occupancy = lambda k, n: [float(k) / n, float(k + 2) / n]\n",
        "\n",
        "            for i in range(n - 1):\n",
        "                ngram = word[i:i + 2]\n",
        "                phoc_dict = {k: v for v, k in enumerate(phoc_bigrams)}\n",
        "                if phoc_dict.get(ngram, 666) == 666:\n",
        "                    continue\n",
        "                occ = ngram_occupancy(i, n)\n",
        "\n",
        "                for level in bigram_levels:\n",
        "                    for region in range(level):\n",
        "                        region_occ = occupancy(region, level)\n",
        "                        overlap_size = size(overlap(occ, region_occ)) / size(occ)\n",
        "                        if overlap_size >= 0.5:\n",
        "                            ngram_features[region * len(phoc_bigrams) + phoc_dict[ngram]] = 1\n",
        "            phocs[word_index, -ngram_features.shape[0]:] = ngram_features\n",
        "\n",
        "    return phocs\n",
        "\n",
        "# Computes the phoc vector for a given str\n",
        "def phoc(raw_word):\n",
        "    if isinstance(raw_word, list):\n",
        "        word = [w.lower() for w in raw_word]\n",
        "    else:\n",
        "        word = [raw_word.lower()]\n",
        "    phoc_unigrams = '0123456789abcdefghijklmnopqrstuvwxyz'\n",
        "    unigram_levels = [2, 3, 4, 5]\n",
        "    bigram_levels = [2]\n",
        "    phoc_bigrams = ['th', 'he', 'in', 'er', 'an',\n",
        "                    're', 'on', 'at', 'en', 'nd',\n",
        "                    'ti', 'es', 'or', 'te', 'of',\n",
        "                    'ed', 'is', 'it', 'al', 'ar',\n",
        "                    'st', 'to', 'nt', 'ng', 'se',\n",
        "                    'ha', 'as', 'ou', 'io', 'le',\n",
        "                    've', 'co', 'me', 'de', 'hi',\n",
        "                    'ri', 'ro', 'ic', 'ne', 'ea',\n",
        "                    'ra', 'ce', 'li', 'ch', 'll',\n",
        "                    'be', 'ma', 'si', 'om', 'ur']\n",
        "\n",
        "    qry_phocs = build_phoc(words=word, phoc_unigrams=phoc_unigrams, unigram_levels=unigram_levels,\n",
        "                           bigram_levels=bigram_levels, phoc_bigrams=phoc_bigrams)\n",
        "    return torch.tensor(qry_phocs[0])"
      ],
      "metadata": {
        "id": "GF48qbW9b4HD"
      },
      "execution_count": 22,
      "outputs": []
    },
    {
      "cell_type": "code",
      "source": [
        "# Read words from the .txt file\n",
        "with open('/content/lexicon.txt', 'r') as file:\n",
        "    words = [line.strip() for line in file]\n",
        "\n",
        "# Compute PHOC descriptors\n",
        "phoc_descriptors = []\n",
        "for word in words:\n",
        "    phoc_descriptors.append(phoc(word).numpy())\n",
        "\n",
        "phoc_descriptors = np.array(phoc_descriptors)\n",
        "\n",
        "# Initialize and train the KNN classifier\n",
        "knn = KNeighborsClassifier(n_neighbors=1)\n",
        "knn.fit(phoc_descriptors, words)\n",
        "\n",
        "# Save the trained KNN classifier to a file\n",
        "with open('knn_phoc_classifier1.pkl', 'wb') as knnPickle:\n",
        "    pickle.dump(knn, knnPickle)\n",
        "\n",
        "print(\"KNN classifier trained and saved successfully.\")"
      ],
      "metadata": {
        "colab": {
          "base_uri": "https://localhost:8080/"
        },
        "id": "sH6ocO51eRa-",
        "outputId": "64f9cc68-4615-47a1-ebac-987574e61cbb"
      },
      "execution_count": 24,
      "outputs": [
        {
          "output_type": "stream",
          "name": "stdout",
          "text": [
            "KNN classifier trained and saved successfully.\n"
          ]
        }
      ]
    },
    {
      "cell_type": "code",
      "source": [
        "# Checking that the shape is 604\n",
        "print(phoc_descriptors[6788].shape)"
      ],
      "metadata": {
        "colab": {
          "base_uri": "https://localhost:8080/"
        },
        "id": "X5LZ7Hlgf25Z",
        "outputId": "ba814ca5-12fa-4dc8-8a8f-638ce895298b"
      },
      "execution_count": 25,
      "outputs": [
        {
          "output_type": "stream",
          "name": "stdout",
          "text": [
            "(604,)\n"
          ]
        }
      ]
    },
    {
      "cell_type": "markdown",
      "source": [
        "## Dataset"
      ],
      "metadata": {
        "id": "zXzahATGmlhq"
      }
    },
    {
      "cell_type": "code",
      "source": [
        "# Creating a Custom Dataset on which to load the image & its labels (both in str and phoc vector form)\n",
        "\n",
        "class CustomDataset(Dataset):\n",
        "    def __init__(self, csv_file_path, transform=None):\n",
        "        self.data_frame = pd.read_csv(csv_file_path)\n",
        "        self.transform = transform\n",
        "        self.label_to_index = {label: idx for idx, label in enumerate(self.data_frame['label'].unique())}\n",
        "\n",
        "    def __len__(self):\n",
        "        return len(self.data_frame)\n",
        "\n",
        "    def __getitem__(self, idx):\n",
        "        img_name = self.data_frame.iloc[idx, 0]\n",
        "        image = Image.open(img_name).convert('RGB')\n",
        "        str_label = self.data_frame.iloc[idx, 1].lower()\n",
        "        target = phoc(str_label)\n",
        "\n",
        "        if self.transform:\n",
        "            image = self.transform(image)\n",
        "\n",
        "        return image, target, str_label\n",
        "\n",
        "# Define transformations\n",
        "transform = transforms.Compose([\n",
        "    transforms.Grayscale(num_output_channels=3),\n",
        "    transforms.Resize((224, 224)),\n",
        "    transforms.ToTensor(),\n",
        "    transforms.Normalize(mean=[0.485, 0.456, 0.406], std=[0.229, 0.224, 0.225]),\n",
        "])"
      ],
      "metadata": {
        "id": "qsMb1hs8mjrw"
      },
      "execution_count": 26,
      "outputs": []
    },
    {
      "cell_type": "markdown",
      "source": [
        "## Model"
      ],
      "metadata": {
        "id": "h4Uj9636GnaU"
      }
    },
    {
      "cell_type": "code",
      "source": [
        "class SPP(nn.Module):\n",
        "    def __init__(self, levels=3, pool_type='max_pool'):\n",
        "        super(SPP, self).__init__()\n",
        "\n",
        "        # Check if the pool_type is valid\n",
        "        if pool_type not in ['max_pool', 'avg_pool', 'max_avg_pool']:\n",
        "            raise ValueError('Unknown pool_type. Must be either \\'max_pool\\', \\'avg_pool\\' or both')\n",
        "\n",
        "        self.pooling_output_size = sum([4 ** level for level in range(levels)]) * 512\n",
        "        self.levels = levels\n",
        "        self.pool_type = pool_type\n",
        "\n",
        "    def forward(self, input_x):\n",
        "        out = self._spatial_pyramid_pooling(input_x, self.levels)\n",
        "        return out\n",
        "\n",
        "    def _pyramid_pooling(self, input_x, output_sizes):\n",
        "        pyramid_level_tensors = []\n",
        "\n",
        "        # Support for various types of pooling\n",
        "        for tsize in output_sizes:\n",
        "            if self.pool_type == 'max_pool':\n",
        "                pyramid_level_tensor = F.adaptive_max_pool2d(input_x, tsize)\n",
        "                pyramid_level_tensor = pyramid_level_tensor.view(input_x.size(0), -1)\n",
        "            if self.pool_type == 'avg_pool':\n",
        "                pyramid_level_tensor = F.adaptive_avg_pool2d(input_x, tsize)\n",
        "                pyramid_level_tensor = pyramid_level_tensor.view(input_x.size(0), -1)\n",
        "            if self.pool_type == 'max_avg_pool':\n",
        "                pyramid_level_tensor_max = F.adaptive_max_pool2d(input_x, tsize)\n",
        "                pyramid_level_tensor_max = pyramid_level_tensor_max.view(input_x.size(0), -1)\n",
        "                pyramid_level_tensor_avg = F.adaptive_avg_pool2d(input_x, tsize)\n",
        "                pyramid_level_tensor_avg = pyramid_level_tensor_avg.view(input_x.size(0), -1)\n",
        "                pyramid_level_tensor = torch.cat([pyramid_level_tensor_max, pyramid_level_tensor_avg], dim=1)\n",
        "\n",
        "            pyramid_level_tensors.append(pyramid_level_tensor)\n",
        "\n",
        "        return torch.cat(pyramid_level_tensors, dim=1)\n",
        "\n",
        "     # Define the spatial pyramid pooling function\n",
        "    def _spatial_pyramid_pooling(self, input_x, levels):\n",
        "        output_sizes = [(int(2 ** level), int(2 ** level)) for level in range(levels)]\n",
        "        return self._pyramid_pooling(input_x, output_sizes)\n",
        "\n",
        "\n",
        "# Define the PHOCNet model from the GH Repo\n",
        "class PHOCNet(nn.Module):\n",
        "    def __init__(self, n_out, input_channels=3, pooling_levels=3, pool_type='max_pool'):\n",
        "        super(PHOCNet, self).__init__()\n",
        "\n",
        "        self.conv_block1 = nn.Sequential(\n",
        "            nn.Conv2d(in_channels=input_channels, out_channels=64, kernel_size=3, stride=1, padding=1),\n",
        "            nn.ReLU(),\n",
        "            nn.Conv2d(in_channels=64, out_channels=64, kernel_size=3, stride=1, padding=1),\n",
        "            nn.ReLU()\n",
        "        )\n",
        "\n",
        "        self.conv_block2 = nn.Sequential(\n",
        "            nn.Conv2d(in_channels=64, out_channels=128, kernel_size=3, stride=1, padding=1),\n",
        "            nn.ReLU(),\n",
        "            nn.Conv2d(in_channels=128, out_channels=128, kernel_size=3, stride=1, padding=1),\n",
        "            nn.ReLU()\n",
        "        )\n",
        "\n",
        "        self.conv_block3 = nn.Sequential(\n",
        "            nn.Conv2d(in_channels=128, out_channels=256, kernel_size=3, stride=1, padding=1),\n",
        "            nn.ReLU(),\n",
        "            nn.Conv2d(in_channels=256, out_channels=256, kernel_size=3, stride=1, padding=1),\n",
        "            nn.ReLU(),\n",
        "            nn.Conv2d(in_channels=256, out_channels=256, kernel_size=3, stride=1, padding=1),\n",
        "            nn.ReLU(),\n",
        "            nn.Conv2d(in_channels=256, out_channels=256, kernel_size=3, stride=1, padding=1),\n",
        "            nn.ReLU(),\n",
        "            nn.Conv2d(in_channels=256, out_channels=256, kernel_size=3, stride=1, padding=1),\n",
        "            nn.ReLU(),\n",
        "            nn.Conv2d(in_channels=256, out_channels=256, kernel_size=3, stride=1, padding=1),\n",
        "            nn.ReLU()\n",
        "        )\n",
        "\n",
        "        self.conv_block4 = nn.Sequential(\n",
        "            nn.Conv2d(in_channels=256, out_channels=512, kernel_size=3, stride=1, padding=1),\n",
        "            nn.ReLU(),\n",
        "            nn.Conv2d(in_channels=512, out_channels=512, kernel_size=3, stride=1, padding=1),\n",
        "            nn.ReLU(),\n",
        "            nn.Conv2d(in_channels=512, out_channels=512, kernel_size=3, stride=1, padding=1),\n",
        "            nn.ReLU()\n",
        "        )\n",
        "\n",
        "        self.pooling_layer_fn = SPP(levels=pooling_levels, pool_type=pool_type)\n",
        "        pooling_output_size = self.pooling_layer_fn.pooling_output_size\n",
        "\n",
        "        self.fc1 = nn.Linear(pooling_output_size, 4096)\n",
        "        self.fc2 = nn.Linear(4096, 4096)\n",
        "        self.fc3 = nn.Linear(4096, n_out)\n",
        "\n",
        "    def forward(self, x):\n",
        "        out = self.conv_block1(x)\n",
        "        out = F.max_pool2d(out, kernel_size=2, stride=2, padding=0)\n",
        "        out = self.conv_block2(out)\n",
        "        out = F.max_pool2d(out, kernel_size=2, stride=2, padding=0)\n",
        "        out = self.conv_block3(out)\n",
        "        out = self.conv_block4(out)\n",
        "\n",
        "        out = self.pooling_layer_fn(out)\n",
        "        out = self.fc1(out)\n",
        "        out = F.relu(out)\n",
        "        out = F.dropout(out, p=0.5, training=self.training)\n",
        "        out = self.fc2(out)\n",
        "        out = F.relu(out)\n",
        "        out = F.dropout(out, p=0.5, training=self.training)\n",
        "        out = self.fc3(out)\n",
        "\n",
        "        return out\n",
        "\n",
        "    # Initialize weights with normal distribution\n",
        "    def init_weights(m):\n",
        "        if isinstance(m, nn.Conv2d) or isinstance(m, nn.Linear):\n",
        "            nn.init.kaiming_normal_(m.weight.data)\n",
        "            if m.bias is not None:\n",
        "                nn.init.constant_(m.bias.data, 0)"
      ],
      "metadata": {
        "id": "QX4LlgLamvNL"
      },
      "execution_count": 27,
      "outputs": []
    },
    {
      "cell_type": "markdown",
      "source": [
        "## Train and Test Loop"
      ],
      "metadata": {
        "id": "gSJXWrCIjkAZ"
      }
    },
    {
      "cell_type": "code",
      "source": [
        "def train(model, train_loader, test_loader, criterion, optimizer, scheduler, config, device=\"cuda\"):\n",
        "    wandb.watch(model, criterion, log=\"all\", log_freq=10) # Watch the model with wandb\n",
        "\n",
        "    # Initialize counters\n",
        "    example_ct = 0\n",
        "    batch_ct = 0\n",
        "    model_phoc = load_model() # Load the KNN Model\n",
        "\n",
        "    # Iterate through epochs\n",
        "    for epoch in tqdm(range(int(config['epochs']))):\n",
        "        model.train()\n",
        "        train_loss = 0\n",
        "        # Iterate through batches of training data and train on said batch\n",
        "        for _, (images, phoc_labels, _) in enumerate(train_loader):\n",
        "            loss = train_batch(images, phoc_labels, model, optimizer, criterion, device)\n",
        "            train_loss += loss.item()\n",
        "            example_ct += len(images)\n",
        "            batch_ct += 1\n",
        "\n",
        "            # Log training progress every 25 batches\n",
        "            if ((batch_ct + 1) % 25) == 0:\n",
        "                train_log(loss.item(), example_ct)\n",
        "\n",
        "        loss_test = test(model, test_loader, train_loader, epoch, criterion, model_phoc, device)\n",
        "\n",
        "        # Adjust the learning rate based on the test loss\n",
        "        scheduler.step(loss_test)\n",
        "        print(scheduler._last_lr)\n",
        "        os.makedirs(config['save_model'], exist_ok=True)\n",
        "        torch.save(model.state_dict(), os.path.join(config['save_model'], f\"PHOCNET{epoch}.pt\"))\n",
        "    return model\n",
        "\n",
        "# Train on a single batch\n",
        "def train_batch(images, labels, model, optimizer, criterion, device=\"cuda\"):\n",
        "    images, labels = images.to(device), labels.to(device)\n",
        "\n",
        "    outputs = model(images)\n",
        "    loss = criterion(outputs.float(), labels.float())\n",
        "\n",
        "    # Backward pass and optimization\n",
        "    optimizer.zero_grad()\n",
        "    loss.backward()\n",
        "    optimizer.step()\n",
        "\n",
        "    return loss\n",
        "\n",
        "# Load the KNN model from a file\n",
        "def load_model():\n",
        "    return pickle.load(open(store_knn_classifier, 'rb'))\n",
        "\n",
        "\n",
        "# Predict labels using the PHOC model\n",
        "def predict_with_PHOC(phocs, model):\n",
        "    result = model.predict(phocs)\n",
        "    return result\n",
        "\n",
        "def test(model, test_loader, train_loader, epoch, criterion, model_phoc, device=\"cuda\", save=True):\n",
        "    model.eval()\n",
        "    with torch.no_grad():\n",
        "      # Initialize metrics\n",
        "        loss_test = 0\n",
        "        loss_train = 0\n",
        "        correct_test = 0\n",
        "        correct_train = 0\n",
        "        edit_test = 0\n",
        "        edit_train = 0\n",
        "        test_count = 0\n",
        "        train_count = 0\n",
        "\n",
        "        # Evaluate on test data\n",
        "        for i, (images, phoc_labels, text_labels) in enumerate(test_loader):\n",
        "            images, phoc_labels = images.to(device), phoc_labels.to(device)\n",
        "            test_count += len(images)\n",
        "            outputs = model(images)\n",
        "            loss_test += criterion(outputs, phoc_labels.float())\n",
        "            predicted_labels = predict_with_PHOC(torch.sigmoid(outputs).cpu().numpy(), model_phoc)\n",
        "            correct_test += (predicted_labels == text_labels).sum().item()\n",
        "            edit_test += sum([editdistance.eval(p, t) for p, t in zip(predicted_labels, text_labels)])\n",
        "            if i == 0:\n",
        "                log_images(images, predicted_labels, text_labels[:5], epoch, \"Test\")\n",
        "\n",
        "        # Evaluate on a subset of training data\n",
        "        for i, (images, phoc_labels, text_labels) in enumerate(train_loader):\n",
        "            images, phoc_labels = images.to(device), phoc_labels.to(device)\n",
        "            train_count += len(images)\n",
        "            outputs = model(images)\n",
        "            loss_train += criterion(outputs, phoc_labels.float())\n",
        "            predicted_labels = predict_with_PHOC(torch.sigmoid(outputs).cpu().numpy(), model_phoc)\n",
        "            correct_train += (predicted_labels == text_labels).sum().item()\n",
        "            edit_train += sum([editdistance.eval(p, t) for p, t in zip(predicted_labels, text_labels)])\n",
        "            if i == 0:\n",
        "                log_images(images, predicted_labels, text_labels[:5], epoch, \"Train\")\n",
        "            if i == 150:\n",
        "                break\n",
        "\n",
        "        # Calculate average loss and accuracy\n",
        "        loss_test = loss_test / len(test_loader)\n",
        "        loss_train = loss_train / (i + 1)\n",
        "        accuracy_test = correct_test / test_count\n",
        "        accuracy_train = correct_train / train_count\n",
        "        edit_test = edit_test / test_count\n",
        "        edit_train = edit_train / train_count\n",
        "\n",
        "        train_test_log(loss_test, loss_train, accuracy_test, accuracy_train, edit_test, edit_train, epoch) # Log training and testing metrics\n",
        "\n",
        "    return loss_test"
      ],
      "metadata": {
        "id": "SDpE2erqH8x1"
      },
      "execution_count": 28,
      "outputs": []
    },
    {
      "cell_type": "markdown",
      "source": [
        "## Model Pipeline"
      ],
      "metadata": {
        "id": "1YYUi7hanARX"
      }
    },
    {
      "cell_type": "code",
      "source": [
        "# Function to create and initialize the model, and create data loaders\n",
        "def make(config, device=\"cuda\"):\n",
        "    # Create data loaders\n",
        "    dataset = CustomDataset(config['train_dir'], transform=transform)\n",
        "    train_size = int(0.8 * len(dataset))\n",
        "    test_size = len(dataset) - train_size\n",
        "    train_dataset, test_dataset = random_split(dataset, [train_size, test_size])\n",
        "\n",
        "    train_loader = DataLoader(train_dataset, batch_size=config['batch_size'], shuffle=True)\n",
        "    test_loader = DataLoader(test_dataset, batch_size=config['batch_size'], shuffle=False)\n",
        "\n",
        "    # Make the model\n",
        "    model = PHOCNet(n_out=604, input_channels=3).to(device)\n",
        "    model.apply(init_weights_model)\n",
        "\n",
        "    # Define the loss criterion\n",
        "    criterion = torch.nn.BCEWithLogitsLoss(reduction='mean')\n",
        "\n",
        "    # Define the optimizer and learning rate scheduler\n",
        "    optimizer = torch.optim.SGD(model.parameters(), lr=config['learning_rate'], momentum=0.9)\n",
        "    scheduler = StepLR(optimizer, step_size=2, gamma=0.3)\n",
        "\n",
        "    return model, train_loader, test_loader, criterion, optimizer, scheduler\n",
        "\n",
        "# Initialize weights for the model layers\n",
        "def init_weights_model(m):\n",
        "    if isinstance(m, nn.Conv2d) or isinstance(m, nn.Linear):\n",
        "        nn.init.kaiming_normal_(m.weight)\n",
        "        if m.bias is not None:\n",
        "            nn.init.constant_(m.bias, 0)\n",
        "\n",
        "# Set parameters to require gradient computation for fine-tuning\n",
        "def set_parameter_requires_grad(model, feature_extracting):\n",
        "    if feature_extracting:\n",
        "        for param in model.parameters():\n",
        "            param.requires_grad = False\n",
        "\n",
        "# Function to run the config and training of the model\n",
        "def model_pipeline(cfg: dict) -> None:\n",
        "    # Initialize a new wandb run\n",
        "    with wandb.init(project=\"phocnet-project\", config=cfg):\n",
        "        config = wandb.config\n",
        "\n",
        "        model, train_loader, test_loader, criterion, optimizer, scheduler = make(config, device)\n",
        "        model = train(model, train_loader, test_loader, criterion, optimizer, scheduler, config, device)\n",
        "\n",
        "        return model"
      ],
      "metadata": {
        "id": "0opx6gzzm9dJ"
      },
      "execution_count": 29,
      "outputs": []
    },
    {
      "cell_type": "markdown",
      "source": [
        "## Execution"
      ],
      "metadata": {
        "id": "ltriQdEqnM7E"
      }
    },
    {
      "cell_type": "code",
      "source": [
        "if __name__ == \"__main__\":\n",
        "    wandb.login()\n",
        "\n",
        "    config = dict(\n",
        "        train_dir='/content/updated_train_data500images_corrected.csv',\n",
        "        test_dir='/content/updated_train_data500images_corrected.csv',\n",
        "        epochs=8,\n",
        "        batch_size=8,\n",
        "        learning_rate=0.01,\n",
        "        save_model='./models'\n",
        "    )\n",
        "\n",
        "    model = model_pipeline(config)"
      ],
      "metadata": {
        "id": "ef1PRlCinIKl",
        "colab": {
          "base_uri": "https://localhost:8080/",
          "height": 1000,
          "referenced_widgets": [
            "8507dfc2ddde4135b7a645fbf196df8b",
            "b582421d97a44d37b32714f3b19ffe27",
            "bd3eb52e3bcb438aa5a0b414e407cd95",
            "bf4c1d8a84684e009c6796d64990e574",
            "a2cf2ebd345141f4ac5532f14a02c403",
            "4018dbe74bf04c96a8f966fec394511c",
            "d2b43fd0e2124695954c0367f5dab881",
            "9452c27516f4448f9ea43403b2e2a125"
          ]
        },
        "outputId": "5805ec81-2f5c-4a86-99ba-13f2e8cf6ed8"
      },
      "execution_count": 31,
      "outputs": [
        {
          "output_type": "display_data",
          "data": {
            "text/plain": [
              "<IPython.core.display.HTML object>"
            ],
            "text/html": [
              "Tracking run with wandb version 0.17.0"
            ]
          },
          "metadata": {}
        },
        {
          "output_type": "display_data",
          "data": {
            "text/plain": [
              "<IPython.core.display.HTML object>"
            ],
            "text/html": [
              "Run data is saved locally in <code>/content/wandb/run-20240529_091813-ykprsopt</code>"
            ]
          },
          "metadata": {}
        },
        {
          "output_type": "display_data",
          "data": {
            "text/plain": [
              "<IPython.core.display.HTML object>"
            ],
            "text/html": [
              "Syncing run <strong><a href='https://wandb.ai/marino-com/phocnet-project/runs/ykprsopt' target=\"_blank\">unique-pond-30</a></strong> to <a href='https://wandb.ai/marino-com/phocnet-project' target=\"_blank\">Weights & Biases</a> (<a href='https://wandb.me/run' target=\"_blank\">docs</a>)<br/>"
            ]
          },
          "metadata": {}
        },
        {
          "output_type": "display_data",
          "data": {
            "text/plain": [
              "<IPython.core.display.HTML object>"
            ],
            "text/html": [
              " View project at <a href='https://wandb.ai/marino-com/phocnet-project' target=\"_blank\">https://wandb.ai/marino-com/phocnet-project</a>"
            ]
          },
          "metadata": {}
        },
        {
          "output_type": "display_data",
          "data": {
            "text/plain": [
              "<IPython.core.display.HTML object>"
            ],
            "text/html": [
              " View run at <a href='https://wandb.ai/marino-com/phocnet-project/runs/ykprsopt' target=\"_blank\">https://wandb.ai/marino-com/phocnet-project/runs/ykprsopt</a>"
            ]
          },
          "metadata": {}
        },
        {
          "output_type": "stream",
          "name": "stderr",
          "text": [
            "\r  0%|          | 0/8 [00:00<?, ?it/s]"
          ]
        },
        {
          "output_type": "stream",
          "name": "stdout",
          "text": [
            "Loss after 00192 examples: 0.414\n",
            "Train Loss: 0.238\n",
            "Test Loss: 0.241\n",
            "[tensor(0.0100, device='cuda:0')]\n"
          ]
        },
        {
          "output_type": "stream",
          "name": "stderr",
          "text": [
            "/usr/local/lib/python3.10/dist-packages/torch/optim/lr_scheduler.py:156: UserWarning: The epoch parameter in `scheduler.step()` was not necessary and is being deprecated where possible. Please use `scheduler.step()` to step the scheduler. During the deprecation, if epoch is different from None, the closed form is used instead of the new chainable form, where available. Please open an issue if you are unable to replicate your use case: https://github.com/pytorch/pytorch/issues/new/choose.\n",
            "  warnings.warn(EPOCH_DEPRECATION_WARNING, UserWarning)\n",
            " 12%|█▎        | 1/8 [00:59<06:58, 59.77s/it]"
          ]
        },
        {
          "output_type": "stream",
          "name": "stdout",
          "text": [
            "Loss after 00388 examples: 0.253\n",
            "Loss after 00588 examples: 0.253\n",
            "Train Loss: 0.207\n",
            "Test Loss: 0.210\n",
            "[tensor(0.0100, device='cuda:0')]\n"
          ]
        },
        {
          "output_type": "stream",
          "name": "stderr",
          "text": [
            "/usr/local/lib/python3.10/dist-packages/torch/optim/lr_scheduler.py:156: UserWarning: The epoch parameter in `scheduler.step()` was not necessary and is being deprecated where possible. Please use `scheduler.step()` to step the scheduler. During the deprecation, if epoch is different from None, the closed form is used instead of the new chainable form, where available. Please open an issue if you are unable to replicate your use case: https://github.com/pytorch/pytorch/issues/new/choose.\n",
            "  warnings.warn(EPOCH_DEPRECATION_WARNING, UserWarning)\n",
            " 25%|██▌       | 2/8 [01:46<05:10, 51.81s/it]"
          ]
        },
        {
          "output_type": "stream",
          "name": "stdout",
          "text": [
            "Loss after 00784 examples: 0.224\n",
            "Train Loss: 0.186\n",
            "Test Loss: 0.191\n",
            "[tensor(0.0100, device='cuda:0')]\n"
          ]
        },
        {
          "output_type": "stream",
          "name": "stderr",
          "text": [
            "/usr/local/lib/python3.10/dist-packages/torch/optim/lr_scheduler.py:156: UserWarning: The epoch parameter in `scheduler.step()` was not necessary and is being deprecated where possible. Please use `scheduler.step()` to step the scheduler. During the deprecation, if epoch is different from None, the closed form is used instead of the new chainable form, where available. Please open an issue if you are unable to replicate your use case: https://github.com/pytorch/pytorch/issues/new/choose.\n",
            "  warnings.warn(EPOCH_DEPRECATION_WARNING, UserWarning)\n",
            " 38%|███▊      | 3/8 [02:38<04:21, 52.28s/it]"
          ]
        },
        {
          "output_type": "stream",
          "name": "stdout",
          "text": [
            "Loss after 00980 examples: 0.210\n",
            "Loss after 01180 examples: 0.207\n",
            "Train Loss: 0.182\n",
            "Test Loss: 0.186\n",
            "[tensor(0.0100, device='cuda:0')]\n"
          ]
        },
        {
          "output_type": "stream",
          "name": "stderr",
          "text": [
            "/usr/local/lib/python3.10/dist-packages/torch/optim/lr_scheduler.py:156: UserWarning: The epoch parameter in `scheduler.step()` was not necessary and is being deprecated where possible. Please use `scheduler.step()` to step the scheduler. During the deprecation, if epoch is different from None, the closed form is used instead of the new chainable form, where available. Please open an issue if you are unable to replicate your use case: https://github.com/pytorch/pytorch/issues/new/choose.\n",
            "  warnings.warn(EPOCH_DEPRECATION_WARNING, UserWarning)\n",
            " 50%|█████     | 4/8 [03:25<03:19, 49.91s/it]"
          ]
        },
        {
          "output_type": "stream",
          "name": "stdout",
          "text": [
            "Loss after 01376 examples: 0.209\n",
            "Train Loss: 0.180\n",
            "Test Loss: 0.184\n",
            "[tensor(0.0100, device='cuda:0')]\n"
          ]
        },
        {
          "output_type": "stream",
          "name": "stderr",
          "text": [
            "/usr/local/lib/python3.10/dist-packages/torch/optim/lr_scheduler.py:156: UserWarning: The epoch parameter in `scheduler.step()` was not necessary and is being deprecated where possible. Please use `scheduler.step()` to step the scheduler. During the deprecation, if epoch is different from None, the closed form is used instead of the new chainable form, where available. Please open an issue if you are unable to replicate your use case: https://github.com/pytorch/pytorch/issues/new/choose.\n",
            "  warnings.warn(EPOCH_DEPRECATION_WARNING, UserWarning)\n",
            " 62%|██████▎   | 5/8 [04:12<02:26, 48.97s/it]"
          ]
        },
        {
          "output_type": "stream",
          "name": "stdout",
          "text": [
            "Loss after 01572 examples: 0.241\n",
            "Loss after 01772 examples: 0.216\n",
            "Train Loss: 0.179\n",
            "Test Loss: 0.183\n",
            "[tensor(0.0100, device='cuda:0')]\n"
          ]
        },
        {
          "output_type": "stream",
          "name": "stderr",
          "text": [
            "/usr/local/lib/python3.10/dist-packages/torch/optim/lr_scheduler.py:156: UserWarning: The epoch parameter in `scheduler.step()` was not necessary and is being deprecated where possible. Please use `scheduler.step()` to step the scheduler. During the deprecation, if epoch is different from None, the closed form is used instead of the new chainable form, where available. Please open an issue if you are unable to replicate your use case: https://github.com/pytorch/pytorch/issues/new/choose.\n",
            "  warnings.warn(EPOCH_DEPRECATION_WARNING, UserWarning)\n",
            " 75%|███████▌  | 6/8 [04:57<01:35, 47.65s/it]"
          ]
        },
        {
          "output_type": "stream",
          "name": "stdout",
          "text": [
            "Loss after 01968 examples: 0.192\n",
            "Train Loss: 0.183\n",
            "Test Loss: 0.188\n",
            "[tensor(0.0100, device='cuda:0')]\n"
          ]
        },
        {
          "output_type": "stream",
          "name": "stderr",
          "text": [
            "/usr/local/lib/python3.10/dist-packages/torch/optim/lr_scheduler.py:156: UserWarning: The epoch parameter in `scheduler.step()` was not necessary and is being deprecated where possible. Please use `scheduler.step()` to step the scheduler. During the deprecation, if epoch is different from None, the closed form is used instead of the new chainable form, where available. Please open an issue if you are unable to replicate your use case: https://github.com/pytorch/pytorch/issues/new/choose.\n",
            "  warnings.warn(EPOCH_DEPRECATION_WARNING, UserWarning)\n",
            " 88%|████████▊ | 7/8 [05:42<00:46, 46.91s/it]"
          ]
        },
        {
          "output_type": "stream",
          "name": "stdout",
          "text": [
            "Loss after 02164 examples: 0.194\n",
            "Loss after 02364 examples: 0.184\n",
            "Train Loss: 0.181\n",
            "Test Loss: 0.184\n",
            "[tensor(0.0100, device='cuda:0')]\n"
          ]
        },
        {
          "output_type": "stream",
          "name": "stderr",
          "text": [
            "/usr/local/lib/python3.10/dist-packages/torch/optim/lr_scheduler.py:156: UserWarning: The epoch parameter in `scheduler.step()` was not necessary and is being deprecated where possible. Please use `scheduler.step()` to step the scheduler. During the deprecation, if epoch is different from None, the closed form is used instead of the new chainable form, where available. Please open an issue if you are unable to replicate your use case: https://github.com/pytorch/pytorch/issues/new/choose.\n",
            "  warnings.warn(EPOCH_DEPRECATION_WARNING, UserWarning)\n",
            "100%|██████████| 8/8 [06:29<00:00, 48.70s/it]\n"
          ]
        },
        {
          "output_type": "display_data",
          "data": {
            "text/plain": [
              "VBox(children=(Label(value='1.893 MB of 1.893 MB uploaded\\r'), FloatProgress(value=1.0, max=1.0)))"
            ],
            "application/vnd.jupyter.widget-view+json": {
              "version_major": 2,
              "version_minor": 0,
              "model_id": "8507dfc2ddde4135b7a645fbf196df8b"
            }
          },
          "metadata": {}
        },
        {
          "output_type": "display_data",
          "data": {
            "text/plain": [
              "<IPython.core.display.HTML object>"
            ],
            "text/html": [
              "<style>\n",
              "    table.wandb td:nth-child(1) { padding: 0 10px; text-align: left ; width: auto;} td:nth-child(2) {text-align: left ; width: 100%}\n",
              "    .wandb-row { display: flex; flex-direction: row; flex-wrap: wrap; justify-content: flex-start; width: 100% }\n",
              "    .wandb-col { display: flex; flex-direction: column; flex-basis: 100%; flex: 1; padding: 10px; }\n",
              "    </style>\n",
              "<div class=\"wandb-row\"><div class=\"wandb-col\"><h3>Run history:</h3><br/><table class=\"wandb\"><tr><td>Epoch</td><td>▁▂▃▄▅▆▇█</td></tr><tr><td>Test accuracy</td><td>▁▁▁▁▁▁▁▁</td></tr><tr><td>Test edit</td><td>█▁▁▁▁▁▁▁</td></tr><tr><td>Test loss</td><td>█▄▂▁▁▁▂▁</td></tr><tr><td>Train accuracy</td><td>▁▁▁▁▁▁▁▁</td></tr><tr><td>Train edit</td><td>█▂▁▁▁▁▁▁</td></tr><tr><td>Train loss</td><td>█▄▂▁▁▁▂▁</td></tr><tr><td>loss</td><td>█▃▃▂▂▂▂▃▂▁▁▁</td></tr></table><br/></div><div class=\"wandb-col\"><h3>Run summary:</h3><br/><table class=\"wandb\"><tr><td>Epoch</td><td>7</td></tr><tr><td>Test accuracy</td><td>0.0</td></tr><tr><td>Test edit</td><td>7.64103</td></tr><tr><td>Test loss</td><td>0.1843</td></tr><tr><td>Train accuracy</td><td>0.0</td></tr><tr><td>Train edit</td><td>7.35065</td></tr><tr><td>Train loss</td><td>0.18085</td></tr><tr><td>loss</td><td>0.18431</td></tr></table><br/></div></div>"
            ]
          },
          "metadata": {}
        },
        {
          "output_type": "display_data",
          "data": {
            "text/plain": [
              "<IPython.core.display.HTML object>"
            ],
            "text/html": [
              " View run <strong style=\"color:#cdcd00\">unique-pond-30</strong> at: <a href='https://wandb.ai/marino-com/phocnet-project/runs/ykprsopt' target=\"_blank\">https://wandb.ai/marino-com/phocnet-project/runs/ykprsopt</a><br/> View project at: <a href='https://wandb.ai/marino-com/phocnet-project' target=\"_blank\">https://wandb.ai/marino-com/phocnet-project</a><br/>Synced 5 W&B file(s), 80 media file(s), 0 artifact file(s) and 0 other file(s)"
            ]
          },
          "metadata": {}
        },
        {
          "output_type": "display_data",
          "data": {
            "text/plain": [
              "<IPython.core.display.HTML object>"
            ],
            "text/html": [
              "Find logs at: <code>./wandb/run-20240529_091813-ykprsopt/logs</code>"
            ]
          },
          "metadata": {}
        }
      ]
    }
  ],
  "metadata": {
    "colab": {
      "provenance": [],
      "gpuType": "T4"
    },
    "kernelspec": {
      "display_name": "Python 3",
      "name": "python3"
    },
    "language_info": {
      "codemirror_mode": {
        "name": "ipython",
        "version": 3
      },
      "file_extension": ".py",
      "mimetype": "text/x-python",
      "name": "python",
      "nbconvert_exporter": "python",
      "pygments_lexer": "ipython3",
      "version": "3.10.13"
    },
    "accelerator": "GPU",
    "widgets": {
      "application/vnd.jupyter.widget-state+json": {
        "8507dfc2ddde4135b7a645fbf196df8b": {
          "model_module": "@jupyter-widgets/controls",
          "model_name": "VBoxModel",
          "model_module_version": "1.5.0",
          "state": {
            "_dom_classes": [],
            "_model_module": "@jupyter-widgets/controls",
            "_model_module_version": "1.5.0",
            "_model_name": "VBoxModel",
            "_view_count": null,
            "_view_module": "@jupyter-widgets/controls",
            "_view_module_version": "1.5.0",
            "_view_name": "VBoxView",
            "box_style": "",
            "children": [
              "IPY_MODEL_b582421d97a44d37b32714f3b19ffe27",
              "IPY_MODEL_bd3eb52e3bcb438aa5a0b414e407cd95"
            ],
            "layout": "IPY_MODEL_bf4c1d8a84684e009c6796d64990e574"
          }
        },
        "b582421d97a44d37b32714f3b19ffe27": {
          "model_module": "@jupyter-widgets/controls",
          "model_name": "LabelModel",
          "model_module_version": "1.5.0",
          "state": {
            "_dom_classes": [],
            "_model_module": "@jupyter-widgets/controls",
            "_model_module_version": "1.5.0",
            "_model_name": "LabelModel",
            "_view_count": null,
            "_view_module": "@jupyter-widgets/controls",
            "_view_module_version": "1.5.0",
            "_view_name": "LabelView",
            "description": "",
            "description_tooltip": null,
            "layout": "IPY_MODEL_a2cf2ebd345141f4ac5532f14a02c403",
            "placeholder": "​",
            "style": "IPY_MODEL_4018dbe74bf04c96a8f966fec394511c",
            "value": "2.034 MB of 2.034 MB uploaded\r"
          }
        },
        "bd3eb52e3bcb438aa5a0b414e407cd95": {
          "model_module": "@jupyter-widgets/controls",
          "model_name": "FloatProgressModel",
          "model_module_version": "1.5.0",
          "state": {
            "_dom_classes": [],
            "_model_module": "@jupyter-widgets/controls",
            "_model_module_version": "1.5.0",
            "_model_name": "FloatProgressModel",
            "_view_count": null,
            "_view_module": "@jupyter-widgets/controls",
            "_view_module_version": "1.5.0",
            "_view_name": "ProgressView",
            "bar_style": "",
            "description": "",
            "description_tooltip": null,
            "layout": "IPY_MODEL_d2b43fd0e2124695954c0367f5dab881",
            "max": 1,
            "min": 0,
            "orientation": "horizontal",
            "style": "IPY_MODEL_9452c27516f4448f9ea43403b2e2a125",
            "value": 1
          }
        },
        "bf4c1d8a84684e009c6796d64990e574": {
          "model_module": "@jupyter-widgets/base",
          "model_name": "LayoutModel",
          "model_module_version": "1.2.0",
          "state": {
            "_model_module": "@jupyter-widgets/base",
            "_model_module_version": "1.2.0",
            "_model_name": "LayoutModel",
            "_view_count": null,
            "_view_module": "@jupyter-widgets/base",
            "_view_module_version": "1.2.0",
            "_view_name": "LayoutView",
            "align_content": null,
            "align_items": null,
            "align_self": null,
            "border": null,
            "bottom": null,
            "display": null,
            "flex": null,
            "flex_flow": null,
            "grid_area": null,
            "grid_auto_columns": null,
            "grid_auto_flow": null,
            "grid_auto_rows": null,
            "grid_column": null,
            "grid_gap": null,
            "grid_row": null,
            "grid_template_areas": null,
            "grid_template_columns": null,
            "grid_template_rows": null,
            "height": null,
            "justify_content": null,
            "justify_items": null,
            "left": null,
            "margin": null,
            "max_height": null,
            "max_width": null,
            "min_height": null,
            "min_width": null,
            "object_fit": null,
            "object_position": null,
            "order": null,
            "overflow": null,
            "overflow_x": null,
            "overflow_y": null,
            "padding": null,
            "right": null,
            "top": null,
            "visibility": null,
            "width": null
          }
        },
        "a2cf2ebd345141f4ac5532f14a02c403": {
          "model_module": "@jupyter-widgets/base",
          "model_name": "LayoutModel",
          "model_module_version": "1.2.0",
          "state": {
            "_model_module": "@jupyter-widgets/base",
            "_model_module_version": "1.2.0",
            "_model_name": "LayoutModel",
            "_view_count": null,
            "_view_module": "@jupyter-widgets/base",
            "_view_module_version": "1.2.0",
            "_view_name": "LayoutView",
            "align_content": null,
            "align_items": null,
            "align_self": null,
            "border": null,
            "bottom": null,
            "display": null,
            "flex": null,
            "flex_flow": null,
            "grid_area": null,
            "grid_auto_columns": null,
            "grid_auto_flow": null,
            "grid_auto_rows": null,
            "grid_column": null,
            "grid_gap": null,
            "grid_row": null,
            "grid_template_areas": null,
            "grid_template_columns": null,
            "grid_template_rows": null,
            "height": null,
            "justify_content": null,
            "justify_items": null,
            "left": null,
            "margin": null,
            "max_height": null,
            "max_width": null,
            "min_height": null,
            "min_width": null,
            "object_fit": null,
            "object_position": null,
            "order": null,
            "overflow": null,
            "overflow_x": null,
            "overflow_y": null,
            "padding": null,
            "right": null,
            "top": null,
            "visibility": null,
            "width": null
          }
        },
        "4018dbe74bf04c96a8f966fec394511c": {
          "model_module": "@jupyter-widgets/controls",
          "model_name": "DescriptionStyleModel",
          "model_module_version": "1.5.0",
          "state": {
            "_model_module": "@jupyter-widgets/controls",
            "_model_module_version": "1.5.0",
            "_model_name": "DescriptionStyleModel",
            "_view_count": null,
            "_view_module": "@jupyter-widgets/base",
            "_view_module_version": "1.2.0",
            "_view_name": "StyleView",
            "description_width": ""
          }
        },
        "d2b43fd0e2124695954c0367f5dab881": {
          "model_module": "@jupyter-widgets/base",
          "model_name": "LayoutModel",
          "model_module_version": "1.2.0",
          "state": {
            "_model_module": "@jupyter-widgets/base",
            "_model_module_version": "1.2.0",
            "_model_name": "LayoutModel",
            "_view_count": null,
            "_view_module": "@jupyter-widgets/base",
            "_view_module_version": "1.2.0",
            "_view_name": "LayoutView",
            "align_content": null,
            "align_items": null,
            "align_self": null,
            "border": null,
            "bottom": null,
            "display": null,
            "flex": null,
            "flex_flow": null,
            "grid_area": null,
            "grid_auto_columns": null,
            "grid_auto_flow": null,
            "grid_auto_rows": null,
            "grid_column": null,
            "grid_gap": null,
            "grid_row": null,
            "grid_template_areas": null,
            "grid_template_columns": null,
            "grid_template_rows": null,
            "height": null,
            "justify_content": null,
            "justify_items": null,
            "left": null,
            "margin": null,
            "max_height": null,
            "max_width": null,
            "min_height": null,
            "min_width": null,
            "object_fit": null,
            "object_position": null,
            "order": null,
            "overflow": null,
            "overflow_x": null,
            "overflow_y": null,
            "padding": null,
            "right": null,
            "top": null,
            "visibility": null,
            "width": null
          }
        },
        "9452c27516f4448f9ea43403b2e2a125": {
          "model_module": "@jupyter-widgets/controls",
          "model_name": "ProgressStyleModel",
          "model_module_version": "1.5.0",
          "state": {
            "_model_module": "@jupyter-widgets/controls",
            "_model_module_version": "1.5.0",
            "_model_name": "ProgressStyleModel",
            "_view_count": null,
            "_view_module": "@jupyter-widgets/base",
            "_view_module_version": "1.2.0",
            "_view_name": "StyleView",
            "bar_color": null,
            "description_width": ""
          }
        }
      }
    }
  },
  "nbformat": 4,
  "nbformat_minor": 0
}