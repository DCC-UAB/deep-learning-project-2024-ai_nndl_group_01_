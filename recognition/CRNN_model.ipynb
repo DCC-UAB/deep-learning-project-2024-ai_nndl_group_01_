{
 "cells": [
  {
   "cell_type": "code",
   "execution_count": 2,
   "metadata": {},
   "outputs": [],
   "source": [
    "import pandas as pd\n",
    "import os\n",
    "from PIL import Image\n",
    "from torch.utils.data import Dataset, DataLoader\n",
    "from torchvision import transforms\n",
    "\n",
    "import torch\n",
    "import torch.nn as nn\n",
    "import torch.optim as optim\n",
    "import wandb\n",
    "\n",
    "import matplotlib.pyplot as plt\n",
    "import cv2\n",
    "import numpy as np "
   ]
  },
  {
   "cell_type": "code",
   "execution_count": 2,
   "metadata": {},
   "outputs": [
    {
     "name": "stderr",
     "output_type": "stream",
     "text": [
      "Failed to detect the name of this notebook, you can set it manually with the WANDB_NOTEBOOK_NAME environment variable to enable code saving.\n",
      "\u001b[34m\u001b[1mwandb\u001b[0m: Currently logged in as: \u001b[33mluisdomene\u001b[0m. Use \u001b[1m`wandb login --relogin`\u001b[0m to force relogin\n"
     ]
    },
    {
     "data": {
      "text/html": [
       "Tracking run with wandb version 0.17.0"
      ],
      "text/plain": [
       "<IPython.core.display.HTML object>"
      ]
     },
     "metadata": {},
     "output_type": "display_data"
    },
    {
     "data": {
      "text/html": [
       "Run data is saved locally in <code>/home/xnmaster/deep-learning-project-2024-ai_nndl_group_01_/recognition/wandb/run-20240529_224059-vm41rzrm</code>"
      ],
      "text/plain": [
       "<IPython.core.display.HTML object>"
      ]
     },
     "metadata": {},
     "output_type": "display_data"
    },
    {
     "data": {
      "text/html": [
       "Syncing run <strong><a href='https://wandb.ai/luisdomene/CRNN/runs/vm41rzrm' target=\"_blank\">treasured-paper-31</a></strong> to <a href='https://wandb.ai/luisdomene/CRNN' target=\"_blank\">Weights & Biases</a> (<a href='https://wandb.me/run' target=\"_blank\">docs</a>)<br/>"
      ],
      "text/plain": [
       "<IPython.core.display.HTML object>"
      ]
     },
     "metadata": {},
     "output_type": "display_data"
    },
    {
     "data": {
      "text/html": [
       " View project at <a href='https://wandb.ai/luisdomene/CRNN' target=\"_blank\">https://wandb.ai/luisdomene/CRNN</a>"
      ],
      "text/plain": [
       "<IPython.core.display.HTML object>"
      ]
     },
     "metadata": {},
     "output_type": "display_data"
    },
    {
     "data": {
      "text/html": [
       " View run at <a href='https://wandb.ai/luisdomene/CRNN/runs/vm41rzrm' target=\"_blank\">https://wandb.ai/luisdomene/CRNN/runs/vm41rzrm</a>"
      ],
      "text/plain": [
       "<IPython.core.display.HTML object>"
      ]
     },
     "metadata": {},
     "output_type": "display_data"
    }
   ],
   "source": [
    "# Inicializar wandb\n",
    "wandb.init(project=\"CRNN\", entity=\"luisdomene\")\n",
    "\n",
    "# Registrar hiperparámetros\n",
    "config = wandb.config\n",
    "config.learning_rate = 0.0003\n",
    "config.weight_decay = 0.0005\n",
    "config.batch_size = 512  # Incrementado para aprovechar la memoria GPU\n",
    "config.num_epochs = 25   # Incrementado para permitir más tiempo de entrenamiento"
   ]
  },
  {
   "cell_type": "code",
   "execution_count": 23,
   "metadata": {},
   "outputs": [],
   "source": [
    "\"\"\"batch_size = 512\n",
    "num_epochs = 25\n",
    "lr = 0.001 \"\"\""
   ]
  },
  {
   "cell_type": "code",
   "execution_count": 5,
   "metadata": {},
   "outputs": [],
   "source": [
    "# Paths to annotation files and base folders\n",
    "training_folder = '/home/xnmaster/deep-learning-project-2024-ai_nndl_group_01_/Synthetic/training_folder'\n",
    "validation_folder = '/home/xnmaster/deep-learning-project-2024-ai_nndl_group_01_/Synthetic/validation_folder'\n",
    "test_folder = '/home/xnmaster/deep-learning-project-2024-ai_nndl_group_01_/Synthetic/test_folder'\n",
    "\n",
    "annotation_train_file = '/home/xnmaster/deep-learning-project-2024-ai_nndl_group_01_/Synthetic/annotation_train.txt'\n",
    "annotation_val_file = '/home/xnmaster/deep-learning-project-2024-ai_nndl_group_01_/Synthetic/annotation_val.txt'\n",
    "annotation_test_file = '/home/xnmaster/deep-learning-project-2024-ai_nndl_group_01_/Synthetic/annotation_test.txt'"
   ]
  },
  {
   "cell_type": "code",
   "execution_count": null,
   "metadata": {},
   "outputs": [],
   "source": [
    "\"\"\"\n",
    "This cell creates the csv files of train, val and test. With image_path, label, height and widht.\n",
    "If you've already created them you can directly load them in the next cell.\n",
    "\"\"\"\n",
    "def extract_image_paths_labels_and_dimensions(annotation_file, base_folder, num_images):\n",
    "    image_paths = []\n",
    "    labels = []\n",
    "    dimensions = []\n",
    "\n",
    "    with open(annotation_file, 'r') as f:\n",
    "        lines = f.readlines()\n",
    "    \n",
    "    lines.sort()  # Sort the lines to ensure we start from the first files\n",
    "    \n",
    "    for line in lines:\n",
    "        parts = line.strip().split()\n",
    "        if len(parts) < 2:\n",
    "            continue\n",
    "        \n",
    "        image_path, _ = parts\n",
    "        label = image_path.split('_')[1]\n",
    "        # Correct the path separators\n",
    "        corrected_image_path = os.path.join(base_folder, image_path[2:]).replace('\\\\', '/')\n",
    "        \n",
    "        # Read the image to get its dimensions\n",
    "        image = cv2.imread(corrected_image_path)\n",
    "        if image is not None:\n",
    "            height, width, _ = image.shape\n",
    "        else:\n",
    "            height, width = None, None  # In case the image cannot be read\n",
    "        \n",
    "        image_paths.append(corrected_image_path)\n",
    "        labels.append(label)\n",
    "        dimensions.append((height, width))\n",
    "        \n",
    "        if len(image_paths) >= num_images:\n",
    "            break\n",
    "    \n",
    "    return image_paths, labels, dimensions\n",
    "\n",
    "\n",
    "\n",
    "# Extract data with corrected image paths\n",
    "train_images, train_labels, train_dimensions = extract_image_paths_labels_and_dimensions(annotation_train_file, training_folder, 200000)\n",
    "val_images, val_labels, val_dimensions = extract_image_paths_labels_and_dimensions(annotation_val_file, validation_folder, 10000)\n",
    "test_images, test_labels, test_dimensions = extract_image_paths_labels_and_dimensions(annotation_test_file, test_folder, 10000)\n",
    "\n",
    "# Separate height and width\n",
    "train_heights, train_widths = zip(*train_dimensions)\n",
    "val_heights, val_widths = zip(*val_dimensions)\n",
    "test_heights, test_widths = zip(*test_dimensions)\n",
    "\n",
    "# Create dataframes\n",
    "train_df = pd.DataFrame({'image_path': train_images, 'label': train_labels, 'height': train_heights, 'width': train_widths})\n",
    "val_df = pd.DataFrame({'image_path': val_images, 'label': val_labels, 'height': val_heights, 'width': val_widths})\n",
    "test_df = pd.DataFrame({'image_path': test_images, 'label': test_labels, 'height': test_heights, 'width': test_widths})\n",
    "\n",
    "# Save to CSV files\n",
    "train_df.to_csv('train_data2.csv', index=False)\n",
    "val_df.to_csv('val_data2.csv', index=False)\n",
    "test_df.to_csv('test_data2.csv', index=False)\n",
    "\n",
    "# Create dictionaries from the dataframes\n",
    "train_dict = train_df.to_dict(orient='records')\n",
    "val_dict = val_df.to_dict(orient='records')\n",
    "test_dict = test_df.to_dict(orient='records')\n"
   ]
  },
  {
   "cell_type": "code",
   "execution_count": 3,
   "metadata": {},
   "outputs": [],
   "source": [
    "# Load the CSVs\n",
    "train_data = pd.read_csv(\"train_data2.csv\")\n",
    "test_data = pd.read_csv(\"test_data2.csv\")\n",
    "val_data = pd.read_csv(\"val_data2.csv\")"
   ]
  },
  {
   "cell_type": "code",
   "execution_count": 27,
   "metadata": {},
   "outputs": [],
   "source": [
    "# Reduced Version:\n",
    "train_data = train_data[0:3000]"
   ]
  },
  {
   "cell_type": "code",
   "execution_count": 4,
   "metadata": {},
   "outputs": [
    {
     "name": "stdout",
     "output_type": "stream",
     "text": [
      "193647\n"
     ]
    }
   ],
   "source": [
    "train_data = train_data.dropna()\n",
    "test_data = test_data.dropna()\n",
    "val_data =  val_data.dropna()\n",
    "print(len(train_data))\n",
    "\n",
    "train_data['label'] = train_data['label'].str.lower()\n",
    "val_data['label'] = val_data['label'].str.lower()\n",
    "test_data['label'] = test_data['label'].str.lower()"
   ]
  },
  {
   "cell_type": "code",
   "execution_count": null,
   "metadata": {},
   "outputs": [
    {
     "data": {
      "image/png": "[encoded data removed]",
      "text/plain": [
       "<Figure size 1400x600 with 2 Axes>"
      ]
     },
     "metadata": {},
     "output_type": "display_data"
    },
    {
     "name": "stdout",
     "output_type": "stream",
     "text": [
      "Estadísticas de Height:\n",
      "count    193647.000000\n",
      "mean         31.037868\n",
      "std           0.339071\n",
      "min           7.000000\n",
      "25%          31.000000\n",
      "50%          31.000000\n",
      "75%          31.000000\n",
      "max          32.000000\n",
      "Name: height, dtype: float64\n",
      "\n",
      "Estadísticas de Width:\n",
      "count    193647.000000\n",
      "mean        116.384896\n",
      "std          42.084694\n",
      "min           1.000000\n",
      "25%          87.000000\n",
      "50%         110.000000\n",
      "75%         138.000000\n",
      "max         779.000000\n",
      "Name: width, dtype: float64\n"
     ]
    }
   ],
   "source": [
    "# Calcular estadísticas\n",
    "height_stats = train_data['height'].describe()\n",
    "width_stats = train_data['width'].describe()\n",
    "\n",
    "# Plotear las distribuciones\n",
    "plt.figure(figsize=(14, 6))\n",
    "\n",
    "# Distribución de width\n",
    "plt.subplot(1, 2, 1)\n",
    "plt.hist(train_data['width'], bins=50, color='blue', edgecolor='black')\n",
    "plt.title('Distribution of Width')\n",
    "plt.xlabel('Width')\n",
    "plt.ylabel('Frequency')\n",
    "plt.axvline(train_data['width'].median(), color='red', linestyle='dashed', linewidth=1, label=f'Median: {train_data[\"width\"].median()}')\n",
    "plt.axvline(train_data['width'].mean(), color='green', linestyle='dashed', linewidth=1, label=f'Mean: {train_data[\"width\"].mean()}')\n",
    "plt.legend()\n",
    "\n",
    "# Distribución de height\n",
    "plt.subplot(1, 2, 2)\n",
    "plt.hist(train_data['height'], bins=50, color='green', edgecolor='black')\n",
    "plt.title('Distribution of Height')\n",
    "plt.xlabel('Height')\n",
    "plt.ylabel('Frequency')\n",
    "plt.axvline(train_data['height'].median(), color='red', linestyle='dashed', linewidth=1, label=f'Median: {train_data[\"height\"].median()}')\n",
    "plt.axvline(train_data[\"height\"].mean(), color='green', linestyle='dashed', linewidth=1, label=f'Mean: {train_data[\"height\"].mean()}')\n",
    "plt.legend()\n",
    "\n",
    "plt.tight_layout()\n",
    "plt.show()\n",
    "\n",
    "# Mostrar estadísticas\n",
    "print(\"Estadísticas de Height:\")\n",
    "print(height_stats)\n",
    "print(\"\\nEstadísticas de Width:\")\n",
    "print(width_stats)\n",
    "\n",
    "optimal_height = train_data['height'].median()\n",
    "optimal_width = train_data['width'].median()\n"
   ]
  },
  {
   "cell_type": "code",
   "execution_count": 4,
   "metadata": {},
   "outputs": [
    {
     "name": "stdout",
     "output_type": "stream",
     "text": [
      "count    193647.000000\n",
      "mean          8.137028\n",
      "std           2.501333\n",
      "min           1.000000\n",
      "25%           6.000000\n",
      "50%           8.000000\n",
      "75%          10.000000\n",
      "max          22.000000\n",
      "Name: label_length, dtype: float64\n"
     ]
    }
   ],
   "source": [
    "train_data['label_length'] = train_data['label'].apply(len)\n",
    "\n",
    "# Obtener estadísticas descriptivas sobre las longitudes de las etiquetas\n",
    "labels_stats = train_data['label_length'].describe()\n",
    "print(labels_stats)"
   ]
  },
  {
   "cell_type": "code",
   "execution_count": 7,
   "metadata": {},
   "outputs": [],
   "source": [
    "\"\"\"class CustomDataset(Dataset):\n",
    "    def __init__(self, csv_file_path, transform=None):\n",
    "        self.data_frame = pd.read_csv(csv_file_path)\n",
    "        self.transform = transform\n",
    "        self.label_to_index = {label: idx for idx, label in enumerate(self.data_frame['label'].unique())}\n",
    "\n",
    "    def __len__(self):\n",
    "        return len(self.data_frame)\n",
    "\n",
    "    def __getitem__(self, idx):\n",
    "        img_name = self.data_frame.iloc[idx, 0]\n",
    "        image = Image.open(img_name).convert('RGB')\n",
    "        text = self.data_frame.iloc[idx, 1].lower()\n",
    "        \n",
    "        if self.transform:\n",
    "            image = self.transform(image)\n",
    "\n",
    "        return image, text\"\"\""
   ]
  },
  {
   "cell_type": "code",
   "execution_count": 5,
   "metadata": {},
   "outputs": [
    {
     "name": "stdout",
     "output_type": "stream",
     "text": [
      "                                               image_path       label  height   \n",
      "0       /home/xnmaster/deep-learning-project-2024-ai_n...  classmates    31.0  \\\n",
      "1       /home/xnmaster/deep-learning-project-2024-ai_n...     greater    31.0   \n",
      "2       /home/xnmaster/deep-learning-project-2024-ai_n...    bullfrog    31.0   \n",
      "3       /home/xnmaster/deep-learning-project-2024-ai_n...     nuclear    31.0   \n",
      "4       /home/xnmaster/deep-learning-project-2024-ai_n...  maximilian    31.0   \n",
      "...                                                   ...         ...     ...   \n",
      "193647  /home/xnmaster/deep-learning-project-2024-ai_n...   punchline    31.0   \n",
      "193648  /home/xnmaster/deep-learning-project-2024-ai_n...      blares    31.0   \n",
      "193649  /home/xnmaster/deep-learning-project-2024-ai_n...  undigested    31.0   \n",
      "193650  /home/xnmaster/deep-learning-project-2024-ai_n...   saucepans    31.0   \n",
      "193651  /home/xnmaster/deep-learning-project-2024-ai_n...    shabbily    31.0   \n",
      "\n",
      "        width  label_length  \n",
      "0        81.0            10  \n",
      "1        79.0             7  \n",
      "2       164.0             8  \n",
      "3       104.0             7  \n",
      "4       204.0            10  \n",
      "...       ...           ...  \n",
      "193647  149.0             9  \n",
      "193648   78.0             6  \n",
      "193649  111.0            10  \n",
      "193650  125.0             9  \n",
      "193651  120.0             8  \n",
      "\n",
      "[193647 rows x 5 columns]\n"
     ]
    }
   ],
   "source": [
    "print(train_data)"
   ]
  },
  {
   "cell_type": "code",
   "execution_count": 9,
   "metadata": {},
   "outputs": [
    {
     "data": {
      "image/png": "[encoded data removed]",
      "text/plain": [
       "<Figure size 640x480 with 1 Axes>"
      ]
     },
     "metadata": {},
     "output_type": "display_data"
    }
   ],
   "source": [
    "# Select a specific row, for example, the first row\n",
    "image_path = train_data.iloc[2]['image_path']\n",
    "\n",
    "# Open the image using PIL\n",
    "image = Image.open(image_path)\n",
    "\n",
    "# Plot the image using matplotlib\n",
    "plt.imshow(image)\n",
    "plt.axis('off')  # Turn off axis\n",
    "plt.title(train_data.iloc[2]['label'])  # Optional: display the label as title\n",
    "plt.show()"
   ]
  },
  {
   "cell_type": "code",
   "execution_count": 44,
   "metadata": {},
   "outputs": [],
   "source": [
    "\"\"\"# Definir transformaciones\n",
    "transform = transforms.Compose([\n",
    "    transforms.Resize((110, 31)),  # Cambiar tamaño de la imagen\n",
    "    transforms.Grayscale(num_output_channels=1),  # Convertir a escala de grises\n",
    "    transforms.ToTensor(),  # Convertir a tensor\n",
    "    transforms.Normalize((0.5,), (0.5,))  # Normalizar con media y desviación estándar 0.5\n",
    "])\n",
    "\n",
    "# Crear dataset y dataloader\n",
    "csv_file_path = 'train_data.csv'  # Reemplaza con la ruta a tu archivo CSV\n",
    "train_dataset = CustomDataset(csv_file_path, transform=transform)\n",
    "train_loader = DataLoader(train_dataset, batch_size=32, shuffle=True)\n",
    "\n",
    "val_dataset = CustomDataset('val_data.csv',transform=transform)\n",
    "val_loader = DataLoader(val_dataset, batch_size=32, shuffle=True)\n",
    "\n",
    "\n",
    "test_dataset = CustomDataset('test_data.csv',transform=transform)\n",
    "test_loader = DataLoader(test_dataset, batch_size=32, shuffle=True)\"\"\""
   ]
  },
  {
   "cell_type": "code",
   "execution_count": 9,
   "metadata": {},
   "outputs": [],
   "source": [
    "\"\"\"# Letters present in the Label Text\n",
    "voc = '0123456789abcdefghijklmnopqrstuvwxyz'\n",
    "num_classes = len(voc) + 1  # +1 for CTC blank label\n",
    "\n",
    "def word2label(word):\n",
    "    \"\"\"\n",
    "    #Transform a word into a vector.\n",
    "    \"\"\"\n",
    "    return [voc.find(char) for char in word.lower()]\n",
    "\n",
    "def label2word(labels):\n",
    "    \"\"\"\n",
    "    #Recover de orginal label.\n",
    "    \"\"\"\n",
    "    return ''.join([voc[ele] if ele < len(voc) else '' for ele in labels])\"\"\""
   ]
  },
  {
   "cell_type": "code",
   "execution_count": 5,
   "metadata": {},
   "outputs": [],
   "source": [
    "import pandas as pd\n",
    "from PIL import Image\n",
    "from torch.utils.data import Dataset, DataLoader\n",
    "import torchvision.transforms as transforms\n",
    "import torch\n",
    "\n",
    "class CustomDataset(Dataset):\n",
    "    def __init__(self, data_frame, transform=None):\n",
    "        self.data_frame = data_frame\n",
    "        self.transform = transform\n",
    "        self.voc = '0123456789abcdefghijklmnopqrstuvwxyz'\n",
    "        self.num_classes = len(self.voc) + 1  # +1 para el carácter en blanco de CTC\n",
    "\n",
    "    def __len__(self):\n",
    "        return len(self.data_frame)\n",
    "\n",
    "    def __getitem__(self, idx):\n",
    "        img_name = self.data_frame.iloc[idx, 0]\n",
    "        try:\n",
    "            image = Image.open(img_name).convert('RGB')\n",
    "        except FileNotFoundError:\n",
    "            print(f\"File not found: {img_name}\")\n",
    "            return self.__getitem__((idx + 1) % len(self))  # Intentar con la siguiente imagen\n",
    "        \n",
    "        text = self.data_frame.iloc[idx, 1].lower()\n",
    "        label = self.text_to_label(text)\n",
    "        \n",
    "        if self.transform:\n",
    "            image = self.transform(image)\n",
    "\n",
    "        return image, label, len(label)\n",
    "\n",
    "    def text_to_label(self, text):\n",
    "        return [self.voc.find(char) for char in text]\n",
    "\n",
    "# Definir transformaciones\n",
    "transform = transforms.Compose([\n",
    "    transforms.Resize((32, 128)),  # Cambiar tamaño de la imagen\n",
    "    transforms.Grayscale(num_output_channels=1),  # Convertir a escala de grises\n",
    "    transforms.ToTensor(),  # Convertir a tensor\n",
    "    transforms.Normalize((0.5,), (0.5,))  # Normalizar con media y desviación estándar 0.5\n",
    "])\n",
    "\n",
    "\n",
    "# Crear dataset y dataloader\n",
    "train_dataset = CustomDataset(train_data, transform=transform)\n",
    "train_loader = DataLoader(train_dataset, batch_size=config.batch_size, shuffle=True, collate_fn=lambda x: x)\n",
    "\n",
    "val_dataset = CustomDataset(val_data, transform=transform)\n",
    "val_loader = DataLoader(val_dataset, batch_size=config.batch_size, shuffle=True, collate_fn=lambda x: x)\n",
    "\n",
    "test_dataset = CustomDataset(test_data, transform=transform)\n",
    "test_loader = DataLoader(test_dataset, batch_size=config.batch_size, shuffle=True, collate_fn=lambda x: x)\n"
   ]
  },
  {
   "cell_type": "code",
   "execution_count": 6,
   "metadata": {},
   "outputs": [],
   "source": [
    "def custom_collate_fn(batch):\n",
    "    images, labels, label_lengths = zip(*batch)\n",
    "\n",
    "    images = torch.stack(images, 0)\n",
    "    labels = [torch.tensor(label) for label in labels]\n",
    "    label_lengths = torch.tensor(label_lengths)\n",
    "\n",
    "    return images, labels, label_lengths\n"
   ]
  },
  {
   "cell_type": "code",
   "execution_count": 7,
   "metadata": {},
   "outputs": [],
   "source": [
    "train_loader = DataLoader(train_dataset, batch_size=config.batch_size, shuffle=True, collate_fn=custom_collate_fn)\n",
    "val_loader = DataLoader(val_dataset, batch_size=config.batch_size, shuffle=True, collate_fn=custom_collate_fn)\n",
    "test_loader = DataLoader(test_dataset, batch_size=config.batch_size, shuffle=True, collate_fn=custom_collate_fn)\n"
   ]
  },
  {
   "cell_type": "code",
   "execution_count": 8,
   "metadata": {},
   "outputs": [],
   "source": [
    "import torch\n",
    "import torch.nn as nn\n",
    "import torch.nn.init as init\n",
    "import torch.nn.functional as F\n",
    "\n",
    "class CRNN(nn.Module):\n",
    "    def __init__(self, num_classes):\n",
    "        super(CRNN, self).__init__()\n",
    "        self.cnn = nn.Sequential(\n",
    "            # Entrada: [batch_size, 1, 32, 128]\n",
    "            nn.Conv2d(1, 32, kernel_size=3, padding=1),  # Salida: [batch_size, 32, 32, 128]\n",
    "            nn.SELU(),\n",
    "            nn.MaxPool2d(2, 2),  # Salida: [batch_size, 32, 16, 64]\n",
    "            \n",
    "            nn.Conv2d(32, 64, kernel_size=3, padding=1),  # Salida: [batch_size, 64, 16, 64]\n",
    "            nn.SELU(),\n",
    "            nn.MaxPool2d(2, 2),  # Salida: [batch_size, 64, 8, 32]\n",
    "            \n",
    "            nn.Conv2d(64, 128, kernel_size=3, padding=1),  # Salida: [batch_size, 128, 8, 32]\n",
    "            nn.SELU(),\n",
    "            nn.MaxPool2d((2, 1)),  # Salida: [batch_size, 128, 4, 32]\n",
    "\n",
    "            nn.Conv2d(128, 256, kernel_size=3, padding=1),  # Salida: [batch_size, 256, 4, 32]\n",
    "            nn.SELU(),\n",
    "            nn.BatchNorm2d(256),\n",
    "            nn.MaxPool2d((2, 1)),  # Salida: [batch_size, 256, 2, 32]\n",
    "\n",
    "            nn.Conv2d(256, 512, kernel_size=3, padding=1),  # Salida: [batch_size, 512, 2, 32]\n",
    "            nn.SELU(),\n",
    "            nn.BatchNorm2d(512),\n",
    "            nn.MaxPool2d((2, 1)),  # Salida: [batch_size, 512, 1, 32]\n",
    "        )\n",
    "        \n",
    "        self.rnn = nn.LSTM(512, 128, bidirectional=True, batch_first=True, num_layers=2)  # Entrada: [batch_size, 31, 512], Salida: [batch_size, 31, 256]\n",
    "        self.fc = nn.Linear(256, num_classes)  # Entrada: [batch_size, 31, 256], Salida: [batch_size, 31, num_classes]\n",
    "        \n",
    "        self._initialize_weights()\n",
    "\n",
    "    def _initialize_weights(self):\n",
    "        for m in self.modules():\n",
    "            if isinstance(m, nn.Conv2d):\n",
    "                init.kaiming_normal_(m.weight, nonlinearity='selu')\n",
    "                if m.bias is not None:\n",
    "                    init.constant_(m.bias, 0)\n",
    "            elif isinstance(m, nn.BatchNorm2d):\n",
    "                init.constant_(m.weight, 1)\n",
    "                init.constant_(m.bias, 0)\n",
    "            elif isinstance(m, nn.Linear):\n",
    "                init.kaiming_normal_(m.weight, nonlinearity='selu')\n",
    "                init.constant_(m.bias, 0)\n",
    "            elif isinstance(m, nn.LSTM):\n",
    "                for name, param in m.named_parameters():\n",
    "                    if 'weight' in name:\n",
    "                        init.kaiming_normal_(param, nonlinearity='selu')\n",
    "                    elif 'bias' in name:\n",
    "                        init.constant_(param, 0)\n",
    "\n",
    "    def forward(self, x):\n",
    "        # x inicial: [batch_size, 1, 32, 128]\n",
    "        x = self.cnn(x)\n",
    "        # Salida: [batch_size, 512, 1, 31]\n",
    "        x = x.squeeze(2)  # Remover la dimensión 2 que es 1, resultado: [batch_size, 512, 31]\n",
    "        x = x.permute(0, 2, 1)  # Reorganizar a [batch_size, 31, 512]\n",
    "        \n",
    "        x, _ = self.rnn(x)\n",
    "        # Salida esperada: [batch_size, 31, 256]\n",
    "        \n",
    "        x = self.fc(x)\n",
    "        # Salida esperada: [batch_size, 31, num_classes]\n",
    "        \n",
    "        return x "
   ]
  },
  {
   "cell_type": "code",
   "execution_count": 21,
   "metadata": {},
   "outputs": [],
   "source": [
    "num_classes = len(train_dataset.voc) + 1\n",
    "model = CRNN(num_classes)\n",
    "criterion = nn.CTCLoss(0)\n",
    "optimizer = optim.Adam(model.parameters(), lr=config.learning_rate)"
   ]
  },
  {
   "cell_type": "code",
   "execution_count": 13,
   "metadata": {},
   "outputs": [
    {
     "ename": "NameError",
     "evalue": "name 'num_classes' is not defined",
     "output_type": "error",
     "traceback": [
      "\u001b[0;31m---------------------------------------------------------------------------\u001b[0m",
      "\u001b[0;31mNameError\u001b[0m                                 Traceback (most recent call last)",
      "Cell \u001b[0;32mIn[13], line 11\u001b[0m\n\u001b[1;32m      7\u001b[0m num_epochs \u001b[38;5;241m=\u001b[39m \u001b[38;5;241m25\u001b[39m\n\u001b[1;32m     10\u001b[0m \u001b[38;5;66;03m# Mover el modelo a la GPU\u001b[39;00m\n\u001b[0;32m---> 11\u001b[0m model \u001b[38;5;241m=\u001b[39m CRNN(\u001b[43mnum_classes\u001b[49m)\u001b[38;5;241m.\u001b[39mto(device)\n\u001b[1;32m     13\u001b[0m \u001b[38;5;66;03m# Durante el entrenamiento y validación, mover los datos a la GPU\u001b[39;00m\n\u001b[1;32m     14\u001b[0m \u001b[38;5;28;01mfor\u001b[39;00m epoch \u001b[38;5;129;01min\u001b[39;00m \u001b[38;5;28mrange\u001b[39m(num_epochs):\n",
      "\u001b[0;31mNameError\u001b[0m: name 'num_classes' is not defined"
     ]
    }
   ],
   "source": [
    "\"\"\"#Train with GPU if possible \n",
    "import torch\n",
    "import torch.nn.functional as F\n",
    "\n",
    "# Verificar la disponibilidad de CUDA\n",
    "device = torch.device('cuda' if torch.cuda.is_available() else 'cpu')\n",
    "num_epochs = 25\n",
    "\n",
    "\n",
    "# Mover el modelo a la GPU\n",
    "model = CRNN(num_classes).to(device)\n",
    "\n",
    "# Durante el entrenamiento y validación, mover los datos a la GPU\n",
    "for epoch in range(num_epochs):\n",
    "    model.train()\n",
    "    train_loss = 0.0\n",
    "    for idx, (images, labels, label_lengths) in enumerate(train_loader):\n",
    "        images = images.to(device)\n",
    "        labels = [label.to(device) for label in labels]\n",
    "        label_lengths = label_lengths.to(device)\n",
    "        \n",
    "        optimizer.zero_grad()\n",
    "        \n",
    "        logits = model(images)\n",
    "        log_probs = F.log_softmax(logits, dim=-1).permute(1, 0, 2)\n",
    "        input_lengths = torch.full((logits.size(0),), logits.size(1), dtype=torch.long).to(device)\n",
    "        labels_concat = torch.cat(labels)\n",
    "        \n",
    "        loss = criterion(log_probs, labels_concat, input_lengths, label_lengths)\n",
    "        torch.nn.utils.clip_grad_norm_(model.parameters(), max_norm=1.0) # clip the grad to avoid gradients explosion.\n",
    "        loss.backward()\n",
    "        optimizer.step()\n",
    "        if idx%25==0:\n",
    "            print(f\"epoch: {epoch}, batch:{idx} loss: {loss.item()}\")\n",
    "        train_loss += loss.item()\n",
    "    \n",
    "    print(f'Epoch {epoch+1}/{num_epochs}, Loss: {train_loss/len(train_loader)}')\n",
    "\n",
    "model.eval()\n",
    "val_loss = 0.0\n",
    "with torch.no_grad():\n",
    "    for images, labels, label_lengths in val_loader:\n",
    "        images = images.to(device)\n",
    "        labels = [label.to(device) for label in labels]\n",
    "        label_lengths = label_lengths.to(device)\n",
    "\n",
    "        logits = model(images)\n",
    "        log_probs = logits.log_softmax(2)\n",
    "        input_lengths = torch.full((logits.size(0),), logits.size(1), dtype=torch.long).to(device)\n",
    "        labels_concat = torch.cat(labels)\n",
    "        \n",
    "        loss = criterion(log_probs, labels_concat, input_lengths, label_lengths)\n",
    "        val_loss += loss.item()\n",
    "\n",
    "print(f'Validation Loss: {val_loss/len(val_loader)}')\"\"\""
   ]
  },
  {
   "cell_type": "code",
   "execution_count": null,
   "metadata": {},
   "outputs": [],
   "source": [
    "torch.save(model.state_dict(), \"model_final.pth\")"
   ]
  },
  {
   "cell_type": "code",
   "execution_count": 14,
   "metadata": {},
   "outputs": [
    {
     "name": "stdout",
     "output_type": "stream",
     "text": [
      "CUDA is available. PyTorch can use the GPU.\n",
      "Device name: Tesla V100-PCIE-16GB\n",
      "12.575250625610352\n",
      "24.687520027160645\n",
      "35.89716053009033\n",
      "46.1984167098999\n",
      "55.95619010925293\n"
     ]
    },
    {
     "ename": "KeyboardInterrupt",
     "evalue": "",
     "output_type": "error",
     "traceback": [
      "\u001b[0;31m---------------------------------------------------------------------------\u001b[0m",
      "\u001b[0;31mKeyboardInterrupt\u001b[0m                         Traceback (most recent call last)",
      "Cell \u001b[0;32mIn[14], line 22\u001b[0m\n\u001b[1;32m     19\u001b[0m model\u001b[38;5;241m.\u001b[39mtrain()\n\u001b[1;32m     20\u001b[0m train_loss \u001b[38;5;241m=\u001b[39m \u001b[38;5;241m0.0\u001b[39m\n\u001b[0;32m---> 22\u001b[0m \u001b[38;5;28;01mfor\u001b[39;00m images, labels, label_lengths \u001b[38;5;129;01min\u001b[39;00m train_loader:\n\u001b[1;32m     24\u001b[0m     images \u001b[38;5;241m=\u001b[39m images\u001b[38;5;241m.\u001b[39mto(device)\n\u001b[1;32m     25\u001b[0m     labels \u001b[38;5;241m=\u001b[39m [label\u001b[38;5;241m.\u001b[39mto(device) \u001b[38;5;28;01mfor\u001b[39;00m label \u001b[38;5;129;01min\u001b[39;00m labels]\n",
      "File \u001b[0;32m/anaconda/envs/azureml_py38_PT_and_TF/lib/python3.8/site-packages/torch/utils/data/dataloader.py:652\u001b[0m, in \u001b[0;36m_BaseDataLoaderIter.__next__\u001b[0;34m(self)\u001b[0m\n\u001b[1;32m    649\u001b[0m \u001b[38;5;28;01mif\u001b[39;00m \u001b[38;5;28mself\u001b[39m\u001b[38;5;241m.\u001b[39m_sampler_iter \u001b[38;5;129;01mis\u001b[39;00m \u001b[38;5;28;01mNone\u001b[39;00m:\n\u001b[1;32m    650\u001b[0m     \u001b[38;5;66;03m# TODO(https://github.com/pytorch/pytorch/issues/76750)\u001b[39;00m\n\u001b[1;32m    651\u001b[0m     \u001b[38;5;28mself\u001b[39m\u001b[38;5;241m.\u001b[39m_reset()  \u001b[38;5;66;03m# type: ignore[call-arg]\u001b[39;00m\n\u001b[0;32m--> 652\u001b[0m data \u001b[38;5;241m=\u001b[39m \u001b[38;5;28;43mself\u001b[39;49m\u001b[38;5;241;43m.\u001b[39;49m\u001b[43m_next_data\u001b[49m\u001b[43m(\u001b[49m\u001b[43m)\u001b[49m\n\u001b[1;32m    653\u001b[0m \u001b[38;5;28mself\u001b[39m\u001b[38;5;241m.\u001b[39m_num_yielded \u001b[38;5;241m+\u001b[39m\u001b[38;5;241m=\u001b[39m \u001b[38;5;241m1\u001b[39m\n\u001b[1;32m    654\u001b[0m \u001b[38;5;28;01mif\u001b[39;00m \u001b[38;5;28mself\u001b[39m\u001b[38;5;241m.\u001b[39m_dataset_kind \u001b[38;5;241m==\u001b[39m _DatasetKind\u001b[38;5;241m.\u001b[39mIterable \u001b[38;5;129;01mand\u001b[39;00m \\\n\u001b[1;32m    655\u001b[0m         \u001b[38;5;28mself\u001b[39m\u001b[38;5;241m.\u001b[39m_IterableDataset_len_called \u001b[38;5;129;01mis\u001b[39;00m \u001b[38;5;129;01mnot\u001b[39;00m \u001b[38;5;28;01mNone\u001b[39;00m \u001b[38;5;129;01mand\u001b[39;00m \\\n\u001b[1;32m    656\u001b[0m         \u001b[38;5;28mself\u001b[39m\u001b[38;5;241m.\u001b[39m_num_yielded \u001b[38;5;241m>\u001b[39m \u001b[38;5;28mself\u001b[39m\u001b[38;5;241m.\u001b[39m_IterableDataset_len_called:\n",
      "File \u001b[0;32m/anaconda/envs/azureml_py38_PT_and_TF/lib/python3.8/site-packages/torch/utils/data/dataloader.py:692\u001b[0m, in \u001b[0;36m_SingleProcessDataLoaderIter._next_data\u001b[0;34m(self)\u001b[0m\n\u001b[1;32m    690\u001b[0m \u001b[38;5;28;01mdef\u001b[39;00m \u001b[38;5;21m_next_data\u001b[39m(\u001b[38;5;28mself\u001b[39m):\n\u001b[1;32m    691\u001b[0m     index \u001b[38;5;241m=\u001b[39m \u001b[38;5;28mself\u001b[39m\u001b[38;5;241m.\u001b[39m_next_index()  \u001b[38;5;66;03m# may raise StopIteration\u001b[39;00m\n\u001b[0;32m--> 692\u001b[0m     data \u001b[38;5;241m=\u001b[39m \u001b[38;5;28;43mself\u001b[39;49m\u001b[38;5;241;43m.\u001b[39;49m\u001b[43m_dataset_fetcher\u001b[49m\u001b[38;5;241;43m.\u001b[39;49m\u001b[43mfetch\u001b[49m\u001b[43m(\u001b[49m\u001b[43mindex\u001b[49m\u001b[43m)\u001b[49m  \u001b[38;5;66;03m# may raise StopIteration\u001b[39;00m\n\u001b[1;32m    693\u001b[0m     \u001b[38;5;28;01mif\u001b[39;00m \u001b[38;5;28mself\u001b[39m\u001b[38;5;241m.\u001b[39m_pin_memory:\n\u001b[1;32m    694\u001b[0m         data \u001b[38;5;241m=\u001b[39m _utils\u001b[38;5;241m.\u001b[39mpin_memory\u001b[38;5;241m.\u001b[39mpin_memory(data, \u001b[38;5;28mself\u001b[39m\u001b[38;5;241m.\u001b[39m_pin_memory_device)\n",
      "File \u001b[0;32m/anaconda/envs/azureml_py38_PT_and_TF/lib/python3.8/site-packages/torch/utils/data/_utils/fetch.py:49\u001b[0m, in \u001b[0;36m_MapDatasetFetcher.fetch\u001b[0;34m(self, possibly_batched_index)\u001b[0m\n\u001b[1;32m     47\u001b[0m \u001b[38;5;28;01mdef\u001b[39;00m \u001b[38;5;21mfetch\u001b[39m(\u001b[38;5;28mself\u001b[39m, possibly_batched_index):\n\u001b[1;32m     48\u001b[0m     \u001b[38;5;28;01mif\u001b[39;00m \u001b[38;5;28mself\u001b[39m\u001b[38;5;241m.\u001b[39mauto_collation:\n\u001b[0;32m---> 49\u001b[0m         data \u001b[38;5;241m=\u001b[39m [\u001b[38;5;28mself\u001b[39m\u001b[38;5;241m.\u001b[39mdataset[idx] \u001b[38;5;28;01mfor\u001b[39;00m idx \u001b[38;5;129;01min\u001b[39;00m possibly_batched_index]\n\u001b[1;32m     50\u001b[0m     \u001b[38;5;28;01melse\u001b[39;00m:\n\u001b[1;32m     51\u001b[0m         data \u001b[38;5;241m=\u001b[39m \u001b[38;5;28mself\u001b[39m\u001b[38;5;241m.\u001b[39mdataset[possibly_batched_index]\n",
      "File \u001b[0;32m/anaconda/envs/azureml_py38_PT_and_TF/lib/python3.8/site-packages/torch/utils/data/_utils/fetch.py:49\u001b[0m, in \u001b[0;36m<listcomp>\u001b[0;34m(.0)\u001b[0m\n\u001b[1;32m     47\u001b[0m \u001b[38;5;28;01mdef\u001b[39;00m \u001b[38;5;21mfetch\u001b[39m(\u001b[38;5;28mself\u001b[39m, possibly_batched_index):\n\u001b[1;32m     48\u001b[0m     \u001b[38;5;28;01mif\u001b[39;00m \u001b[38;5;28mself\u001b[39m\u001b[38;5;241m.\u001b[39mauto_collation:\n\u001b[0;32m---> 49\u001b[0m         data \u001b[38;5;241m=\u001b[39m [\u001b[38;5;28;43mself\u001b[39;49m\u001b[38;5;241;43m.\u001b[39;49m\u001b[43mdataset\u001b[49m\u001b[43m[\u001b[49m\u001b[43midx\u001b[49m\u001b[43m]\u001b[49m \u001b[38;5;28;01mfor\u001b[39;00m idx \u001b[38;5;129;01min\u001b[39;00m possibly_batched_index]\n\u001b[1;32m     50\u001b[0m     \u001b[38;5;28;01melse\u001b[39;00m:\n\u001b[1;32m     51\u001b[0m         data \u001b[38;5;241m=\u001b[39m \u001b[38;5;28mself\u001b[39m\u001b[38;5;241m.\u001b[39mdataset[possibly_batched_index]\n",
      "Cell \u001b[0;32mIn[9], line 20\u001b[0m, in \u001b[0;36mCustomDataset.__getitem__\u001b[0;34m(self, idx)\u001b[0m\n\u001b[1;32m     18\u001b[0m img_name \u001b[38;5;241m=\u001b[39m \u001b[38;5;28mself\u001b[39m\u001b[38;5;241m.\u001b[39mdata_frame\u001b[38;5;241m.\u001b[39miloc[idx, \u001b[38;5;241m0\u001b[39m]\n\u001b[1;32m     19\u001b[0m \u001b[38;5;28;01mtry\u001b[39;00m:\n\u001b[0;32m---> 20\u001b[0m     image \u001b[38;5;241m=\u001b[39m \u001b[43mImage\u001b[49m\u001b[38;5;241;43m.\u001b[39;49m\u001b[43mopen\u001b[49m\u001b[43m(\u001b[49m\u001b[43mimg_name\u001b[49m\u001b[43m)\u001b[49m\u001b[38;5;241m.\u001b[39mconvert(\u001b[38;5;124m'\u001b[39m\u001b[38;5;124mRGB\u001b[39m\u001b[38;5;124m'\u001b[39m)\n\u001b[1;32m     21\u001b[0m \u001b[38;5;28;01mexcept\u001b[39;00m \u001b[38;5;167;01mFileNotFoundError\u001b[39;00m:\n\u001b[1;32m     22\u001b[0m     \u001b[38;5;28mprint\u001b[39m(\u001b[38;5;124mf\u001b[39m\u001b[38;5;124m\"\u001b[39m\u001b[38;5;124mFile not found: \u001b[39m\u001b[38;5;132;01m{\u001b[39;00mimg_name\u001b[38;5;132;01m}\u001b[39;00m\u001b[38;5;124m\"\u001b[39m)\n",
      "File \u001b[0;32m/anaconda/envs/azureml_py38_PT_and_TF/lib/python3.8/site-packages/PIL/Image.py:3133\u001b[0m, in \u001b[0;36mopen\u001b[0;34m(fp, mode, formats)\u001b[0m\n\u001b[1;32m   3130\u001b[0m             \u001b[38;5;28;01mraise\u001b[39;00m\n\u001b[1;32m   3131\u001b[0m     \u001b[38;5;28;01mreturn\u001b[39;00m \u001b[38;5;28;01mNone\u001b[39;00m\n\u001b[0;32m-> 3133\u001b[0m im \u001b[38;5;241m=\u001b[39m \u001b[43m_open_core\u001b[49m\u001b[43m(\u001b[49m\u001b[43mfp\u001b[49m\u001b[43m,\u001b[49m\u001b[43m \u001b[49m\u001b[43mfilename\u001b[49m\u001b[43m,\u001b[49m\u001b[43m \u001b[49m\u001b[43mprefix\u001b[49m\u001b[43m,\u001b[49m\u001b[43m \u001b[49m\u001b[43mformats\u001b[49m\u001b[43m)\u001b[49m\n\u001b[1;32m   3135\u001b[0m \u001b[38;5;28;01mif\u001b[39;00m im \u001b[38;5;129;01mis\u001b[39;00m \u001b[38;5;28;01mNone\u001b[39;00m:\n\u001b[1;32m   3136\u001b[0m     \u001b[38;5;28;01mif\u001b[39;00m init():\n",
      "File \u001b[0;32m/anaconda/envs/azureml_py38_PT_and_TF/lib/python3.8/site-packages/PIL/Image.py:3119\u001b[0m, in \u001b[0;36mopen.<locals>._open_core\u001b[0;34m(fp, filename, prefix, formats)\u001b[0m\n\u001b[1;32m   3117\u001b[0m \u001b[38;5;28;01melif\u001b[39;00m result:\n\u001b[1;32m   3118\u001b[0m     fp\u001b[38;5;241m.\u001b[39mseek(\u001b[38;5;241m0\u001b[39m)\n\u001b[0;32m-> 3119\u001b[0m     im \u001b[38;5;241m=\u001b[39m \u001b[43mfactory\u001b[49m\u001b[43m(\u001b[49m\u001b[43mfp\u001b[49m\u001b[43m,\u001b[49m\u001b[43m \u001b[49m\u001b[43mfilename\u001b[49m\u001b[43m)\u001b[49m\n\u001b[1;32m   3120\u001b[0m     _decompression_bomb_check(im\u001b[38;5;241m.\u001b[39msize)\n\u001b[1;32m   3121\u001b[0m     \u001b[38;5;28;01mreturn\u001b[39;00m im\n",
      "File \u001b[0;32m/anaconda/envs/azureml_py38_PT_and_TF/lib/python3.8/site-packages/PIL/JpegImagePlugin.py:799\u001b[0m, in \u001b[0;36mjpeg_factory\u001b[0;34m(fp, filename)\u001b[0m\n\u001b[1;32m    798\u001b[0m \u001b[38;5;28;01mdef\u001b[39;00m \u001b[38;5;21mjpeg_factory\u001b[39m(fp\u001b[38;5;241m=\u001b[39m\u001b[38;5;28;01mNone\u001b[39;00m, filename\u001b[38;5;241m=\u001b[39m\u001b[38;5;28;01mNone\u001b[39;00m):\n\u001b[0;32m--> 799\u001b[0m     im \u001b[38;5;241m=\u001b[39m \u001b[43mJpegImageFile\u001b[49m\u001b[43m(\u001b[49m\u001b[43mfp\u001b[49m\u001b[43m,\u001b[49m\u001b[43m \u001b[49m\u001b[43mfilename\u001b[49m\u001b[43m)\u001b[49m\n\u001b[1;32m    800\u001b[0m     \u001b[38;5;28;01mtry\u001b[39;00m:\n\u001b[1;32m    801\u001b[0m         mpheader \u001b[38;5;241m=\u001b[39m im\u001b[38;5;241m.\u001b[39m_getmp()\n",
      "File \u001b[0;32m/anaconda/envs/azureml_py38_PT_and_TF/lib/python3.8/site-packages/PIL/ImageFile.py:116\u001b[0m, in \u001b[0;36mImageFile.__init__\u001b[0;34m(self, fp, filename)\u001b[0m\n\u001b[1;32m    114\u001b[0m \u001b[38;5;28;01mtry\u001b[39;00m:\n\u001b[1;32m    115\u001b[0m     \u001b[38;5;28;01mtry\u001b[39;00m:\n\u001b[0;32m--> 116\u001b[0m         \u001b[38;5;28;43mself\u001b[39;49m\u001b[38;5;241;43m.\u001b[39;49m\u001b[43m_open\u001b[49m\u001b[43m(\u001b[49m\u001b[43m)\u001b[49m\n\u001b[1;32m    117\u001b[0m     \u001b[38;5;28;01mexcept\u001b[39;00m (\n\u001b[1;32m    118\u001b[0m         \u001b[38;5;167;01mIndexError\u001b[39;00m,  \u001b[38;5;66;03m# end of data\u001b[39;00m\n\u001b[1;32m    119\u001b[0m         \u001b[38;5;167;01mTypeError\u001b[39;00m,  \u001b[38;5;66;03m# end of data (ord)\u001b[39;00m\n\u001b[0;32m   (...)\u001b[0m\n\u001b[1;32m    122\u001b[0m         struct\u001b[38;5;241m.\u001b[39merror,\n\u001b[1;32m    123\u001b[0m     ) \u001b[38;5;28;01mas\u001b[39;00m v:\n\u001b[1;32m    124\u001b[0m         \u001b[38;5;28;01mraise\u001b[39;00m \u001b[38;5;167;01mSyntaxError\u001b[39;00m(v) \u001b[38;5;28;01mfrom\u001b[39;00m \u001b[38;5;21;01mv\u001b[39;00m\n",
      "File \u001b[0;32m/anaconda/envs/azureml_py38_PT_and_TF/lib/python3.8/site-packages/PIL/JpegImagePlugin.py:380\u001b[0m, in \u001b[0;36mJpegImageFile._open\u001b[0;34m(self)\u001b[0m\n\u001b[1;32m    378\u001b[0m name, description, handler \u001b[38;5;241m=\u001b[39m MARKER[i]\n\u001b[1;32m    379\u001b[0m \u001b[38;5;28;01mif\u001b[39;00m handler \u001b[38;5;129;01mis\u001b[39;00m \u001b[38;5;129;01mnot\u001b[39;00m \u001b[38;5;28;01mNone\u001b[39;00m:\n\u001b[0;32m--> 380\u001b[0m     \u001b[43mhandler\u001b[49m\u001b[43m(\u001b[49m\u001b[38;5;28;43mself\u001b[39;49m\u001b[43m,\u001b[49m\u001b[43m \u001b[49m\u001b[43mi\u001b[49m\u001b[43m)\u001b[49m\n\u001b[1;32m    381\u001b[0m \u001b[38;5;28;01mif\u001b[39;00m i \u001b[38;5;241m==\u001b[39m \u001b[38;5;241m0xFFDA\u001b[39m:  \u001b[38;5;66;03m# start of scan\u001b[39;00m\n\u001b[1;32m    382\u001b[0m     rawmode \u001b[38;5;241m=\u001b[39m \u001b[38;5;28mself\u001b[39m\u001b[38;5;241m.\u001b[39mmode\n",
      "File \u001b[0;32m/anaconda/envs/azureml_py38_PT_and_TF/lib/python3.8/site-packages/PIL/JpegImagePlugin.py:258\u001b[0m, in \u001b[0;36mDQT\u001b[0;34m(self, marker)\u001b[0m\n\u001b[1;32m    256\u001b[0m \u001b[38;5;28;01mif\u001b[39;00m sys\u001b[38;5;241m.\u001b[39mbyteorder \u001b[38;5;241m==\u001b[39m \u001b[38;5;124m\"\u001b[39m\u001b[38;5;124mlittle\u001b[39m\u001b[38;5;124m\"\u001b[39m \u001b[38;5;129;01mand\u001b[39;00m precision \u001b[38;5;241m>\u001b[39m \u001b[38;5;241m1\u001b[39m:\n\u001b[1;32m    257\u001b[0m     data\u001b[38;5;241m.\u001b[39mbyteswap()  \u001b[38;5;66;03m# the values are always big-endian\u001b[39;00m\n\u001b[0;32m--> 258\u001b[0m \u001b[38;5;28mself\u001b[39m\u001b[38;5;241m.\u001b[39mquantization[\u001b[43mv\u001b[49m\u001b[43m \u001b[49m\u001b[38;5;241;43m&\u001b[39;49m\u001b[43m \u001b[49m\u001b[38;5;241;43m15\u001b[39;49m] \u001b[38;5;241m=\u001b[39m [data[i] \u001b[38;5;28;01mfor\u001b[39;00m i \u001b[38;5;129;01min\u001b[39;00m zigzag_index]\n\u001b[1;32m    259\u001b[0m s \u001b[38;5;241m=\u001b[39m s[qt_length:]\n",
      "\u001b[0;31mKeyboardInterrupt\u001b[0m: "
     ]
    }
   ],
   "source": [
    "# Loop de entrenamiento con wandb y uso de GPU\n",
    "import torch.nn.functional as F\n",
    "if torch.cuda.is_available():\n",
    "    print(\"CUDA is available. PyTorch can use the GPU.\")\n",
    "    print(f\"Device name: {torch.cuda.get_device_name(0)}\")\n",
    "    device = 'cuda'\n",
    "else:\n",
    "    print(\"CUDA is not available. PyTorch will use the CPU.\")\n",
    "\n",
    "num_classes = len(train_dataset.voc) + 1\n",
    "model = CRNN(num_classes).to(device)\n",
    "criterion = nn.CTCLoss(0)\n",
    "optimizer = optim.Adam(model.parameters(), lr=config.learning_rate,weight_decay=config.weight_decay)\n",
    "\n",
    "c = 0\n",
    "\n",
    "wandb.watch(model,criterion,log='all',log_freq=2)\n",
    "for epoch in range(config.num_epochs):\n",
    "    model.train()\n",
    "    train_loss = 0.0\n",
    "\n",
    "    for images, labels, label_lengths in train_loader:\n",
    "\n",
    "        images = images.to(device)\n",
    "        labels = [label.to(device) for label in labels]\n",
    "        label_lengths = label_lengths.to(device)\n",
    "        \n",
    "        optimizer.zero_grad()\n",
    "        #print(images.shape)\n",
    "        logits = model(images)\n",
    "        #print(logits.shape)\n",
    "        #print(logits)\n",
    "        log_probs = F.log_softmax(logits, dim=-1).permute(1, 0, 2)  # Transponer logits para que tenga la forma (T, N, C) T= sequence length N = batch and C classes\n",
    "        input_lengths = torch.full((logits.size(0),), logits.size(1), dtype=torch.long).to(device)\n",
    "        labels_concat = torch.cat(labels).to(device)\n",
    "\n",
    "        loss = criterion(log_probs, labels_concat, input_lengths, label_lengths)\n",
    "        loss.backward()\n",
    "        \n",
    "        torch.nn.utils.clip_grad_norm_(model.parameters(), 1.0)\n",
    "\n",
    "        optimizer.step()\n",
    "        \n",
    "        train_loss += loss.item()\n",
    "        print(train_loss)\n",
    "    \n",
    "    avg_train_loss = train_loss / len(train_loader)\n",
    "    wandb.log({\"epoch\": epoch + 1, \"train_loss\": avg_train_loss})\n",
    "\n",
    "    print(f'Epoch {epoch+1}/{config.num_epochs}, Loss: {avg_train_loss}')\n",
    "\n",
    "    model.eval()\n",
    "    val_loss = 0.0\n",
    "    with torch.no_grad():\n",
    "        for images, labels, label_lengths in val_loader:\n",
    "            images = images.to(device)\n",
    "            labels = [label.to(device) for label in labels]\n",
    "            label_lengths = label_lengths.to(device)\n",
    "            \n",
    "            logits = model(images)\n",
    "            #log_probs = logits.log_softmax(2)\n",
    "            log_probs = F.log_softmax(logits, dim=-1).permute(1, 0, 2)\n",
    "            input_lengths = torch.full((logits.size(0),), logits.size(1), dtype=torch.long).to(device)\n",
    "            labels_concat = torch.cat(labels).to(device)\n",
    "            \n",
    "            loss = criterion(log_probs, labels_concat, input_lengths, label_lengths)\n",
    "            val_loss += loss.item()\n",
    "\n",
    "    avg_val_loss = val_loss / len(val_loader)\n",
    "    wandb.log({\"epoch\": epoch + 1, \"val_loss\": avg_val_loss})\n",
    "\n",
    "    print(f'Validation Loss: {avg_val_loss}')\n",
    "\n",
    "# Guardar el modelo al final del entrenamiento\n",
    "torch.save(model.state_dict(), \"modelv1.pth\")\n",
    "wandb.save(\"modelv1.pth\")"
   ]
  },
  {
   "cell_type": "code",
   "execution_count": null,
   "metadata": {},
   "outputs": [],
   "source": []
  },
  {
   "cell_type": "code",
   "execution_count": 38,
   "metadata": {},
   "outputs": [
    {
     "data": {
      "text/plain": [
       "<All keys matched successfully>"
      ]
     },
     "execution_count": 38,
     "metadata": {},
     "output_type": "execute_result"
    }
   ],
   "source": [
    "modelprueba = CRNN(num_classes).to(device)\n",
    "modelprueba.load_state_dict(torch.load(\"modelv1.pth\"))"
   ]
  },
  {
   "cell_type": "code",
   "execution_count": 42,
   "metadata": {},
   "outputs": [
    {
     "name": "stdout",
     "output_type": "stream",
     "text": [
      "torch.Size([128, 512, 32, 8])\n",
      "['0', '0s', '0', '0', '0s', '0s', '0s', '0s', '0', '0', '0', '0', '0', '0s', '0s', '0s', '0', '0', '0s', '0', '0', '0s', '0s', '0', '0s', '0s', '0s', '0', '0', '0', '0s', '0s', '0', '0s', '0', '0s', '0', '0s', '0s', '0', '0', '0s', '0s', '0', '0s', '0', '0', '0', '0s', '0', '0', '0', '0', '0s', '0', '0', '0s', '0s', '0', '0', '0', '0', '0s', '0', '0s', '0', '0s', '0s', '0s', '0', '0', '0', '0', '0s', '0s', '0', '0', '0s', '0', '0', '0', '0s', '0s', '0', '0s', '0', '0s', '0', '0', '0s', '0', '0', '0', '0', '0s', '0', '0', '0s', '0s', '0s', '0', '0', '0', '0', '0s', '0s', '0s', '0', '0', '0s', '0s', '0', '0', '0', '0s', '0s', '0s', '0', '0s', '0s', '0s', '0s', '0', '0', '0s', '0', '0', '0s']\n",
      "torch.Size([128, 512, 32, 8])\n",
      "['0s', '0', '0', '0', '0', '0', '0s', '0s', '0s', '0', '0', '0s', '0', '0', '0s', '0s', '0s', '0s', '0s', '0', '0', '0', '0', '0', '0', '0', '0', '0', '0', '0', '0s', '0s', '0', '0s', '0', '0s', '0s', '0s', '0', '0', '0', '0', '0s', '0', '0s', '0', '0', '0s', '0', '0', '0', '0s', '0s', '0s', '0s', '0', '0', '0', '0', '0s', '0', '0s', '0s', '0', '0', '0s', '0', '0', '0s', '0', '0s', '0', '0s', '0', '0s', '0', '0s', '0', '0s', '0', '0s', '0', '0', '0', '0s', '0s', '0', '0s', '0', '0', '0', '0s', '0s', '0', '0', '0', '0', '0s', '0', '0', '0', '0s', '0', '0s', '0s', '0', '0s', '0s', '0', '0s', '0', '0', '0', '0', '0', '0s', '0', '0', '0s', '0', '0s', '0', '0', '0s', '0s', '0s', '0', '0']\n",
      "torch.Size([128, 512, 32, 8])\n",
      "['0', '0s', '0s', '0s', '0s', '0', '0', '0', '0s', '0', '0', '0s', '0', '0', '0s', '0', '0s', '0s', '0', '0s', '0', '0', '0', '0', '0', '0', '0', '0s', '0', '0', '0', '0', '0', '0', '0s', '0s', '0', '0', '0', '0s', '0s', '0s', '0s', '0', '0s', '0s', '0', '0', '0s', '0s', '0', '0', '0', '0', '0s', '0s', '0s', '0', '0', '0', '0', '0', '0', '0s', '0', '0', '0', '0', '0', '0', '0s', '0', '0s', '0s', '0', '0s', '0', '0s', '0', '0', '0s', '0', '0', '0', '0s', '0s', '0', '0', '0', '0s', '0', '0s', '0', '0', '0', '0', '0', '0s', '0', '0', '0', '0s', '0s', '0', '0', '0', '0s', '0s', '0', '0s', '0s', '0', '0', '0s', '0', '0', '0', '0', '0', '0s', '0', '0s', '0', '0', '0', '0', '0s', '0']\n",
      "torch.Size([128, 512, 32, 8])\n",
      "['0s', '0', '0', '0', '0s', '0s', '0s', '0', '0', '0', '0s', '0s', '0s', '0', '0', '0', '0', '0', '0s', '0', '0', '0', '0', '0', '0s', '0', '0', '0', '0', '0s', '0', '0s', '0', '0', '0', '0s', '0s', '0', '0', '0', '0', '0', '0', '0s', '0', '0', '0s', '0', '0s', '0', '0', '0', '0s', '0', '0', '0s', '0s', '0s', '0', '0', '0s', '0', '0', '0s', '0', '0', '0', '0s', '0s', '0', '0s', '0', '0', '0', '0', '0s', '0', '0s', '0s', '0', '0', '0', '0', '0s', '0', '0', '0s', '0s', '0', '0', '0', '0', '0', '0', '0s', '0s', '0s', '0', '0s', '0', '0', '0s', '0s', '0', '0', '0', '0', '0', '0s', '0', '0', '0s', '0s', '0', '0', '0s', '0', '0s', '0', '0', '0', '0s', '0', '0', '0', '0s', '0', '0']\n",
      "torch.Size([128, 512, 32, 8])\n",
      "['0s', '0', '0', '0s', '0s', '0', '0s', '0', '0s', '0', '0s', '0', '0', '0', '0', '0', '0', '0', '0', '0s', '0s', '0', '0s', '0', '0', '0', '0', '0', '0s', '0', '0', '0s', '0s', '0s', '0', '0s', '0', '0', '0s', '0', '0s', '0', '0s', '0s', '0s', '0', '0', '0s', '0s', '0', '0', '0s', '0s', '0', '0s', '0s', '0', '0', '0s', '0s', '0', '0', '0s', '0', '0', '0s', '0', '0', '0', '0s', '0', '0s', '0', '0s', '0', '0', '0', '0s', '0s', '0', '0s', '0', '0s', '0', '0', '0s', '0s', '0', '0', '0', '0s', '0', '0s', '0s', '0', '0', '0s', '0s', '0', '0s', '0', '0', '0s', '0', '0s', '0', '0', '0', '0s', '0s', '0s', '0s', '0s', '0', '0', '0s', '0', '0', '0', '0', '0', '0', '0', '0s', '0', '0', '0', '0s']\n",
      "torch.Size([128, 512, 32, 8])\n",
      "['0', '0s', '0s', '0s', '0', '0s', '0', '0s', '0s', '0', '0', '0s', '0', '0s', '0', '0', '0', '0s', '0', '0s', '0', '0', '0', '0', '0', '0', '0s', '0s', '0s', '0', '0', '0', '0', '0', '0s', '0s', '0', '0s', '0s', '0s', '0s', '0', '0', '0', '0s', '0', '0', '0', '0s', '0s', '0', '0', '0s', '0', '0', '0s', '0', '0s', '0', '0', '0', '0', '0s', '0', '0', '0', '0', '0s', '0', '0', '0', '0s', '0', '0', '0s', '0', '0', '0s', '0', '0s', '0s', '0s', '0s', '0s', '0s', '0', '0', '0s', '0s', '0s', '0', '0', '0', '0', '0', '0', '0', '0', '0', '0s', '0', '0', '0s', '0', '0', '0', '0s', '0', '0', '0', '0', '0s', '0', '0s', '0s', '0', '0', '0s', '0', '0s', '0', '0s', '0', '0', '0', '0s', '0', '0s']\n",
      "torch.Size([128, 512, 32, 8])\n",
      "['0', '0', '0s', '0', '0', '0s', '0', '0s', '0s', '0', '0', '0', '0s', '0', '0', '0', '0', '0', '0s', '0', '0s', '0', '0', '0s', '0s', '0s', '0', '0s', '0', '0s', '0s', '0', '0', '0', '0', '0', '0', '0', '0', '0', '0', '0', '0s', '0', '0', '0', '0', '0', '0', '0', '0', '0', '0s', '0s', '0s', '0', '0s', '0s', '0', '0s', '0s', '0', '0', '0', '0', '0', '0s', '0s', '0', '0s', '0', '0s', '0', '0s', '0', '0', '0', '0', '0', '0s', '0s', '0s', '0', '0s', '0s', '0', '0', '0', '0s', '0', '0', '0s', '0', '0s', '0s', '0', '0', '0', '0s', '0s', '0', '0s', '0', '0', '0', '0', '0', '0', '0', '0', '0', '0', '0s', '0', '0s', '0s', '0', '0s', '0s', '0s', '0', '0s', '0s', '0', '0s', '0', '0s', '0']\n",
      "torch.Size([128, 512, 32, 8])\n",
      "['0', '0', '0s', '0', '0', '0s', '0', '0', '0', '0', '0s', '0', '0', '0s', '0', '0', '0', '0', '0', '0', '0', '0', '0', '0s', '0s', '0s', '0', '0', '0', '0', '0', '0', '0', '0s', '0', '0', '0s', '0', '0', '0s', '0s', '0s', '0', '0', '0s', '0', '0', '0', '0s', '0', '0', '0', '0s', '0', '0', '0', '0s', '0s', '0', '0', '0', '0s', '0', '0', '0', '0', '0', '0', '0', '0', '0', '0', '0s', '0', '0', '0', '0', '0', '0s', '0s', '0s', '0s', '0', '0', '0s', '0', '0s', '0', '0', '0s', '0', '0s', '0', '0', '0', '0s', '0', '0', '0s', '0s', '0s', '0', '0', '0s', '0s', '0s', '0', '0', '0', '0', '0', '0s', '0', '0', '0s', '0', '0', '0', '0', '0', '0s', '0', '0', '0', '0', '0', '0', '0']\n",
      "torch.Size([128, 512, 32, 8])\n",
      "['0s', '0s', '0', '0', '0s', '0s', '0', '0', '0s', '0s', '0s', '0s', '0s', '0', '0', '0s', '0', '0s', '0s', '0', '0', '0', '0', '0s', '0s', '0', '0', '0', '0', '0', '0', '0', '0', '0s', '0s', '0', '0s', '0s', '0s', '0s', '0', '0s', '0', '0', '0', '0s', '0s', '0', '0s', '0', '0', '0s', '0s', '0', '0s', '0', '0', '0', '0', '0s', '0s', '0', '0', '0', '0', '0', '0s', '0', '0', '0s', '0s', '0s', '0', '0s', '0', '0', '0', '0s', '0', '0s', '0', '0s', '0', '0s', '0', '0s', '0', '0s', '0', '0', '0', '0s', '0', '0', '0s', '0s', '0', '0', '0', '0s', '0s', '0s', '0s', '0', '0s', '0', '0', '0s', '0s', '0', '0', '0', '0s', '0', '0', '0s', '0s', '0', '0', '0', '0s', '0s', '0', '0s', '0s', '0', '0s', '0']\n",
      "torch.Size([128, 512, 32, 8])\n",
      "['0s', '0', '0', '0', '0', '0s', '0', '0s', '0', '0s', '0', '0s', '0s', '0', '0', '0', '0', '0', '0s', '0', '0', '0s', '0', '0s', '0', '0', '0s', '0s', '0', '0', '0', '0s', '0', '0', '0', '0s', '0', '0', '0', '0', '0', '0', '0s', '0', '0s', '0', '0', '0s', '0s', '0s', '0s', '0s', '0s', '0', '0s', '0', '0', '0', '0', '0s', '0', '0', '0s', '0', '0s', '0', '0s', '0', '0s', '0', '0', '0', '0', '0s', '0', '0s', '0', '0', '0s', '0', '0', '0', '0', '0', '0', '0', '0s', '0s', '0', '0', '0', '0s', '0', '0', '0', '0s', '0', '0', '0', '0s', '0', '0s', '0', '0s', '0', '0', '0', '0s', '0s', '0', '0', '0', '0', '0', '0', '0', '0', '0', '0', '0s', '0', '0', '0', '0', '0', '0', '0', '0s']\n",
      "torch.Size([128, 512, 32, 8])\n",
      "['0s', '0s', '0', '0', '0', '0', '0', '0', '0', '0s', '0', '0s', '0s', '0', '0', '0', '0', '0s', '0s', '0s', '0', '0s', '0', '0s', '0', '0', '0', '0', '0s', '0', '0', '0', '0', '0', '0s', '0s', '0', '0', '0', '0', '0', '0', '0', '0s', '0', '0s', '0s', '0', '0s', '0', '0s', '0', '0', '0s', '0', '0s', '0', '0', '0', '0', '0s', '0', '0', '0s', '0', '0', '0', '0', '0', '0s', '0', '0s', '0', '0', '0', '0s', '0', '0', '0s', '0', '0s', '0', '0s', '0', '0', '0', '0s', '0', '0', '0', '0', '0s', '0', '0s', '0', '0', '0s', '0', '0', '0', '0', '0s', '0s', '0', '0s', '0', '0s', '0', '0', '0', '0', '0', '0', '0', '0s', '0', '0', '0s', '0s', '0', '0', '0s', '0', '0s', '0', '0', '0s', '0s']\n",
      "torch.Size([128, 512, 32, 8])\n",
      "['0', '0', '0', '0', '0s', '0s', '0', '0s', '0', '0', '0s', '0s', '0', '0', '0', '0', '0s', '0', '0', '0', '0', '0', '0', '0s', '0', '0', '0s', '0', '0', '0s', '0', '0s', '0', '0', '0', '0', '0', '0s', '0s', '0', '0', '0s', '0s', '0s', '0', '0', '0', '0s', '0', '0', '0', '0s', '0', '0', '0', '0s', '0', '0', '0', '0', '0', '0s', '0s', '0', '0', '0', '0', '0', '0', '0s', '0', '0', '0s', '0s', '0s', '0s', '0', '0', '0s', '0', '0', '0', '0s', '0', '0', '0', '0', '0s', '0s', '0', '0', '0', '0', '0s', '0', '0', '0', '0', '0', '0s', '0', '0', '0', '0', '0', '0', '0', '0', '0', '0', '0', '0s', '0', '0', '0', '0s', '0s', '0', '0', '0s', '0', '0', '0s', '0', '0', '0', '0', '0']\n",
      "torch.Size([128, 512, 32, 8])\n",
      "['0s', '0s', '0', '0', '0', '0', '0', '0s', '0s', '0', '0s', '0', '0', '0s', '0', '0s', '0s', '0', '0', '0', '0', '0', '0', '0s', '0', '0', '0s', '0s', '0', '0', '0', '0', '0s', '0s', '0', '0s', '0', '0s', '0', '0s', '0', '0', '0', '0s', '0s', '0', '0', '0s', '0', '0', '0s', '0s', '0', '0s', '0s', '0s', '0', '0s', '0', '0', '0', '0', '0', '0s', '0s', '0s', '0', '0', '0s', '0', '0', '0s', '0s', '0s', '0s', '0s', '0s', '0', '0', '0', '0', '0', '0', '0s', '0s', '0s', '0s', '0', '0s', '0', '0s', '0', '0', '0', '0', '0', '0', '0', '0', '0', '0', '0', '0s', '0', '0s', '0', '0', '0s', '0', '0', '0s', '0', '0', '0s', '0', '0s', '0s', '0', '0', '0', '0s', '0s', '0s', '0s', '0', '0s', '0', '0s']\n",
      "torch.Size([128, 512, 32, 8])\n",
      "['0', '0s', '0s', '0', '0', '0s', '0', '0', '0', '0', '0', '0', '0s', '0s', '0s', '0', '0s', '0s', '0', '0', '0', '0', '0', '0', '0s', '0', '0s', '0', '0', '0', '0', '0', '0', '0', '0s', '0s', '0', '0', '0s', '0', '0', '0', '0s', '0', '0', '0', '0', '0', '0s', '0s', '0s', '0', '0', '0s', '0s', '0s', '0', '0', '0', '0s', '0', '0s', '0', '0', '0s', '0s', '0s', '0', '0s', '0', '0', '0', '0', '0s', '0', '0', '0', '0s', '0s', '0s', '0', '0', '0', '0', '0', '0s', '0', '0', '0', '0s', '0', '0', '0', '0', '0s', '0', '0', '0', '0s', '0s', '0s', '0', '0s', '0', '0', '0', '0', '0', '0s', '0', '0s', '0s', '0s', '0s', '0', '0', '0', '0s', '0', '0', '0s', '0s', '0', '0s', '0s', '0s', '0', '0s']\n",
      "torch.Size([128, 512, 32, 8])\n",
      "['0', '0s', '0', '0', '0', '0', '0s', '0', '0', '0s', '0s', '0s', '0', '0s', '0s', '0', '0', '0s', '0', '0', '0', '0', '0s', '0s', '0', '0', '0', '0s', '0', '0', '0s', '0', '0', '0', '0s', '0s', '0s', '0s', '0', '0', '0s', '0', '0', '0', '0s', '0s', '0', '0s', '0', '0', '0', '0', '0', '0s', '0', '0s', '0s', '0', '0', '0', '0', '0s', '0', '0', '0s', '0', '0', '0', '0', '0', '0', '0', '0', '0', '0', '0', '0', '0s', '0', '0', '0', '0s', '0', '0', '0s', '0', '0', '0', '0s', '0s', '0', '0', '0s', '0', '0', '0', '0s', '0s', '0s', '0', '0', '0s', '0s', '0', '0', '0', '0', '0s', '0', '0', '0s', '0', '0s', '0s', '0', '0s', '0', '0s', '0', '0s', '0', '0', '0', '0s', '0s', '0s', '0', '0s']\n",
      "torch.Size([128, 512, 32, 8])\n"
     ]
    },
    {
     "ename": "KeyboardInterrupt",
     "evalue": "",
     "output_type": "error",
     "traceback": [
      "\u001b[0;31m---------------------------------------------------------------------------\u001b[0m",
      "\u001b[0;31mKeyboardInterrupt\u001b[0m                         Traceback (most recent call last)",
      "Cell \u001b[0;32mIn[42], line 38\u001b[0m\n\u001b[1;32m     36\u001b[0m log_probs \u001b[38;5;241m=\u001b[39m F\u001b[38;5;241m.\u001b[39mlog_softmax(logits, dim\u001b[38;5;241m=\u001b[39m\u001b[38;5;241m-\u001b[39m\u001b[38;5;241m1\u001b[39m)\u001b[38;5;241m.\u001b[39mpermute(\u001b[38;5;241m1\u001b[39m, \u001b[38;5;241m0\u001b[39m, \u001b[38;5;241m2\u001b[39m)  \u001b[38;5;66;03m# (T, N, C)\u001b[39;00m\n\u001b[1;32m     37\u001b[0m \u001b[38;5;66;03m# Decodificar las probabilidades de salida para obtener el texto\u001b[39;00m\n\u001b[0;32m---> 38\u001b[0m predicted_texts \u001b[38;5;241m=\u001b[39m \u001b[43mctc_decode\u001b[49m\u001b[43m(\u001b[49m\u001b[43mlog_probs\u001b[49m\u001b[43m,\u001b[49m\u001b[43m \u001b[49m\u001b[43mtrain_dataset\u001b[49m\u001b[38;5;241;43m.\u001b[39;49m\u001b[43mvoc\u001b[49m\u001b[43m)\u001b[49m\n\u001b[1;32m     39\u001b[0m \u001b[38;5;28mprint\u001b[39m(predicted_texts)\n",
      "Cell \u001b[0;32mIn[42], line 21\u001b[0m, in \u001b[0;36mctc_decode\u001b[0;34m(log_probs, voc)\u001b[0m\n\u001b[1;32m     19\u001b[0m previous_char \u001b[38;5;241m=\u001b[39m \u001b[38;5;28;01mNone\u001b[39;00m\n\u001b[1;32m     20\u001b[0m \u001b[38;5;28;01mfor\u001b[39;00m index \u001b[38;5;129;01min\u001b[39;00m sequence:\n\u001b[0;32m---> 21\u001b[0m     char \u001b[38;5;241m=\u001b[39m \u001b[43mvoc\u001b[49m\u001b[43m[\u001b[49m\u001b[43mindex\u001b[49m\u001b[43m]\u001b[49m \u001b[38;5;28;01mif\u001b[39;00m index \u001b[38;5;241m<\u001b[39m \u001b[38;5;28mlen\u001b[39m(voc) \u001b[38;5;28;01melse\u001b[39;00m \u001b[38;5;124m'\u001b[39m\u001b[38;5;124m'\u001b[39m\n\u001b[1;32m     22\u001b[0m     \u001b[38;5;28;01mif\u001b[39;00m char \u001b[38;5;241m!=\u001b[39m previous_char:  \u001b[38;5;66;03m# Eliminar duplicados consecutivos\u001b[39;00m\n\u001b[1;32m     23\u001b[0m         decoded_sequence\u001b[38;5;241m.\u001b[39mappend(char)\n",
      "\u001b[0;31mKeyboardInterrupt\u001b[0m: "
     ]
    }
   ],
   "source": [
    "import torch.nn as nn\n",
    "import torch.optim as optim\n",
    "import wandb\n",
    "\n",
    "# Definir el decodificador CTC\n",
    "def ctc_decode(log_probs, voc):\n",
    "    \"\"\"\n",
    "    Decodificar las probabilidades de salida de la RNN para obtener la secuencia de texto.\n",
    "\n",
    "    log_probs: Salida logarítmica del modelo RNN después de aplicar softmax (T, N, C)\n",
    "    voc: El vocabulario usado para el mapeo de caracteres\n",
    "    \"\"\"\n",
    "    # Obtener los índices con la mayor probabilidad en cada timestep\n",
    "    max_probs = torch.argmax(log_probs, dim=-1)\n",
    "    \n",
    "    decoded_batch = []\n",
    "    for sequence in max_probs.permute(1, 0):  # Cambiar a (N, T)\n",
    "        decoded_sequence = []\n",
    "        previous_char = None\n",
    "        for index in sequence:\n",
    "            char = voc[index] if index < len(voc) else ''\n",
    "            if char != previous_char:  # Eliminar duplicados consecutivos\n",
    "                decoded_sequence.append(char)\n",
    "            previous_char = char\n",
    "        decoded_sequence = ''.join([char for char in decoded_sequence if char != ''])  # Eliminar caracteres en blanco\n",
    "        decoded_batch.append(decoded_sequence)\n",
    "    return decoded_batch\n",
    "\n",
    "# Simular el paso de decodificación después de la inferencia del modelo\n",
    "\n",
    "modelprueba.eval()\n",
    "with torch.no_grad():\n",
    "    for images, _, _ in train_loader:\n",
    "        images = images.to(device)\n",
    "        logits = modelprueba(images)\n",
    "        log_probs = F.log_softmax(logits, dim=-1).permute(1, 0, 2)  # (T, N, C)\n",
    "        # Decodificar las probabilidades de salida para obtener el texto\n",
    "        predicted_texts = ctc_decode(log_probs, train_dataset.voc)\n",
    "        print(predicted_texts)\n",
    "     "
   ]
  },
  {
   "cell_type": "code",
   "execution_count": 9,
   "metadata": {},
   "outputs": [
    {
     "data": {
      "text/html": [
       "Finishing last run (ID:vm41rzrm) before initializing another..."
      ],
      "text/plain": [
       "<IPython.core.display.HTML object>"
      ]
     },
     "metadata": {},
     "output_type": "display_data"
    },
    {
     "data": {
      "application/vnd.jupyter.widget-view+json": {
       "model_id": "fc995cafcd4e4818a3529cfc553415ad",
       "version_major": 2,
       "version_minor": 0
      },
      "text/plain": [
       "VBox(children=(Label(value='0.002 MB of 0.002 MB uploaded\\r'), FloatProgress(value=1.0, max=1.0)))"
      ]
     },
     "metadata": {},
     "output_type": "display_data"
    },
    {
     "data": {
      "text/html": [
       " View run <strong style=\"color:#cdcd00\">treasured-paper-31</strong> at: <a href='https://wandb.ai/luisdomene/CRNN/runs/vm41rzrm' target=\"_blank\">https://wandb.ai/luisdomene/CRNN/runs/vm41rzrm</a><br/> View project at: <a href='https://wandb.ai/luisdomene/CRNN' target=\"_blank\">https://wandb.ai/luisdomene/CRNN</a><br/>Synced 6 W&B file(s), 0 media file(s), 0 artifact file(s) and 0 other file(s)"
      ],
      "text/plain": [
       "<IPython.core.display.HTML object>"
      ]
     },
     "metadata": {},
     "output_type": "display_data"
    },
    {
     "data": {
      "text/html": [
       "Find logs at: <code>./wandb/run-20240529_224059-vm41rzrm/logs</code>"
      ],
      "text/plain": [
       "<IPython.core.display.HTML object>"
      ]
     },
     "metadata": {},
     "output_type": "display_data"
    },
    {
     "data": {
      "text/html": [
       "Successfully finished last run (ID:vm41rzrm). Initializing new run:<br/>"
      ],
      "text/plain": [
       "<IPython.core.display.HTML object>"
      ]
     },
     "metadata": {},
     "output_type": "display_data"
    },
    {
     "data": {
      "application/vnd.jupyter.widget-view+json": {
       "model_id": "366be8160d6b480ea40dbc5d1db27da2",
       "version_major": 2,
       "version_minor": 0
      },
      "text/plain": [
       "VBox(children=(Label(value='Waiting for wandb.init()...\\r'), FloatProgress(value=0.01111271968887498, max=1.0)…"
      ]
     },
     "metadata": {},
     "output_type": "display_data"
    },
    {
     "data": {
      "text/html": [
       "Tracking run with wandb version 0.17.0"
      ],
      "text/plain": [
       "<IPython.core.display.HTML object>"
      ]
     },
     "metadata": {},
     "output_type": "display_data"
    },
    {
     "data": {
      "text/html": [
       "Run data is saved locally in <code>/home/xnmaster/deep-learning-project-2024-ai_nndl_group_01_/recognition/wandb/run-20240529_224218-7i9x9al7</code>"
      ],
      "text/plain": [
       "<IPython.core.display.HTML object>"
      ]
     },
     "metadata": {},
     "output_type": "display_data"
    },
    {
     "data": {
      "text/html": [
       "Syncing run <strong><a href='https://wandb.ai/luisdomene/CRNN_Testing/runs/7i9x9al7' target=\"_blank\">earthy-sun-10</a></strong> to <a href='https://wandb.ai/luisdomene/CRNN_Testing' target=\"_blank\">Weights & Biases</a> (<a href='https://wandb.me/run' target=\"_blank\">docs</a>)<br/>"
      ],
      "text/plain": [
       "<IPython.core.display.HTML object>"
      ]
     },
     "metadata": {},
     "output_type": "display_data"
    },
    {
     "data": {
      "text/html": [
       " View project at <a href='https://wandb.ai/luisdomene/CRNN_Testing' target=\"_blank\">https://wandb.ai/luisdomene/CRNN_Testing</a>"
      ],
      "text/plain": [
       "<IPython.core.display.HTML object>"
      ]
     },
     "metadata": {},
     "output_type": "display_data"
    },
    {
     "data": {
      "text/html": [
       " View run at <a href='https://wandb.ai/luisdomene/CRNN_Testing/runs/7i9x9al7' target=\"_blank\">https://wandb.ai/luisdomene/CRNN_Testing/runs/7i9x9al7</a>"
      ],
      "text/plain": [
       "<IPython.core.display.HTML object>"
      ]
     },
     "metadata": {},
     "output_type": "display_data"
    },
    {
     "name": "stdout",
     "output_type": "stream",
     "text": [
      "CUDA is available. PyTorch can use the GPU.\n",
      "Device name: Tesla V100-PCIE-16GB\n",
      "Epoch 1/25, Train Loss: 3.185691257894511\n",
      "Validation Loss: 2.6267519354820252, Word Accuracy: 0.0, Char Accuracy: 0.022430364248546067\n",
      "Epoch 2/25, Train Loss: 1.6309816628144096\n",
      "Validation Loss: 0.9244305163621902, Word Accuracy: 0.0, Char Accuracy: 0.12344046525864708\n",
      "Epoch 3/25, Train Loss: 0.700839401156418\n",
      "Validation Loss: 0.6095716416835785, Word Accuracy: 0.0, Char Accuracy: 0.1290602999693909\n",
      "Epoch 4/25, Train Loss: 0.5283828523983113\n",
      "Validation Loss: 0.5111771449446678, Word Accuracy: 0.0, Char Accuracy: 0.12880318334863788\n",
      "Epoch 5/25, Train Loss: 0.45415493460632567\n",
      "Validation Loss: 0.4659761145710945, Word Accuracy: 0.0, Char Accuracy: 0.13074992347719622\n",
      "Epoch 6/25, Train Loss: 0.4100075448251337\n",
      "Validation Loss: 0.4239072620868683, Word Accuracy: 0.0, Char Accuracy: 0.13003979185797368\n",
      "Epoch 7/25, Train Loss: 0.3797444002923991\n",
      "Validation Loss: 0.4184886321425438, Word Accuracy: 0.0, Char Accuracy: 0.12837465564738293\n",
      "Epoch 8/25, Train Loss: 0.3546635451134402\n",
      "Validation Loss: 0.39186755418777464, Word Accuracy: 0.0, Char Accuracy: 0.1304928068564432\n",
      "Epoch 9/25, Train Loss: 0.3385307151126358\n",
      "Validation Loss: 0.37439333349466325, Word Accuracy: 0.0, Char Accuracy: 0.13136210590756045\n",
      "Epoch 10/25, Train Loss: 0.324011842933997\n",
      "Validation Loss: 0.36278308629989625, Word Accuracy: 0.0, Char Accuracy: 0.131643709825528\n",
      "Epoch 11/25, Train Loss: 0.31257143766081114\n",
      "Validation Loss: 0.35781963616609574, Word Accuracy: 0.0, Char Accuracy: 0.13219467401285584\n",
      "Epoch 12/25, Train Loss: 0.30229214781349756\n",
      "Validation Loss: 0.37003827542066575, Word Accuracy: 0.0, Char Accuracy: 0.13277012549739822\n"
     ]
    }
   ],
   "source": [
    "import torch.nn.functional as F\n",
    "import torch.nn.init as init\n",
    "import wandb\n",
    "from sklearn.metrics import accuracy_score\n",
    "import matplotlib.pyplot as plt\n",
    "\n",
    "def ctc_decode(log_probs, voc):\n",
    "    \"\"\"\n",
    "    Decodificar las probabilidades de salida de la RNN para obtener la secuencia de texto.\n",
    "\n",
    "    log_probs: Salida logarítmica del modelo RNN después de aplicar softmax (T, N, C)\n",
    "    voc: El vocabulario usado para el mapeo de caracteres\n",
    "    \"\"\"\n",
    "    max_probs = torch.argmax(log_probs, dim=-1)\n",
    "    decoded_batch = []\n",
    "    for sequence in max_probs.permute(1, 0):  # Cambiar a (N, T)\n",
    "        decoded_sequence = []\n",
    "        previous_char = None\n",
    "        for index in sequence:\n",
    "            if index < len(voc):\n",
    "                char = voc[index]\n",
    "                if char != previous_char:  # Eliminar duplicados consecutivos\n",
    "                    decoded_sequence.append(char)\n",
    "                previous_char = char\n",
    "        decoded_sequence = ''.join([char for char in decoded_sequence if char != ''])  # Eliminar caracteres en blanco\n",
    "        decoded_batch.append(decoded_sequence)\n",
    "    return decoded_batch\n",
    "\n",
    "def calculate_accuracy(pred_texts, true_texts):\n",
    "    \"\"\"\n",
    "    Calcula la precisión a nivel de palabra y carácter.\n",
    "\n",
    "    pred_texts: Textos predichos por el modelo\n",
    "    true_texts: Textos verdaderos\n",
    "    \"\"\"\n",
    "    word_accuracy = accuracy_score(true_texts, pred_texts)\n",
    "    \n",
    "    total_chars = sum(len(text) for text in true_texts)\n",
    "    correct_chars = sum(sum(p == t for p, t in zip(pred, true)) for pred, true in zip(pred_texts, true_texts))\n",
    "    char_accuracy = correct_chars / total_chars if total_chars > 0 else 0\n",
    "\n",
    "    return word_accuracy, char_accuracy\n",
    "\n",
    "# Inicialización de WandB\n",
    "wandb.init(project=\"CRNN_Testing\", entity=\"luisdomene\")\n",
    "\n",
    "# Registrar hiperparámetros\n",
    "config = wandb.config\n",
    "config.learning_rate = 0.0003\n",
    "config.weight_decay = 0.0005\n",
    "config.batch_size = 512\n",
    "config.num_epochs = 25\n",
    "\n",
    "if torch.cuda.is_available():\n",
    "    print(\"CUDA is available. PyTorch can use the GPU.\")\n",
    "    print(f\"Device name: {torch.cuda.get_device_name(0)}\")\n",
    "    device = 'cuda'\n",
    "else:\n",
    "    print(\"CUDA is not available. PyTorch will use the CPU.\")\n",
    "    device = 'cpu'\n",
    "\n",
    "num_classes = len(train_dataset.voc) + 1\n",
    "model = CRNN(num_classes).to(device)\n",
    "criterion = nn.CTCLoss(blank=0)\n",
    "optimizer = optim.Adam(model.parameters(), lr=config.learning_rate, weight_decay=config.weight_decay)\n",
    "\n",
    "# Reducción del Learning Rate en Plateau\n",
    "scheduler = optim.lr_scheduler.ReduceLROnPlateau(optimizer, mode='min', factor=0.1, patience=3, verbose=True)\n",
    "\n",
    "best_val_loss = float('inf')\n",
    "wandb.watch(model, criterion, log='all', log_freq=10)\n",
    "\n",
    "for epoch in range(config.num_epochs):\n",
    "    model.train()\n",
    "    train_loss = 0.0\n",
    "\n",
    "    for images, labels, label_lengths in train_loader:\n",
    "        images = images.to(device)\n",
    "        labels = [label.to(device) for label in labels]\n",
    "        label_lengths = label_lengths.to(device)\n",
    "        \n",
    "        optimizer.zero_grad()\n",
    "        logits = model(images)\n",
    "        log_probs = F.log_softmax(logits, dim=-1).permute(1, 0, 2)\n",
    "        input_lengths = torch.full((logits.size(0),), logits.size(1), dtype=torch.long).to(device)\n",
    "        labels_concat = torch.cat(labels).to(device)\n",
    "\n",
    "        loss = criterion(log_probs, labels_concat, input_lengths, label_lengths)\n",
    "        loss.backward()\n",
    "        \n",
    "        torch.nn.utils.clip_grad_norm_(model.parameters(), 1.0)\n",
    "        optimizer.step()\n",
    "        \n",
    "        train_loss += loss.item()\n",
    "    \n",
    "    avg_train_loss = train_loss / len(train_loader)\n",
    "    wandb.log({\"epoch\": epoch + 1, \"train_loss\": avg_train_loss})\n",
    "\n",
    "    print(f'Epoch {epoch+1}/{config.num_epochs}, Train Loss: {avg_train_loss}')\n",
    "\n",
    "    model.eval()\n",
    "    val_loss = 0.0\n",
    "    all_pred_texts = []\n",
    "    all_true_texts = []\n",
    "    \n",
    "    with torch.no_grad():\n",
    "        for images, labels, label_lengths in val_loader:\n",
    "            images = images.to(device)\n",
    "            labels = [label.to(device) for label in labels]\n",
    "            label_lengths = label_lengths.to(device)\n",
    "            \n",
    "            logits = model(images)\n",
    "            log_probs = F.log_softmax(logits, dim=-1).permute(1, 0, 2)\n",
    "            input_lengths = torch.full((logits.size(0),), logits.size(1), dtype=torch.long).to(device)\n",
    "            labels_concat = torch.cat(labels).to(device)\n",
    "            \n",
    "            loss = criterion(log_probs, labels_concat, input_lengths, label_lengths)\n",
    "            val_loss += loss.item()\n",
    "\n",
    "            # Decodificar y calcular la precisión\n",
    "            pred_texts = ctc_decode(log_probs, train_dataset.voc)\n",
    "            true_texts = [\"\".join([train_dataset.voc[char] for char in label]) for label in labels]\n",
    "            all_pred_texts.extend(pred_texts)\n",
    "            all_true_texts.extend(true_texts)\n",
    "            \n",
    "    avg_val_loss = val_loss / len(val_loader)\n",
    "    word_acc, char_acc = calculate_accuracy(all_pred_texts, all_true_texts)\n",
    "    wandb.log({\"epoch\": epoch + 1, \"val_loss\": avg_val_loss, \"word_accuracy\": word_acc, \"char_accuracy\": char_acc})\n",
    "\n",
    "    print(f'Validation Loss: {avg_val_loss}, Word Accuracy: {word_acc}, Char Accuracy: {char_acc}')\n",
    "\n",
    "    # Ajustar el learning rate en función de la pérdida de validación\n",
    "    scheduler.step(avg_val_loss)\n",
    "\n",
    "    # Visualizar imágenes con predicciones cada 5 epochs\n",
    "    if (epoch + 1) % 10 == 0:\n",
    "        fig, axs = plt.subplots(2, 2, figsize=(10, 10))\n",
    "        axs = axs.flatten()\n",
    "        for i in range(4):  # Visualizar hasta 4 ejemplos\n",
    "            if i < len(images):\n",
    "                axs[i].imshow(images[i].cpu().numpy().transpose(1, 2, 0), cmap='gray')\n",
    "                axs[i].set_title(f'Pred: {all_pred_texts[i]}\\nTrue: {all_true_texts[i]}')\n",
    "                axs[i].axis('off')\n",
    "        plt.tight_layout()\n",
    "        wandb.log({\"epoch_image\": wandb.Image(fig, caption=f\"Epoch {epoch+1}\")})\n",
    "        plt.close(fig)\n",
    "\n",
    "    # Guardar el modelo si se obtiene una mejor pérdida de validación\n",
    "    if avg_val_loss < best_val_loss:\n",
    "        best_val_loss = avg_val_loss\n",
    "        torch.save(model.state_dict(), f\"model_epoch_{epoch+1}.pth\")\n",
    "        wandb.save(f\"model_epoch_{epoch+1}.pth\")\n",
    "\n",
    "# Guardar el modelo al final del entrenamiento\n",
    "torch.save(model.state_dict(), \"modelv_def.pth\")\n",
    "wandb.save(\"modelv_def.pth\")"
   ]
  },
  {
   "cell_type": "code",
   "execution_count": null,
   "metadata": {},
   "outputs": [
    {
     "name": "stdout",
     "output_type": "stream",
     "text": [
      "24\n"
     ]
    }
   ],
   "source": [
    "print(len(train_loader))"
   ]
  },
  {
   "cell_type": "code",
   "execution_count": null,
   "metadata": {},
   "outputs": [],
   "source": [
    "w"
   ]
  },
  {
   "cell_type": "code",
   "execution_count": 3,
   "metadata": {},
   "outputs": [],
   "source": [
    "wandb.finish()"
   ]
  },
  {
   "cell_type": "code",
   "execution_count": 7,
   "metadata": {},
   "outputs": [
    {
     "name": "stdout",
     "output_type": "stream",
     "text": [
      "PyTorch version: 1.12.0\n",
      "CUDA available: True\n",
      "CUDA version: 11.6\n"
     ]
    }
   ],
   "source": [
    "!python -c \"import torch; print('PyTorch version:', torch.__version__); print('CUDA available:', torch.cuda.is_available()); print('CUDA version:', torch.version.cuda)\"\n"
   ]
  },
  {
   "cell_type": "code",
   "execution_count": 19,
   "metadata": {},
   "outputs": [
    {
     "name": "stdout",
     "output_type": "stream",
     "text": [
      "Tue May 28 22:50:07 2024       \r\n",
      "+-----------------------------------------------------------------------------+\r\n",
      "| NVIDIA-SMI 470.239.06   Driver Version: 470.239.06   CUDA Version: 11.4     |\r\n",
      "|-------------------------------+----------------------+----------------------+\r\n",
      "| GPU  Name        Persistence-M| Bus-Id        Disp.A | Volatile Uncorr. ECC |\r\n",
      "| Fan  Temp  Perf  Pwr:Usage/Cap|         Memory-Usage | GPU-Util  Compute M. |\r\n",
      "|                               |                      |               MIG M. |\r\n",
      "|===============================+======================+======================|\r\n",
      "|   0  Tesla V100-PCIE...  Off  | 00000001:00:00.0 Off |                  Off |\r\n",
      "| N/A   28C    P0    26W / 250W |     81MiB / 16160MiB |      0%      Default |\r\n",
      "|                               |                      |                  N/A |\r\n",
      "+-------------------------------+----------------------+----------------------+\r\n",
      "                                                                               \r\n",
      "+-----------------------------------------------------------------------------+\r\n",
      "| Processes:                                                                  |\r\n",
      "|  GPU   GI   CI        PID   Type   Process name                  GPU Memory |\r\n",
      "|        ID   ID                                                   Usage      |\r\n",
      "|=============================================================================|\r\n",
      "|    0   N/A  N/A      1096      G   /usr/lib/xorg/Xorg                 80MiB |\r\n",
      "+-----------------------------------------------------------------------------+\r\n"
     ]
    }
   ],
   "source": [
    "!nvidia-smi\n"
   ]
  },
  {
   "cell_type": "code",
   "execution_count": null,
   "metadata": {},
   "outputs": [],
   "source": []
  }
 ],
 "metadata": {
  "kernelspec": {
   "display_name": "Python 3 (ipykernel)",
   "language": "python",
   "name": "python3"
  },
  "language_info": {
   "codemirror_mode": {
    "name": "ipython",
    "version": 3
   },
   "file_extension": ".py",
   "mimetype": "text/x-python",
   "name": "python",
   "nbconvert_exporter": "python",
   "pygments_lexer": "ipython3",
   "version": "3.8.5"
  }
 },
 "nbformat": 4,
 "nbformat_minor": 2
}
