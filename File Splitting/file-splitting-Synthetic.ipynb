{
 "cells": [
  {
   "cell_type": "code",
   "execution_count": 1,
   "metadata": {},
   "outputs": [],
   "source": [
    "# SPLITTING TRAINING DATA INTO TRAINING AND VALIDATION SETS\n",
    "# This script is used to split the training data into training and validation sets. \n",
    "\n",
    "# -------- SYNTHETIC DATA --------\n",
    "# Test should be 10k (2697-2701) folder name DEEPL SyntheticD Test \n",
    "# Validation should be 10k (2425-2428) folder name DEEPL SyntheticD Validation\n",
    "# Training should be 200k (1-1054) folder name DEEPL SyntheticD Training"
   ]
  },
  {
   "cell_type": "code",
   "execution_count": 2,
   "metadata": {},
   "outputs": [],
   "source": [
    "import os\n",
    "import pandas as pd\n",
    "\n",
    "# Function to extract image paths and labels with corrected paths, starting from the first files\n",
    "def extract_image_paths_and_labels_corrected(annotation_file, base_folder, num_images):\n",
    "    image_paths = []\n",
    "    labels = []\n",
    "    with open(annotation_file, 'r') as f:\n",
    "        lines = f.readlines()\n",
    "    \n",
    "    lines.sort()  # Sort the lines to ensure we start from the first files\n",
    "    \n",
    "    for line in lines:\n",
    "        parts = line.strip().split()\n",
    "        if len(parts) < 2:\n",
    "            continue\n",
    "        image_path, _ = parts\n",
    "        label = image_path.split('_')[1]\n",
    "        # Remove './' from the path\n",
    "        corrected_image_path = os.path.join(base_folder, image_path[2:])\n",
    "        image_paths.append(corrected_image_path)\n",
    "        labels.append(label)\n",
    "        if len(image_paths) >= num_images:\n",
    "            break\n",
    "    return image_paths, labels\n",
    "\n",
    "# Paths to annotation files and base folders\n",
    "training_folder = 'Synthetic/DEEPL SyntheticD Train Def'\n",
    "validation_folder = 'Synthetic/DEEPL SyntheticD Val Def'\n",
    "test_folder = 'Synthetic/DEEPL SyntheticD Test Def'\n",
    "\n",
    "annotation_train_file = 'Synthetic/annotation_train.txt'\n",
    "annotation_val_file = 'Synthetic/annotation_val.txt'\n",
    "annotation_test_file = 'Synthetic/annotation_test.txt'\n",
    "\n",
    "# Extract data with corrected image paths\n",
    "train_images, train_labels = extract_image_paths_and_labels_corrected(annotation_train_file, training_folder, 200000)\n",
    "val_images, val_labels = extract_image_paths_and_labels_corrected(annotation_val_file, validation_folder, 10000)\n",
    "test_images, test_labels = extract_image_paths_and_labels_corrected(annotation_test_file, test_folder, 10000)\n",
    "\n",
    "# Create dataframes\n",
    "train_df = pd.DataFrame({'image_path': train_images, 'label': train_labels})\n",
    "val_df = pd.DataFrame({'image_path': val_images, 'label': val_labels})\n",
    "test_df = pd.DataFrame({'image_path': test_images, 'label': test_labels})\n",
    "\n",
    "# Save to CSV files\n",
    "train_df.to_csv('train_datadef.csv', index=False)\n",
    "val_df.to_csv('val_datadef.csv', index=False)\n",
    "test_df.to_csv('test_datadef.csv', index=False)\n",
    "\n",
    "# Create dictionaries from the dataframes\n",
    "train_dict = train_df.to_dict(orient='records')\n",
    "val_dict = val_df.to_dict(orient='records')\n",
    "test_dict = test_df.to_dict(orient='records')"
   ]
  },
  {
   "cell_type": "code",
   "execution_count": 5,
   "metadata": {},
   "outputs": [
    {
     "name": "stdout",
     "output_type": "stream",
     "text": [
      "Training Data Sample: [{'image_path': 'Synthetic/DEEPL SyntheticD Train Def/1/1/100_Classmates_13991.jpg', 'label': 'Classmates'}, {'image_path': 'Synthetic/DEEPL SyntheticD Train Def/1/1/101_greater_33598.jpg', 'label': 'greater'}, {'image_path': 'Synthetic/DEEPL SyntheticD Train Def/1/1/102_BULLFROG_10132.jpg', 'label': 'BULLFROG'}, {'image_path': 'Synthetic/DEEPL SyntheticD Train Def/1/1/103_NUCLEAR_52503.jpg', 'label': 'NUCLEAR'}, {'image_path': 'Synthetic/DEEPL SyntheticD Train Def/1/1/104_maximilian_47254.jpg', 'label': 'maximilian'}]\n",
      "Validation Data Sample: [{'image_path': 'Synthetic/DEEPL SyntheticD Val Def/2425/1/116_CASTLING_11904.jpg', 'label': 'CASTLING'}, {'image_path': 'Synthetic/DEEPL SyntheticD Val Def/2425/1/117_publicizes_61084.jpg', 'label': 'publicizes'}, {'image_path': 'Synthetic/DEEPL SyntheticD Val Def/2425/1/118_pegged_56320.jpg', 'label': 'pegged'}, {'image_path': 'Synthetic/DEEPL SyntheticD Val Def/2425/1/119_VIOLIN_84727.jpg', 'label': 'VIOLIN'}, {'image_path': 'Synthetic/DEEPL SyntheticD Val Def/2425/1/120_jawbones_41297.jpg', 'label': 'jawbones'}]\n",
      "Test Data Sample: [{'image_path': 'Synthetic/DEEPL SyntheticD Test Def/2697/6/467_GUNS_34267.jpg', 'label': 'GUNS'}, {'image_path': 'Synthetic/DEEPL SyntheticD Test Def/2697/6/468_horizons_36832.jpg', 'label': 'horizons'}, {'image_path': 'Synthetic/DEEPL SyntheticD Test Def/2697/6/469_Florentine_29671.jpg', 'label': 'Florentine'}, {'image_path': 'Synthetic/DEEPL SyntheticD Test Def/2697/6/470_smoothly_72057.jpg', 'label': 'smoothly'}, {'image_path': 'Synthetic/DEEPL SyntheticD Test Def/2697/6/471_Misconducting_48839.jpg', 'label': 'Misconducting'}]\n",
      "\n",
      "Number of Training Samples: 200000\n",
      "Number of Validation Samples: 10000\n",
      "Number of Test Samples: 10000\n"
     ]
    }
   ],
   "source": [
    "# Display samples of the dictionaries\n",
    "print(\"Training Data Sample:\", train_dict[:5])\n",
    "print(\"Validation Data Sample:\", val_dict[:5])\n",
    "print(\"Test Data Sample:\", test_dict[:5])\n",
    "\n",
    "print(\"\\nNumber of Training Samples:\", len(train_dict))\n",
    "print(\"Number of Validation Samples:\", len(val_dict))\n",
    "print(\"Number of Test Samples:\", len(test_dict))"
   ]
  },
  {
   "cell_type": "code",
   "execution_count": 4,
   "metadata": {},
   "outputs": [
    {
     "name": "stdout",
     "output_type": "stream",
     "text": [
      "(31, 110, 3)\n"
     ]
    },
    {
     "data": {
      "image/png": "[encoded data removed]",
      "text/plain": [
       "<Figure size 640x480 with 1 Axes>"
      ]
     },
     "metadata": {},
     "output_type": "display_data"
    }
   ],
   "source": [
    "import cv2\n",
    "import matplotlib.pyplot as plt\n",
    "img = cv2.imread('Synthetic/DEEPL SyntheticD Train Def/1/1/122_MURDEROUS_50453.jpg')\n",
    "\n",
    "cv2.imshow('image', img)\n",
    "plt.imshow(img)\n",
    "print(img.shape)"
   ]
  },
  {
   "cell_type": "code",
   "execution_count": null,
   "metadata": {},
   "outputs": [],
   "source": [
    "# -------- REAL DATA --------\n",
    "# Test should be 1k \n",
    "# Validation should be 1\n",
    "# Training should be 3k"
   ]
  }
 ],
 "metadata": {
  "kernelspec": {
   "display_name": "collegeEnv",
   "language": "python",
   "name": "python3"
  },
  "language_info": {
   "codemirror_mode": {
    "name": "ipython",
    "version": 3
   },
   "file_extension": ".py",
   "mimetype": "text/x-python",
   "name": "python",
   "nbconvert_exporter": "python",
   "pygments_lexer": "ipython3",
   "version": "3.10.13"
  }
 },
 "nbformat": 4,
 "nbformat_minor": 2
}
