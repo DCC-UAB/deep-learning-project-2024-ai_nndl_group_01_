{
 "cells": [
  {
   "cell_type": "code",
   "execution_count": 6,
   "id": "bee23800",
   "metadata": {},
   "outputs": [],
   "source": [
    "# -------- REAL DATA --------\n",
    "# Test should be 1k \n",
    "# Validation should be 1\n",
    "# Training should be 3k"
   ]
  },
  {
   "cell_type": "code",
   "execution_count": 7,
   "id": "0eed4657",
   "metadata": {},
   "outputs": [],
   "source": [
    "import pandas as pd\n",
    "from sklearn.model_selection import train_test_split\n",
    "\n",
    "# Read the contents of the text files\n",
    "with open('groundTruthTRAIN.txt', 'r') as f:\n",
    "    train_data = f.readlines()\n",
    "\n",
    "with open('groundTruthtest.txt', 'r') as f:\n",
    "    test_data = f.readlines()\n",
    "\n",
    "# Function to parse the data and extract image paths and labels\n",
    "def parse_data(data, folder_name):\n",
    "    image_paths = []\n",
    "    labels = []\n",
    "    for line in data:\n",
    "        if line.startswith(\"Image:\"):\n",
    "            image_path = folder_name + '/' + line.split(\":\")[1].strip()\n",
    "            image_paths.append(image_path)\n",
    "        elif line.startswith(\"GroundTruth:\"):\n",
    "            label = line.split(\":\")[1].strip()\n",
    "            labels.append(label)\n",
    "    return image_paths, labels\n",
    "\n",
    "# Parse train and test data\n",
    "train_image_paths, train_labels = parse_data(train_data, 'train')\n",
    "test_image_paths, test_labels = parse_data(test_data, 'test')\n",
    "\n",
    "# Correct the image paths to avoid duplication of folder names\n",
    "train_image_paths = [path.replace('train/train', 'train') for path in train_image_paths]\n",
    "test_image_paths = [path.replace('test/test', 'test') for path in test_image_paths]\n",
    "\n",
    "# Combine train and test data for splitting\n",
    "all_image_paths = train_image_paths + test_image_paths\n",
    "all_labels = train_labels + test_labels\n",
    "\n",
    "# Split data into train (3000), validation (1000), and test (1000)\n",
    "train_paths, temp_paths, train_labels, temp_labels = train_test_split(\n",
    "    all_image_paths, all_labels, train_size=3000, random_state=42)\n",
    "\n",
    "validation_paths, test_paths, validation_labels, test_labels = train_test_split(\n",
    "    temp_paths, temp_labels, test_size=1000, random_state=42)\n",
    "\n",
    "# Create separate dataframes for train, validation, and test data\n",
    "train_df = pd.DataFrame({'image_path': train_paths, 'label': train_labels})\n",
    "validation_df = pd.DataFrame({'image_path': validation_paths, 'label': validation_labels})\n",
    "test_df = pd.DataFrame({'image_path': test_paths, 'label': test_labels})\n",
    "\n",
    "# Create dictionaries for train, validation, and test data\n",
    "train_label_dict = train_df.set_index('image_path').to_dict()['label']\n",
    "validation_label_dict = validation_df.set_index('image_path').to_dict()['label']\n",
    "test_label_dict = test_df.set_index('image_path').to_dict()['label']\n",
    "\n",
    "# Save the dataframes to CSV files\n",
    "train_df.to_csv('train_image_labels.csv', index=False)\n",
    "validation_df.to_csv('validation_image_labels.csv', index=False)\n",
    "test_df.to_csv('test_image_labels.csv', index=False)"
   ]
  },
  {
   "cell_type": "code",
   "execution_count": 8,
   "id": "6670e1d0",
   "metadata": {},
   "outputs": [
    {
     "name": "stdout",
     "output_type": "stream",
     "text": [
      "Train dataset length: 3000\n",
      "Validation dataset length: 1000\n",
      "Test dataset length: 1000\n",
      "Combined dataset length: 5000\n",
      "Train label dictionary length: 3000\n",
      "Validation label dictionary length: 1000\n",
      "Test label dictionary length: 1000\n",
      "\n",
      "First 5 entries of the Train Label Dictionary:\n",
      "test/739_3.png: TO\n",
      "train/5080_22.png: MEN\n",
      "train/2383_5.png: MOOD\n",
      "train/2626_3.png: 32\n",
      "test/5027_6.png: COMEDIE\n",
      "\n",
      "First 5 entries of the Validation Label Dictionary:\n",
      "test/433_6.png: BANKING\n",
      "test/2036_1.png: CHANGE\n",
      "train/819_1.png: ISNT\n",
      "test/2599_2.png: 020\n",
      "test/688_6.png: COP\n",
      "\n",
      "First 5 entries of the Test Label Dictionary:\n",
      "train/995_1.png: THATS\n",
      "train/2192_3.png: FUTURE\n",
      "test/1065_6.png: M\n",
      "train/5017_11.png: RICHARD\n",
      "train/958_2.png: BANKING\n"
     ]
    }
   ],
   "source": [
    "# Print the lengths\n",
    "train_length = len(train_df)\n",
    "validation_length = len(validation_df)\n",
    "test_length = len(test_df)\n",
    "combined_length = train_length + validation_length + test_length\n",
    "\n",
    "print(\"Train dataset length:\", train_length)\n",
    "print(\"Validation dataset length:\", validation_length)\n",
    "print(\"Test dataset length:\", test_length)\n",
    "print(\"Combined dataset length:\", combined_length)\n",
    "print(\"Train label dictionary length:\", len(train_label_dict))\n",
    "print(\"Validation label dictionary length:\", len(validation_label_dict))\n",
    "print(\"Test label dictionary length:\", len(test_label_dict))\n",
    "\n",
    "# Print the first 5 entries of the dictionaries\n",
    "train_label_dict_first_5 = dict(list(train_label_dict.items())[:5])\n",
    "validation_label_dict_first_5 = dict(list(validation_label_dict.items())[:5])\n",
    "test_label_dict_first_5 = dict(list(test_label_dict.items())[:5])\n",
    "\n",
    "print(\"\\nFirst 5 entries of the Train Label Dictionary:\")\n",
    "for key, value in train_label_dict_first_5.items():\n",
    "    print(f\"{key}: {value}\")\n",
    "\n",
    "print(\"\\nFirst 5 entries of the Validation Label Dictionary:\")\n",
    "for key, value in validation_label_dict_first_5.items():\n",
    "    print(f\"{key}: {value}\")\n",
    "\n",
    "print(\"\\nFirst 5 entries of the Test Label Dictionary:\")\n",
    "for key, value in test_label_dict_first_5.items():\n",
    "    print(f\"{key}: {value}\")"
   ]
  },
  {
   "cell_type": "code",
   "execution_count": 10,
   "id": "f04c0c87",
   "metadata": {},
   "outputs": [
    {
     "name": "stdout",
     "output_type": "stream",
     "text": [
      "(24, 57, 3)\n"
     ]
    },
    {
     "data": {
      "image/png": "[encoded data removed]",
      "text/plain": [
       "<Figure size 640x480 with 1 Axes>"
      ]
     },
     "metadata": {},
     "output_type": "display_data"
    }
   ],
   "source": [
    "import cv2\n",
    "import matplotlib.pyplot as plt\n",
    "img = cv2.imread('train/2463_1.png')\n",
    "\n",
    "cv2.imshow('image', img)\n",
    "plt.imshow(img)\n",
    "print(img.shape)"
   ]
  }
 ],
 "metadata": {
  "kernelspec": {
   "display_name": "collegeEnv",
   "language": "python",
   "name": "python3"
  },
  "language_info": {
   "codemirror_mode": {
    "name": "ipython",
    "version": 3
   },
   "file_extension": ".py",
   "mimetype": "text/x-python",
   "name": "python",
   "nbconvert_exporter": "python",
   "pygments_lexer": "ipython3",
   "version": "3.10.13"
  }
 },
 "nbformat": 4,
 "nbformat_minor": 5
}
