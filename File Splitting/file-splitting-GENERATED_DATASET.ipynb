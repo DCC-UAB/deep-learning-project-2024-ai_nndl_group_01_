{
 "cells": [
  {
   "cell_type": "markdown",
   "metadata": {},
   "source": [
    "## Generate .csv image_path/label on the Generated Dataset"
   ]
  },
  {
   "cell_type": "code",
   "execution_count": 3,
   "metadata": {},
   "outputs": [],
   "source": [
    "import os\n",
    "import pandas as pd\n",
    "\n",
    "# Function to extract image filenames and labels from a folder\n",
    "def extract_image_filenames_and_labels(folder_name):\n",
    "    filenames = []\n",
    "    labels = []\n",
    "    for root, dirs, files in os.walk(folder_name):\n",
    "        for file in files:\n",
    "            if file.endswith('.jpg'):\n",
    "                filenames.append(file)\n",
    "                label = file.split('_')[1].split('.jpg')[0]\n",
    "                labels.append(label)\n",
    "    return filenames, labels\n",
    "\n",
    "# Extract train and test data\n",
    "train_filenames, train_labels = extract_image_filenames_and_labels('/home/xnmaster/DlProject/deep-learning-project-2024-ai_nndl_group_01_/Generate Dataset/Gen_Train_Def')\n",
    "test_filenames, test_labels = extract_image_filenames_and_labels('/home/xnmaster/DlProject/deep-learning-project-2024-ai_nndl_group_01_/Generate Dataset/Gen_Test_Def')\n",
    "\n",
    "# Create separate dataframes for train and test data\n",
    "train_df = pd.DataFrame({'filename': train_filenames, 'label': train_labels})\n",
    "test_df = pd.DataFrame({'filename': test_filenames, 'label': test_labels})\n",
    "\n",
    "# Save the dataframes to CSV files\n",
    "train_df.to_csv('train_FINAL.csv', index=False)\n",
    "test_df.to_csv('test_FINAL.csv', index=False)"
   ]
  },
  {
   "cell_type": "code",
   "execution_count": 2,
   "metadata": {},
   "outputs": [
    {
     "name": "stdout",
     "output_type": "stream",
     "text": [
      "Train dataset length: 50000\n",
      "Test dataset length: 5000\n",
      "Combined dataset length: 55000\n"
     ]
    }
   ],
   "source": [
    "# Print the lengths\n",
    "train_length = len(train_df)\n",
    "test_length = len(test_df)\n",
    "combined_length = train_length + test_length\n",
    "\n",
    "print(\"Train dataset length:\", train_length)\n",
    "print(\"Test dataset length:\", test_length)\n",
    "print(\"Combined dataset length:\", combined_length)"
   ]
  }
 ],
 "metadata": {
  "kernelspec": {
   "display_name": "azureml_py38_PT_and_TF",
   "language": "python",
   "name": "python3"
  },
  "language_info": {
   "codemirror_mode": {
    "name": "ipython",
    "version": 3
   },
   "file_extension": ".py",
   "mimetype": "text/x-python",
   "name": "python",
   "nbconvert_exporter": "python",
   "pygments_lexer": "ipython3",
   "version": "3.8.5"
  }
 },
 "nbformat": 4,
 "nbformat_minor": 2
}
